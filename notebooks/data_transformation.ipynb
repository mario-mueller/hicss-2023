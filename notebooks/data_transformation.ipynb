{
 "cells": [
  {
   "cell_type": "code",
   "execution_count": 3,
   "metadata": {},
   "outputs": [],
   "source": [
    "import os\n",
    "import datetime\n",
    "import pytz\n",
    "import pickle\n",
    "import numpy as np\n",
    "import pandas as pd\n",
    "import networkx as nx\n",
    "from dotenv import find_dotenv, load_dotenv\n",
    "from dateutil.parser import parse\n",
    "from dateutil.relativedelta import relativedelta\n",
    "from neo4j import GraphDatabase\n",
    "from tqdm.notebook import tqdm"
   ]
  },
  {
   "cell_type": "markdown",
   "metadata": {},
   "source": [
    "## Database Connection"
   ]
  },
  {
   "cell_type": "code",
   "execution_count": 4,
   "metadata": {},
   "outputs": [],
   "source": [
    "def initialize_driver():\n",
    "    load_dotenv(find_dotenv())\n",
    "\n",
    "    # Get env variables\n",
    "    uri = os.getenv(\"NEO4J_URI\")\n",
    "    user = os.getenv(\"NEO4J_USERNAME\")\n",
    "    password = os.getenv(\"NEO4J_PASSWORD\")\n",
    "\n",
    "    return GraphDatabase.driver(uri, auth=(user, password),\n",
    "                                encrypted=False,\n",
    "                                max_connection_lifetime=3600)\n",
    "\n",
    "driver = initialize_driver()"
   ]
  },
  {
   "cell_type": "markdown",
   "metadata": {},
   "source": [
    "## Observations"
   ]
  },
  {
   "cell_type": "code",
   "execution_count": 5,
   "metadata": {},
   "outputs": [
    {
     "name": "stdout",
     "output_type": "stream",
     "text": [
      "1 2021-03-01\n",
      "2 2021-04-01\n",
      "3 2021-05-01\n",
      "4 2021-06-01\n",
      "5 2021-07-01\n",
      "6 2021-08-01\n",
      "7 2021-09-01\n",
      "8 2021-10-01\n"
     ]
    }
   ],
   "source": [
    "# Set periods for iteration\n",
    "OBSERVATION_START = '2021-02-01'  # First date of observation period\n",
    "DATE_START = '2021-03-01'  # Date of the first snapshot\n",
    "DATE_END = '2021-10-01'  # Date of the last snapshot\n",
    "PERIOD_LENGTH = relativedelta(months=1)  # Time between snapshots\n",
    "\n",
    "def create_observations():\n",
    "    period = DATE_START\n",
    "    periods = []\n",
    "    obs = 0\n",
    "    while period <= DATE_END:\n",
    "        periods.append(period)\n",
    "        next_period = (parse(period) + PERIOD_LENGTH).strftime(\"%Y-%m-%d\")\n",
    "        period = next_period\n",
    "        obs += 1\n",
    "\n",
    "    observations = periods\n",
    "\n",
    "    [print(i+1, obs) for i, obs in enumerate(observations)]\n",
    "\n",
    "    return observations\n",
    "\n",
    "observations = create_observations()"
   ]
  },
  {
   "cell_type": "markdown",
   "metadata": {},
   "source": [
    "## Sampling & Nodelists"
   ]
  },
  {
   "cell_type": "code",
   "execution_count": 6,
   "metadata": {},
   "outputs": [],
   "source": [
    "SAMPLE_SIZE = 100"
   ]
  },
  {
   "cell_type": "markdown",
   "metadata": {},
   "source": [
    "### Packages"
   ]
  },
  {
   "cell_type": "code",
   "execution_count": 7,
   "metadata": {},
   "outputs": [],
   "source": [
    "def get_packages(driver, date):\n",
    "    with driver.session(database='main') as session:\n",
    "        query = \"\"\"\n",
    "                MATCH (pa:Package)-[r:DEVELOPED_AT]->(pr:Project)\n",
    "                WITH pr, COUNT(r) AS num_pkgs\n",
    "                WHERE num_pkgs = 1\n",
    "                WITH pr\n",
    "                MATCH (pa:Package)-[r:DEVELOPED_AT]->(pr)\n",
    "                WHERE pa.created < DateTime($date)\n",
    "                RETURN pa.name AS name,\n",
    "                       pa.repo_name AS repo_name,\n",
    "                       pa.repo_owner AS repo_owner,\n",
    "                       toString(pa.created) AS created\n",
    "                \"\"\"\n",
    "        \n",
    "        results = session.run(query, date=date).data()\n",
    "    \n",
    "        packages = pd.DataFrame.from_dict(results)\n",
    "        packages['created'] = pd.to_datetime(packages['created'])\n",
    "        packages['observation'] = pd.to_datetime(date)\n",
    "    \n",
    "    return packages"
   ]
  },
  {
   "cell_type": "code",
   "execution_count": 8,
   "metadata": {},
   "outputs": [],
   "source": [
    "def get_repository_activity(repository, start, end):\n",
    "    with driver.session(database='main') as session:\n",
    "        query_comments = \"\"\"\n",
    "            MATCH (c:Comment)-[*2]->(r:Repository)\n",
    "            WHERE r.name = toString($repository)\n",
    "            AND c.created >= datetime($start)\n",
    "            AND c.created < datetime($end)\n",
    "            RETURN count(c)\n",
    "            \"\"\"\n",
    "        \n",
    "        query_issues = \"\"\"\n",
    "            MATCH (u:User)-[a]->(:Issue)-[:RELATED_TO]->(r:Repository)\n",
    "            WHERE r.name = toString($repository)\n",
    "            AND a.created >= datetime($start)\n",
    "            AND a.created < datetime($end)\n",
    "            RETURN count(a)\n",
    "            \"\"\"\n",
    "\n",
    "        query_pullreq = \"\"\"\n",
    "            MATCH (u:User)-[a]->(:PullRequest)-[:RELATED_TO]->(r:Repository)\n",
    "            WHERE r.name = toString($repository)\n",
    "            AND a.created >= datetime($start)\n",
    "            AND a.created < datetime($end)\n",
    "            RETURN count(a)\n",
    "            \"\"\"\n",
    "\n",
    "        query_commits = \"\"\"\n",
    "            MATCH (u:User)-[a]->(c:Commit)-[:RELATED_TO]->(r:Repository)\n",
    "            WHERE r.name = toString($repository)\n",
    "            AND a.created >= datetime($start)\n",
    "            AND a.created < datetime($end)\n",
    "            RETURN count(c)\n",
    "            \"\"\"\n",
    "\n",
    "        results_comments = session.run(\n",
    "            query_comments, repository=repository, start=start, end=end).single().value()\n",
    "        results_issues = session.run(\n",
    "            query_issues, repository=repository, start=start, end=end).single().value()\n",
    "        results_pullreq = session.run(\n",
    "            query_pullreq, repository=repository, start=start, end=end).single().value()\n",
    "        results_commits = session.run(\n",
    "            query_commits, repository=repository, start=start, end=end).single().value()\n",
    "\n",
    "        activity_count = results_comments + results_issues + results_pullreq + results_commits\n",
    "\n",
    "        return activity_count"
   ]
  },
  {
   "cell_type": "code",
   "execution_count": 9,
   "metadata": {},
   "outputs": [
    {
     "data": {
      "application/vnd.jupyter.widget-view+json": {
       "model_id": "8321e3d8aae241f78d982f84dd3c8722",
       "version_major": 2,
       "version_minor": 0
      },
      "text/plain": [
       "  0%|          | 0/8085 [00:00<?, ?it/s]"
      ]
     },
     "metadata": {},
     "output_type": "display_data"
    }
   ],
   "source": [
    "def get_package_sample():\n",
    "    packages = get_packages(driver, OBSERVATION_START)\n",
    "    \n",
    "    # Get activity for each observation period\n",
    "    for index, row in tqdm(packages.iterrows(), total=len(packages.index)):\n",
    "        for i, obs in enumerate(observations):\n",
    "            if i == 0:\n",
    "                packages.loc[index, \"_\".join([\"act\", obs])] = int(get_repository_activity(row['repo_name'], OBSERVATION_START, obs))\n",
    "            else:\n",
    "                packages.loc[index, \"_\".join([\"act\", obs])] = int(get_repository_activity(row['repo_name'], observations[i-1], obs))\n",
    "\n",
    "    # Filter active packages\n",
    "    act_columns = [\"_\".join([\"act\", obs]) for obs in observations]\n",
    "    active_packages = packages[packages[act_columns].all(axis=\"columns\")].copy()\n",
    "\n",
    "    sample_pkgs = active_packages.sample(n=SAMPLE_SIZE, random_state=17, ignore_index=True)\n",
    "    nodelist_pkgs = [\"_\".join([\"pkg\", name]) for name in sample_pkgs['name'].tolist()]\n",
    "\n",
    "    nodelist = pd.DataFrame(nodelist_pkgs, columns=['id'])\n",
    "    nodelist.to_csv('../data/nodelists/packages.csv', index=False)\n",
    "\n",
    "    return sample_pkgs, nodelist_pkgs\n",
    "    \n",
    "sample_pkgs, nodelist_pkgs = get_package_sample()"
   ]
  },
  {
   "cell_type": "markdown",
   "metadata": {},
   "source": [
    "### Developer"
   ]
  },
  {
   "cell_type": "code",
   "execution_count": 10,
   "metadata": {},
   "outputs": [],
   "source": [
    "def get_developers(driver, repository, start, end):\n",
    "    with driver.session(database='main') as session:\n",
    "        query_comments = \"\"\"\n",
    "            MATCH (u:User)-[p:POSTED]->(c:Comment)-[*2]->(r:Repository)\n",
    "            WHERE r.name = toString($repository)\n",
    "            AND c.created >= datetime($start)\n",
    "            AND c.created < datetime($end)\n",
    "            AND u.type <> \"Bot\"\n",
    "            AND NOT u.login CONTAINS \"[bot]\"\n",
    "            RETURN DISTINCT u.login AS login\n",
    "            \"\"\"\n",
    "                \n",
    "        query_issues = \"\"\"\n",
    "            MATCH (u:User)-[a]->(:Issue)-[:RELATED_TO]->(r:Repository)\n",
    "            WHERE r.name = toString($repository)\n",
    "            AND a.created >= datetime($start)\n",
    "            AND a.created < datetime($end)\n",
    "            AND u.type <> \"Bot\"\n",
    "            AND NOT u.login CONTAINS \"[bot]\"\n",
    "            RETURN DISTINCT u.login AS login\n",
    "            \"\"\"\n",
    "\n",
    "        query_pullreq = \"\"\"\n",
    "            MATCH (u:User)-[a]->(:PullRequest)-[:RELATED_TO]->(r:Repository)\n",
    "            WHERE r.name = toString($repository)\n",
    "            AND a.created >= datetime($start)\n",
    "            AND a.created < datetime($end)\n",
    "            AND u.type <> \"Bot\"\n",
    "            AND NOT u.login CONTAINS \"[bot]\"\n",
    "            RETURN DISTINCT u.login AS login\n",
    "            \"\"\"\n",
    "\n",
    "        query_commits = \"\"\"\n",
    "            MATCH (u:User)-[a]->(:Commit)-[:RELATED_TO]->(r:Repository)\n",
    "            WHERE r.name = toString($repository)\n",
    "            AND a.created >= datetime($start)\n",
    "            AND a.created < datetime($end)\n",
    "            AND u.type <> \"Bot\"\n",
    "            AND NOT u.login CONTAINS \"[bot]\"\n",
    "            RETURN DISTINCT u.login AS login\n",
    "            \"\"\"\n",
    "\n",
    "        results_comments = session.run(\n",
    "            query_comments, repository=repository, start=start, end=end).data()\n",
    "        results_issues = session.run(\n",
    "            query_issues, repository=repository, start=start, end=end).data()\n",
    "        results_pullreq = session.run(\n",
    "            query_pullreq, repository=repository, start=start, end=end).data()\n",
    "        results_commits = session.run(\n",
    "            query_commits, repository=repository, start=start, end=end).data()\n",
    "\n",
    "        comments = pd.DataFrame.from_dict(results_comments)        \n",
    "        issues = pd.DataFrame.from_dict(results_issues)\n",
    "        pullreqs = pd.DataFrame.from_dict(results_pullreq)\n",
    "        commits = pd.DataFrame.from_dict(results_commits)\n",
    "\n",
    "        developers = pd.concat([comments, issues, pullreqs, commits], axis=0, ignore_index=True)\n",
    "        developers.drop_duplicates(subset=['login'], inplace=True)\n",
    "\n",
    "    return developers"
   ]
  },
  {
   "cell_type": "code",
   "execution_count": 11,
   "metadata": {},
   "outputs": [],
   "source": [
    "def get_developer_activity_in_repositories(developer, repositories, start, end):\n",
    "    with driver.session(database='main') as session:\n",
    "        query_comments = \"\"\"\n",
    "            MATCH (u:User)-[p:POSTED]->(c:Comment)-[*2]->(r:Repository)\n",
    "            WHERE u.login = toString($developer)\n",
    "            AND c.created >= datetime($start)\n",
    "            AND c.created < datetime($end)\n",
    "            AND r.name IN $repositories\n",
    "            RETURN count(c)\n",
    "            \"\"\"\n",
    "        \n",
    "        query_issues = \"\"\"\n",
    "            MATCH (u:User)-[a]->(:Issue)-[:RELATED_TO]->(r:Repository)\n",
    "            WHERE u.login = toString($developer)\n",
    "            AND a.created >= datetime($start)\n",
    "            AND a.created < datetime($end)\n",
    "            AND r.name IN $repositories\n",
    "            RETURN count(a)\n",
    "            \"\"\"\n",
    "\n",
    "        query_pullreq = \"\"\"\n",
    "            MATCH (u:User)-[a]->(:PullRequest)-[:RELATED_TO]->(r:Repository)\n",
    "            WHERE u.login = toString($developer)\n",
    "            AND a.created >= datetime($start)\n",
    "            AND a.created < datetime($end)\n",
    "            AND r.name IN $repositories\n",
    "            RETURN count(a)\n",
    "            \"\"\"\n",
    "\n",
    "        query_commits = \"\"\"\n",
    "            MATCH (u:User)-[a]->(c:Commit)-[:RELATED_TO]->(r:Repository)\n",
    "            WHERE u.login = toString($developer)\n",
    "            AND a.created >= datetime($start)\n",
    "            AND a.created < datetime($end)\n",
    "            AND r.name IN $repositories\n",
    "            RETURN count(c)\n",
    "            \"\"\"\n",
    "\n",
    "        results_comments = session.run(\n",
    "            query_comments, developer=developer, repositories=repositories, start=start, end=end).single().value()\n",
    "        results_issues = session.run(\n",
    "            query_issues, developer=developer, repositories=repositories, start=start, end=end).single().value()\n",
    "        results_pullreq = session.run(\n",
    "            query_pullreq, developer=developer, repositories=repositories, start=start, end=end).single().value()\n",
    "        results_commits = session.run(\n",
    "            query_commits, developer=developer, repositories=repositories, start=start, end=end).single().value()\n",
    "\n",
    "        activity_count = results_comments + results_issues + results_pullreq + results_commits\n",
    "\n",
    "        return activity_count"
   ]
  },
  {
   "cell_type": "code",
   "execution_count": 12,
   "metadata": {},
   "outputs": [
    {
     "data": {
      "application/vnd.jupyter.widget-view+json": {
       "model_id": "841c81a1a429476583be3a6558ed3a0d",
       "version_major": 2,
       "version_minor": 0
      },
      "text/plain": [
       "  0%|          | 0/100 [00:00<?, ?it/s]"
      ]
     },
     "metadata": {},
     "output_type": "display_data"
    },
    {
     "data": {
      "application/vnd.jupyter.widget-view+json": {
       "model_id": "9d0c46e33e70478e863fb85bdadf52f0",
       "version_major": 2,
       "version_minor": 0
      },
      "text/plain": [
       "  0%|          | 0/8675 [00:00<?, ?it/s]"
      ]
     },
     "metadata": {},
     "output_type": "display_data"
    }
   ],
   "source": [
    "def get_developer_sample():\n",
    "    repo_names = sample_pkgs['repo_name'].tolist()\n",
    "    developers = []\n",
    "    for repo in tqdm(repo_names):\n",
    "        repo_devs = get_developers(driver, repo, OBSERVATION_START, DATE_END)\n",
    "        developers.extend(repo_devs.to_dict(orient=\"records\"))\n",
    "\n",
    "    devs = pd.DataFrame.from_records(developers)\n",
    "    devs_sample = devs.drop_duplicates(subset=['login']).copy()\n",
    "    \n",
    "    # Get developer activities to filter later\n",
    "    for index, row in tqdm(devs_sample.iterrows(), total=len(devs_sample.index)):\n",
    "        activity = get_developer_activity_in_repositories(row['login'], sample_pkgs['repo_name'].tolist(), OBSERVATION_START, DATE_END)\n",
    "        devs_sample.loc[index, \"activity\"] = int(activity)\n",
    "\n",
    "    # Remove developers with only 1 participation activity\n",
    "    devs_sample = devs_sample[devs_sample['activity'] > 1].copy()\n",
    "\n",
    "    logins_sample = devs_sample['login'].unique().tolist()\n",
    "    nodelist_devs = [\"_\".join([\"dev\", name]) for name in logins_sample]\n",
    "\n",
    "    nodelist = pd.DataFrame(nodelist_devs, columns=['id'])\n",
    "    nodelist.to_csv('../data/nodelists/developers.csv', index=False)\n",
    "    \n",
    "    return devs_sample, nodelist_devs\n",
    "\n",
    "sample_devs, nodelist_devs = get_developer_sample()"
   ]
  },
  {
   "cell_type": "markdown",
   "metadata": {},
   "source": [
    "## Networks"
   ]
  },
  {
   "cell_type": "markdown",
   "metadata": {},
   "source": [
    "### Dependencies"
   ]
  },
  {
   "cell_type": "code",
   "execution_count": 13,
   "metadata": {},
   "outputs": [],
   "source": [
    "def get_latest_version(driver, package, date):\n",
    "    with driver.session(database='main') as session:\n",
    "        query = \"\"\"\n",
    "                OPTIONAL MATCH (p:Package { id: $package })-[:RELEASED]->(v:Version)\n",
    "                WHERE v.created < DateTime($date)\n",
    "                AND NOT v.number CONTAINS \"-\"\n",
    "                RETURN p.name AS name,\n",
    "                       v.id AS version_id,\n",
    "                       v.number AS version,\n",
    "                       v.license AS license,\n",
    "                       toString(v.created) AS version_created\n",
    "                ORDER BY v.created DESC\n",
    "                LIMIT 1\n",
    "                \"\"\"\n",
    "        return session.run(query, package=package, date=date).data()"
   ]
  },
  {
   "cell_type": "code",
   "execution_count": 14,
   "metadata": {},
   "outputs": [],
   "source": [
    "def get_dependencies(driver, version_ids):\n",
    "    with driver.session(database='main') as session:\n",
    "        query = \"\"\"\n",
    "                UNWIND $versions AS version\n",
    "                MATCH (v:Version { id: version })-[d:DEPENDS_ON]->(p:Package)\n",
    "                RETURN v.package_id AS source,\n",
    "                       p.id AS target,\n",
    "                       d.requirements AS requirements,\n",
    "                       toString(v.created) AS created\n",
    "                \"\"\"\n",
    "\n",
    "        results = session.run(query, versions=version_ids).data()\n",
    "\n",
    "        dependencies = pd.DataFrame.from_dict(results)\n",
    "        dependencies['created'] = pd.to_datetime(dependencies['created'])\n",
    "\n",
    "    return dependencies"
   ]
  },
  {
   "cell_type": "code",
   "execution_count": 15,
   "metadata": {},
   "outputs": [
    {
     "data": {
      "application/vnd.jupyter.widget-view+json": {
       "model_id": "0a90bd03317344a4ad1695e934613ddb",
       "version_major": 2,
       "version_minor": 0
      },
      "text/plain": [
       "  0%|          | 0/8 [00:00<?, ?it/s]"
      ]
     },
     "metadata": {},
     "output_type": "display_data"
    },
    {
     "data": {
      "application/vnd.jupyter.widget-view+json": {
       "model_id": "bcceee2dfbe74e3bae5a93b38db14962",
       "version_major": 2,
       "version_minor": 0
      },
      "text/plain": [
       "  0%|          | 0/8099 [00:00<?, ?it/s]"
      ]
     },
     "metadata": {},
     "output_type": "display_data"
    },
    {
     "data": {
      "application/vnd.jupyter.widget-view+json": {
       "model_id": "4296037b15574501b47ad469867b8d38",
       "version_major": 2,
       "version_minor": 0
      },
      "text/plain": [
       "  0%|          | 0/8108 [00:00<?, ?it/s]"
      ]
     },
     "metadata": {},
     "output_type": "display_data"
    },
    {
     "data": {
      "application/vnd.jupyter.widget-view+json": {
       "model_id": "7b2a5544e5404ddeb6db1aa158fb6d60",
       "version_major": 2,
       "version_minor": 0
      },
      "text/plain": [
       "  0%|          | 0/8123 [00:00<?, ?it/s]"
      ]
     },
     "metadata": {},
     "output_type": "display_data"
    },
    {
     "data": {
      "application/vnd.jupyter.widget-view+json": {
       "model_id": "6b42eb77299945d3867a4acab0ff9bb8",
       "version_major": 2,
       "version_minor": 0
      },
      "text/plain": [
       "  0%|          | 0/8134 [00:00<?, ?it/s]"
      ]
     },
     "metadata": {},
     "output_type": "display_data"
    },
    {
     "data": {
      "application/vnd.jupyter.widget-view+json": {
       "model_id": "35c9d91275014679ae28ddeeaa4ffbcc",
       "version_major": 2,
       "version_minor": 0
      },
      "text/plain": [
       "  0%|          | 0/8141 [00:00<?, ?it/s]"
      ]
     },
     "metadata": {},
     "output_type": "display_data"
    },
    {
     "data": {
      "application/vnd.jupyter.widget-view+json": {
       "model_id": "410a83912ef44c558d94cd8f356cf413",
       "version_major": 2,
       "version_minor": 0
      },
      "text/plain": [
       "  0%|          | 0/8155 [00:00<?, ?it/s]"
      ]
     },
     "metadata": {},
     "output_type": "display_data"
    },
    {
     "data": {
      "application/vnd.jupyter.widget-view+json": {
       "model_id": "c1c3c012a1c4474e81ec7f505cb19d40",
       "version_major": 2,
       "version_minor": 0
      },
      "text/plain": [
       "  0%|          | 0/8171 [00:00<?, ?it/s]"
      ]
     },
     "metadata": {},
     "output_type": "display_data"
    },
    {
     "data": {
      "application/vnd.jupyter.widget-view+json": {
       "model_id": "3364779107754d02b2bb49bebf6bb7ae",
       "version_major": 2,
       "version_minor": 0
      },
      "text/plain": [
       "  0%|          | 0/8180 [00:00<?, ?it/s]"
      ]
     },
     "metadata": {},
     "output_type": "display_data"
    }
   ],
   "source": [
    "def create_dependency_networks():\n",
    "    # Create dependency networks for each observation\n",
    "    dependency_networks = []\n",
    "\n",
    "    with tqdm(total=len(observations)) as pbar:\n",
    "        for obs in observations:\n",
    "            packages = get_packages(driver, obs)\n",
    "\n",
    "            latest_versions = []\n",
    "            for package in tqdm(packages['name'].tolist(), leave=False):\n",
    "                latest_version = get_latest_version(driver, package, obs)\n",
    "                try:\n",
    "                    latest_versions.append(latest_version[0])\n",
    "                except KeyError:\n",
    "                    pass  # Package has no version\n",
    "\n",
    "            versions = pd.DataFrame.from_records(latest_versions)\n",
    "            versions['version_created'] = pd.to_datetime(versions['version_created'])\n",
    "\n",
    "            packages = packages.merge(versions, how=\"left\", on=['name'])\n",
    "            dependencies = get_dependencies(driver, packages['version_id'].tolist())\n",
    "\n",
    "            # Add prefix to match nodelist\n",
    "            dependencies['source'] = \"pkg_\" + dependencies['source']\n",
    "            dependencies['target'] = \"pkg_\" + dependencies['target']\n",
    "\n",
    "            edgelist = list(zip(dependencies['source'], dependencies['target']))\n",
    "\n",
    "            G = nx.DiGraph()\n",
    "            G.add_nodes_from(nodelist_pkgs)\n",
    "            G.add_edges_from(edgelist)\n",
    "\n",
    "            dependency_networks.append(G)\n",
    "\n",
    "            nx.write_edgelist(G, '../data/edgelists/dependency_network-{0}.edgelist'.format(obs), delimiter=\",\", data=False)\n",
    "            nx.write_gpickle(G, '../data/networks/dependency_network-{0}.pkl'.format(obs))\n",
    "            nx.write_gml(G, '../data/networks/dependency_network-{0}.gml'.format(obs))\n",
    "\n",
    "            pbar.update()\n",
    "        pbar.close()\n",
    "    return dependency_networks\n",
    "\n",
    "dependency_networks = create_dependency_networks()"
   ]
  },
  {
   "cell_type": "markdown",
   "metadata": {},
   "source": [
    "### Affiliations"
   ]
  },
  {
   "cell_type": "code",
   "execution_count": 16,
   "metadata": {},
   "outputs": [],
   "source": [
    "def get_developer_affiliations(developer, start, end):\n",
    "    with driver.session(database='main') as session:\n",
    "        query_comments = \"\"\"\n",
    "            MATCH (u:User)-[p:POSTED]->(c:Comment)-[*2]->(r:Repository)\n",
    "            WHERE u.login = toString($developer)\n",
    "            AND c.created >= datetime($start)\n",
    "            AND c.created < datetime($end)\n",
    "            RETURN DISTINCT r.name AS repo_name\n",
    "            \"\"\"\n",
    "                \n",
    "        query_issues = \"\"\"\n",
    "            MATCH (u:User)-[a]->(:Issue)-[:RELATED_TO]->(r:Repository)\n",
    "            WHERE u.login = toString($developer)\n",
    "            AND a.created >= datetime($start)\n",
    "            AND a.created < datetime($end)\n",
    "            RETURN DISTINCT r.name AS repo_name\n",
    "            \"\"\"\n",
    "\n",
    "        query_pullreq = \"\"\"\n",
    "            MATCH (u:User)-[a]->(:PullRequest)-[:RELATED_TO]->(r:Repository)\n",
    "            WHERE u.login = toString($developer)\n",
    "            AND a.created >= datetime($start)\n",
    "            AND a.created < datetime($end)\n",
    "            RETURN DISTINCT r.name AS repo_name\n",
    "            \"\"\"\n",
    "\n",
    "        query_commits = \"\"\"\n",
    "            MATCH (u:User)-[a]->(:Commit)-[:RELATED_TO]->(r:Repository)\n",
    "            WHERE u.login = toString($developer)\n",
    "            AND a.created >= datetime($start)\n",
    "            AND a.created < datetime($end)\n",
    "            RETURN DISTINCT r.name AS repo_name\n",
    "            \"\"\"\n",
    "\n",
    "        results_comments = session.run(\n",
    "            query_comments, developer=developer, start=start, end=end).data()\n",
    "        results_issues = session.run(\n",
    "            query_issues, developer=developer, start=start, end=end).data()\n",
    "        results_pullreq = session.run(\n",
    "            query_pullreq, developer=developer, start=start, end=end).data()\n",
    "        results_commits = session.run(\n",
    "            query_commits, developer=developer, start=start, end=end).data()\n",
    "\n",
    "        comments = pd.DataFrame.from_dict(results_comments)        \n",
    "        issues = pd.DataFrame.from_dict(results_issues)\n",
    "        pullreqs = pd.DataFrame.from_dict(results_pullreq)\n",
    "        commits = pd.DataFrame.from_dict(results_commits)\n",
    "\n",
    "        repositories = pd.concat([comments, issues, pullreqs, commits], axis=0, ignore_index=True)\n",
    "        repositories.drop_duplicates(subset=['repo_name'], inplace=True)\n",
    "\n",
    "    return repositories"
   ]
  },
  {
   "cell_type": "code",
   "execution_count": 17,
   "metadata": {},
   "outputs": [
    {
     "data": {
      "application/vnd.jupyter.widget-view+json": {
       "model_id": "6a58bae447e0486f935a075310a2e73a",
       "version_major": 2,
       "version_minor": 0
      },
      "text/plain": [
       "  0%|          | 0/8 [00:00<?, ?it/s]"
      ]
     },
     "metadata": {},
     "output_type": "display_data"
    },
    {
     "data": {
      "application/vnd.jupyter.widget-view+json": {
       "model_id": "4a7cec911fbd40048a03a3a948a761d2",
       "version_major": 2,
       "version_minor": 0
      },
      "text/plain": [
       "  0%|          | 0/3689 [00:00<?, ?it/s]"
      ]
     },
     "metadata": {},
     "output_type": "display_data"
    },
    {
     "data": {
      "application/vnd.jupyter.widget-view+json": {
       "model_id": "1e87157aaba34e17a99afede0a848983",
       "version_major": 2,
       "version_minor": 0
      },
      "text/plain": [
       "  0%|          | 0/3689 [00:00<?, ?it/s]"
      ]
     },
     "metadata": {},
     "output_type": "display_data"
    },
    {
     "data": {
      "application/vnd.jupyter.widget-view+json": {
       "model_id": "4586f7646ab84e09b62fa8edb08da3e3",
       "version_major": 2,
       "version_minor": 0
      },
      "text/plain": [
       "  0%|          | 0/3689 [00:00<?, ?it/s]"
      ]
     },
     "metadata": {},
     "output_type": "display_data"
    },
    {
     "data": {
      "application/vnd.jupyter.widget-view+json": {
       "model_id": "d5d3c6018ac04a71a16b0c9890e85092",
       "version_major": 2,
       "version_minor": 0
      },
      "text/plain": [
       "  0%|          | 0/3689 [00:00<?, ?it/s]"
      ]
     },
     "metadata": {},
     "output_type": "display_data"
    },
    {
     "data": {
      "application/vnd.jupyter.widget-view+json": {
       "model_id": "2f238d6f023e4b409fe915ef044df32d",
       "version_major": 2,
       "version_minor": 0
      },
      "text/plain": [
       "  0%|          | 0/3689 [00:00<?, ?it/s]"
      ]
     },
     "metadata": {},
     "output_type": "display_data"
    },
    {
     "data": {
      "application/vnd.jupyter.widget-view+json": {
       "model_id": "49f906fde53849488dced1726de99472",
       "version_major": 2,
       "version_minor": 0
      },
      "text/plain": [
       "  0%|          | 0/3689 [00:00<?, ?it/s]"
      ]
     },
     "metadata": {},
     "output_type": "display_data"
    },
    {
     "data": {
      "application/vnd.jupyter.widget-view+json": {
       "model_id": "7313b7118e404e2aae34f7d75eb50b6e",
       "version_major": 2,
       "version_minor": 0
      },
      "text/plain": [
       "  0%|          | 0/3689 [00:00<?, ?it/s]"
      ]
     },
     "metadata": {},
     "output_type": "display_data"
    },
    {
     "data": {
      "application/vnd.jupyter.widget-view+json": {
       "model_id": "1875eb1284a540f4b6d325b77cd389d5",
       "version_major": 2,
       "version_minor": 0
      },
      "text/plain": [
       "  0%|          | 0/3689 [00:00<?, ?it/s]"
      ]
     },
     "metadata": {},
     "output_type": "display_data"
    }
   ],
   "source": [
    "def create_affiliation_networks():\n",
    "    # Create affiliation networks for each observation\n",
    "    affiliation_networks = []\n",
    "\n",
    "    with tqdm(total=len(observations)) as pbar:\n",
    "        for i, obs in enumerate(observations):\n",
    "            affiliations = []\n",
    "            for dev in tqdm(sample_devs['login'].tolist(), leave=False):\n",
    "                if i == 0:\n",
    "                    dev_affiliations = get_developer_affiliations(dev, OBSERVATION_START, obs)\n",
    "                else:\n",
    "                    dev_affiliations = get_developer_affiliations(dev, observations[i-1], obs)\n",
    "                dev_affiliations['login'] = dev\n",
    "                affiliations.extend(dev_affiliations.to_dict(orient=\"records\"))\n",
    "\n",
    "            affiliations = pd.DataFrame.from_records(affiliations)\n",
    "            # Add package names to affiliation data\n",
    "            affiliations = affiliations.merge(sample_pkgs[[\"repo_name\", \"name\"]], how=\"left\", on=\"repo_name\")\n",
    "            \n",
    "            affiliations['source'] = \"dev_\" + affiliations['login']\n",
    "            affiliations['target'] = \"pkg_\" + affiliations['name']\n",
    "            \n",
    "            # Keep edges between devs and packages that are in nodelists\n",
    "            affiliations = affiliations[affiliations['source'].isin(nodelist_devs)]\n",
    "            affiliations = affiliations[affiliations['target'].isin(nodelist_pkgs)]\n",
    "\n",
    "            edgelist = list(zip(affiliations['source'], affiliations['target']))\n",
    "            \n",
    "            G = nx.DiGraph()\n",
    "            G.add_nodes_from(nodelist_devs, bipartite=0)\n",
    "            G.add_nodes_from(nodelist_pkgs, bipartite=1)\n",
    "            G.add_edges_from(edgelist)\n",
    "\n",
    "            affiliation_networks.append(G)\n",
    "\n",
    "            nx.write_edgelist(G, '../data/edgelists/affiliation_network-{0}.edgelist'.format(obs), delimiter=\",\", data=False)\n",
    "            nx.write_gpickle(G, '../data/networks/affiliation_network-{0}.pkl'.format(obs))\n",
    "            nx.write_gml(G, '../data/networks/affiliation_network-{0}.gml'.format(obs))\n",
    "\n",
    "            pbar.update()\n",
    "        pbar.close()\n",
    "\n",
    "    return affiliation_networks\n",
    "\n",
    "affiliation_networks = create_affiliation_networks()"
   ]
  },
  {
   "cell_type": "markdown",
   "metadata": {},
   "source": [
    "## Dependent Network"
   ]
  },
  {
   "cell_type": "code",
   "execution_count": 18,
   "metadata": {},
   "outputs": [
    {
     "data": {
      "application/vnd.jupyter.widget-view+json": {
       "model_id": "810292d292e0444e8a35bd0fc64d48ac",
       "version_major": 2,
       "version_minor": 0
      },
      "text/plain": [
       "  0%|          | 0/8 [00:00<?, ?it/s]"
      ]
     },
     "metadata": {},
     "output_type": "display_data"
    }
   ],
   "source": [
    "# Adjacency list for SIENA\n",
    "def create_adjacency_matrix():\n",
    "    with tqdm(total=len(observations)) as pbar:\n",
    "        for i, obs in enumerate(observations):\n",
    "            adj = nx.bipartite.biadjacency_matrix(affiliation_networks[i], row_order=nodelist_devs, column_order=nodelist_pkgs)\n",
    "            am = adj.toarray()\n",
    "            np.savetxt('../data/adjacency/net-{0}.txt'.format(obs), am, fmt='%s')\n",
    "            pbar.update()\n",
    "        pbar.close()\n",
    "\n",
    "create_adjacency_matrix()"
   ]
  },
  {
   "cell_type": "markdown",
   "metadata": {},
   "source": [
    "## Composition Change"
   ]
  },
  {
   "cell_type": "code",
   "execution_count": 19,
   "metadata": {},
   "outputs": [],
   "source": [
    "def create_composition_change():\n",
    "    # Composition changes for dependency network\n",
    "    composition = sample_devs.copy()\n",
    "    composition['name'] = \"dev_\" + composition['login']\n",
    "    composition['appearance'] = 1\n",
    "    \n",
    "    inactive_developers = []\n",
    "    for i, item in enumerate(observations):\n",
    "         # Identify developers without outdegree in first period\n",
    "        devs_degrees = dict(affiliation_networks[i].out_degree(nodelist_devs))\n",
    "        devs_degrees = pd.DataFrame.from_dict(devs_degrees, orient=\"index\", columns=[\"out\"]).reset_index()\n",
    "        devs_degrees.rename(columns={\"index\": \"name\"}, inplace=True)\n",
    "\n",
    "        if i == 0: \n",
    "            inactive_developers.append(devs_degrees[devs_degrees['out'] == 0]['name'].tolist())\n",
    "        else:\n",
    "            devs = devs_degrees[devs_degrees['out'] == 0]['name'].tolist()\n",
    "            still_inactive_developers = [dev for dev in devs if dev in inactive_developers[i-1]]\n",
    "            inactive_developers.append(still_inactive_developers)\n",
    "    \n",
    "    for j, developers in enumerate(inactive_developers):\n",
    "        composition.loc[composition['name'].isin(developers), 'appearance'] = int(j + 2)\n",
    "\n",
    "    arr = []\n",
    "    for i, row in composition.iterrows():\n",
    "        curr = [int(row['appearance']), len(observations)]\n",
    "        arr.append(curr)\n",
    "        \n",
    "    comp_arr = np.array(arr)\n",
    "    np.savetxt('../data/compositions/comp_change.txt', comp_arr, fmt='%d')\n",
    "\n",
    "create_composition_change()"
   ]
  },
  {
   "cell_type": "markdown",
   "metadata": {},
   "source": [
    "## Behavioral Variables"
   ]
  },
  {
   "cell_type": "code",
   "execution_count": 20,
   "metadata": {},
   "outputs": [],
   "source": [
    "# TODO: Define and think about what makes sense"
   ]
  },
  {
   "cell_type": "markdown",
   "metadata": {},
   "source": [
    "## Individual Variables"
   ]
  },
  {
   "cell_type": "markdown",
   "metadata": {},
   "source": [
    "### Developers"
   ]
  },
  {
   "cell_type": "markdown",
   "metadata": {},
   "source": [
    "#### Activity"
   ]
  },
  {
   "cell_type": "code",
   "execution_count": 21,
   "metadata": {},
   "outputs": [],
   "source": [
    "def get_developer_activity(developer, start, end):\n",
    "    with driver.session(database='main') as session:\n",
    "        query_comments = \"\"\"\n",
    "            MATCH (u:User)-[p:POSTED]->(c:Comment)\n",
    "            WHERE u.login = toString($developer)\n",
    "            AND c.created >= datetime($start)\n",
    "            AND c.created < datetime($end)\n",
    "            RETURN count(c)\n",
    "            \"\"\"\n",
    "        \n",
    "        query_issues = \"\"\"\n",
    "            MATCH (u:User)-[a]->(:Issue)\n",
    "            WHERE u.login = toString($developer)\n",
    "            AND a.created >= datetime($start)\n",
    "            AND a.created < datetime($end)\n",
    "            RETURN count(a)\n",
    "            \"\"\"\n",
    "\n",
    "        query_pullreq = \"\"\"\n",
    "            MATCH (u:User)-[a]->(:PullRequest)\n",
    "            WHERE u.login = toString($developer)\n",
    "            AND a.created >= datetime($start)\n",
    "            AND a.created < datetime($end)\n",
    "            RETURN count(a)\n",
    "            \"\"\"\n",
    "\n",
    "        query_commits = \"\"\"\n",
    "            MATCH (u:User)-[a]->(c:Commit)\n",
    "            WHERE u.login = toString($developer)\n",
    "            AND a.created >= datetime($start)\n",
    "            AND a.created < datetime($end)\n",
    "            RETURN count(c)\n",
    "            \"\"\"\n",
    "\n",
    "        results_comments = session.run(\n",
    "            query_comments, developer=developer, start=start, end=end).single().value()\n",
    "        results_issues = session.run(\n",
    "            query_issues, developer=developer, start=start, end=end).single().value()\n",
    "        results_pullreq = session.run(\n",
    "            query_pullreq, developer=developer, start=start, end=end).single().value()\n",
    "        results_commits = session.run(\n",
    "            query_commits, developer=developer, start=start, end=end).single().value()\n",
    "\n",
    "        activity_count = results_comments + results_issues + results_pullreq + results_commits\n",
    "\n",
    "        return activity_count"
   ]
  },
  {
   "cell_type": "code",
   "execution_count": 22,
   "metadata": {},
   "outputs": [
    {
     "data": {
      "application/vnd.jupyter.widget-view+json": {
       "model_id": "10251c58d0d549d7b694e50c6dab5db1",
       "version_major": 2,
       "version_minor": 0
      },
      "text/plain": [
       "  0%|          | 0/8 [00:00<?, ?it/s]"
      ]
     },
     "metadata": {},
     "output_type": "display_data"
    },
    {
     "data": {
      "application/vnd.jupyter.widget-view+json": {
       "model_id": "a8ca5b04f0694dca84eebc00358feeb4",
       "version_major": 2,
       "version_minor": 0
      },
      "text/plain": [
       "  0%|          | 0/3689 [00:00<?, ?it/s]"
      ]
     },
     "metadata": {},
     "output_type": "display_data"
    },
    {
     "data": {
      "application/vnd.jupyter.widget-view+json": {
       "model_id": "a8f7871183074fd3ac80d552d5419198",
       "version_major": 2,
       "version_minor": 0
      },
      "text/plain": [
       "  0%|          | 0/3689 [00:00<?, ?it/s]"
      ]
     },
     "metadata": {},
     "output_type": "display_data"
    },
    {
     "data": {
      "application/vnd.jupyter.widget-view+json": {
       "model_id": "43ac61d4ca1848d6a9b1df3a3b7abf6d",
       "version_major": 2,
       "version_minor": 0
      },
      "text/plain": [
       "  0%|          | 0/3689 [00:00<?, ?it/s]"
      ]
     },
     "metadata": {},
     "output_type": "display_data"
    },
    {
     "data": {
      "application/vnd.jupyter.widget-view+json": {
       "model_id": "426b4ce422e0492790cc6e712f1d934b",
       "version_major": 2,
       "version_minor": 0
      },
      "text/plain": [
       "  0%|          | 0/3689 [00:00<?, ?it/s]"
      ]
     },
     "metadata": {},
     "output_type": "display_data"
    },
    {
     "data": {
      "application/vnd.jupyter.widget-view+json": {
       "model_id": "51d749b872d04833adf5b2141246b014",
       "version_major": 2,
       "version_minor": 0
      },
      "text/plain": [
       "  0%|          | 0/3689 [00:00<?, ?it/s]"
      ]
     },
     "metadata": {},
     "output_type": "display_data"
    },
    {
     "data": {
      "application/vnd.jupyter.widget-view+json": {
       "model_id": "6ce1927a08744801aa2e04e1cdce4fa7",
       "version_major": 2,
       "version_minor": 0
      },
      "text/plain": [
       "  0%|          | 0/3689 [00:00<?, ?it/s]"
      ]
     },
     "metadata": {},
     "output_type": "display_data"
    },
    {
     "data": {
      "application/vnd.jupyter.widget-view+json": {
       "model_id": "78c39662e5594b629a2417867f37efe8",
       "version_major": 2,
       "version_minor": 0
      },
      "text/plain": [
       "  0%|          | 0/3689 [00:00<?, ?it/s]"
      ]
     },
     "metadata": {},
     "output_type": "display_data"
    },
    {
     "data": {
      "application/vnd.jupyter.widget-view+json": {
       "model_id": "904146c3f26f49e8becd702b0d7b0b43",
       "version_major": 2,
       "version_minor": 0
      },
      "text/plain": [
       "  0%|          | 0/3689 [00:00<?, ?it/s]"
      ]
     },
     "metadata": {},
     "output_type": "display_data"
    }
   ],
   "source": [
    "def create_developer_activity():\n",
    "    activities = sample_devs.copy()\n",
    "\n",
    "    with tqdm(total=len(observations)) as pbar:\n",
    "        for i, obs in enumerate(observations):\n",
    "            for index, row in tqdm(activities.iterrows(), total=len(activities.index), leave=False):\n",
    "                if i == 0:\n",
    "                    activity = get_developer_activity(row['login'], OBSERVATION_START, obs)\n",
    "                else:\n",
    "                    activity = get_developer_activity(row['login'], observations[i-1], obs)\n",
    "                activities.loc[index, obs] = 1 if int(activity) > 0 else 0\n",
    "\n",
    "            pbar.update()\n",
    "        pbar.close()\n",
    "    \n",
    "    activities[observations] = activities[observations].astype(\"Int8\")\n",
    "    activities[observations] = activities[observations].astype(str)\n",
    "    activities.replace(to_replace='<NA>', value='NA', inplace=True)\n",
    "    np.savetxt('../data/individual/dev_activity.txt', activities[observations].values, fmt='%s')\n",
    "\n",
    "create_developer_activity()"
   ]
  },
  {
   "cell_type": "markdown",
   "metadata": {},
   "source": [
    "### Packages"
   ]
  },
  {
   "cell_type": "markdown",
   "metadata": {},
   "source": [
    "#### Dependencies"
   ]
  },
  {
   "cell_type": "code",
   "execution_count": 23,
   "metadata": {},
   "outputs": [
    {
     "data": {
      "application/vnd.jupyter.widget-view+json": {
       "model_id": "fdee5e3bc5ca4996a36b13d24c22024e",
       "version_major": 2,
       "version_minor": 0
      },
      "text/plain": [
       "  0%|          | 0/8 [00:00<?, ?it/s]"
      ]
     },
     "metadata": {},
     "output_type": "display_data"
    }
   ],
   "source": [
    "def create_package_dependencies():\n",
    "    dependencies = sample_pkgs[['name', 'repo_name']].copy()\n",
    "    dependencies['name'] = \"pkg_\" + dependencies['name']\n",
    "\n",
    "    with tqdm(total=len(observations)) as pbar:\n",
    "        for i, obs in enumerate(observations):\n",
    "            idegree = dict(dependency_networks[i].in_degree())\n",
    "            odegree = dict(dependency_networks[i].out_degree())\n",
    "            \n",
    "            df_idegree = pd.DataFrame.from_dict(idegree, orient=\"index\", columns=[\"_\".join([\"in\", obs])]).reset_index()\n",
    "            df_idegree.rename(columns={\"index\": \"name\"}, inplace=True)\n",
    "\n",
    "            df_odegree = pd.DataFrame.from_dict(odegree, orient=\"index\", columns=[\"_\".join([\"out\", obs])]).reset_index()\n",
    "            df_odegree.rename(columns={\"index\": \"name\"}, inplace=True)\n",
    "\n",
    "            dependencies = dependencies.merge(df_idegree, how=\"left\", on=\"name\")\n",
    "            dependencies = dependencies.merge(df_odegree, how=\"left\", on=\"name\")\n",
    "\n",
    "            pbar.update()\n",
    "        pbar.close()\n",
    "        \n",
    "    columns_in = [\"_\".join([\"in\", obs]) for obs in observations]\n",
    "    columns_out = [\"_\".join([\"out\", obs]) for obs in observations]\n",
    "\n",
    "    dependencies[columns_in] = dependencies[columns_in].astype(\"Int64\")\n",
    "    dependencies[columns_in] = dependencies[columns_in].astype(str)\n",
    "\n",
    "    dependencies[columns_out] = dependencies[columns_out].astype(\"Int64\")\n",
    "    dependencies[columns_out] = dependencies[columns_out].astype(str)\n",
    "\n",
    "    dependencies.replace(to_replace='<NA>', value='NA', inplace=True)\n",
    "\n",
    "    np.savetxt('../data/individual/pkg_upstream.txt', dependencies[columns_out].values, fmt='%s')\n",
    "    np.savetxt('../data/individual/pkg_downstream.txt', dependencies[columns_in].values, fmt='%s')\n",
    "    \n",
    "create_package_dependencies()"
   ]
  },
  {
   "cell_type": "markdown",
   "metadata": {},
   "source": [
    "#### Age"
   ]
  },
  {
   "cell_type": "code",
   "execution_count": 24,
   "metadata": {},
   "outputs": [
    {
     "data": {
      "application/vnd.jupyter.widget-view+json": {
       "model_id": "1cbea6e320a446a793e2eead9639c516",
       "version_major": 2,
       "version_minor": 0
      },
      "text/plain": [
       "  0%|          | 0/8 [00:00<?, ?it/s]"
      ]
     },
     "metadata": {},
     "output_type": "display_data"
    }
   ],
   "source": [
    "def create_package_ages():\n",
    "    ages = sample_pkgs[['name', 'created']].copy()\n",
    "    ages['name'] = \"pkg_\" + ages['name']\n",
    "\n",
    "    with tqdm(total=len(observations)) as pbar:\n",
    "        for i, obs in enumerate(observations):\n",
    "            ages[obs] = (pd.to_datetime(obs, utc=True) - ages['created']) / np.timedelta64(1, 'M')\n",
    "            pbar.update()\n",
    "        pbar.close()\n",
    "\n",
    "    ages[observations] = ages[observations].astype(float)\n",
    "    ages[observations] = ages[observations].astype(str)\n",
    "\n",
    "    ages.replace(to_replace='<NA>', value='NA', inplace=True)\n",
    "    np.savetxt('../data/individual/pkg_age.txt', ages[observations].values, fmt='%s')\n",
    "\n",
    "create_package_ages()"
   ]
  },
  {
   "cell_type": "markdown",
   "metadata": {},
   "source": [
    "#### Release Activity"
   ]
  },
  {
   "cell_type": "code",
   "execution_count": 25,
   "metadata": {},
   "outputs": [],
   "source": [
    "def get_releases(package, start, end):\n",
    "    with driver.session(database='main') as session:\n",
    "        query = \"\"\"\n",
    "                MATCH (p:Package)-[:RELEASED]->(v:Version)\n",
    "                WHERE p.name = toString($package)\n",
    "                AND datetime($start) <= v.created < datetime($end)\n",
    "                RETURN COUNT(v)\n",
    "                \"\"\"\n",
    "\n",
    "        return session.run(query, package=package, start=start, end=end).single().value()"
   ]
  },
  {
   "cell_type": "code",
   "execution_count": 26,
   "metadata": {},
   "outputs": [
    {
     "data": {
      "application/vnd.jupyter.widget-view+json": {
       "model_id": "b33b3dfcde3a49068fb2853b5743749d",
       "version_major": 2,
       "version_minor": 0
      },
      "text/plain": [
       "  0%|          | 0/8 [00:00<?, ?it/s]"
      ]
     },
     "metadata": {},
     "output_type": "display_data"
    },
    {
     "data": {
      "application/vnd.jupyter.widget-view+json": {
       "model_id": "23ca3f84beb043e3a9c41af00e5c7357",
       "version_major": 2,
       "version_minor": 0
      },
      "text/plain": [
       "  0%|          | 0/100 [00:00<?, ?it/s]"
      ]
     },
     "metadata": {},
     "output_type": "display_data"
    },
    {
     "data": {
      "application/vnd.jupyter.widget-view+json": {
       "model_id": "95d149184e124113b65d817b3fec31e5",
       "version_major": 2,
       "version_minor": 0
      },
      "text/plain": [
       "  0%|          | 0/100 [00:00<?, ?it/s]"
      ]
     },
     "metadata": {},
     "output_type": "display_data"
    },
    {
     "data": {
      "application/vnd.jupyter.widget-view+json": {
       "model_id": "da723c56559f4dfba67190aa442a26bd",
       "version_major": 2,
       "version_minor": 0
      },
      "text/plain": [
       "  0%|          | 0/100 [00:00<?, ?it/s]"
      ]
     },
     "metadata": {},
     "output_type": "display_data"
    },
    {
     "data": {
      "application/vnd.jupyter.widget-view+json": {
       "model_id": "3a59ca352a394361ad64a4d06865a25f",
       "version_major": 2,
       "version_minor": 0
      },
      "text/plain": [
       "  0%|          | 0/100 [00:00<?, ?it/s]"
      ]
     },
     "metadata": {},
     "output_type": "display_data"
    },
    {
     "data": {
      "application/vnd.jupyter.widget-view+json": {
       "model_id": "956293898fa4468fa5939ad810fdb935",
       "version_major": 2,
       "version_minor": 0
      },
      "text/plain": [
       "  0%|          | 0/100 [00:00<?, ?it/s]"
      ]
     },
     "metadata": {},
     "output_type": "display_data"
    },
    {
     "data": {
      "application/vnd.jupyter.widget-view+json": {
       "model_id": "048cd72dc9e84335b5817179ed41692b",
       "version_major": 2,
       "version_minor": 0
      },
      "text/plain": [
       "  0%|          | 0/100 [00:00<?, ?it/s]"
      ]
     },
     "metadata": {},
     "output_type": "display_data"
    },
    {
     "data": {
      "application/vnd.jupyter.widget-view+json": {
       "model_id": "1fe9a48dc264484788fa26581e1c8d66",
       "version_major": 2,
       "version_minor": 0
      },
      "text/plain": [
       "  0%|          | 0/100 [00:00<?, ?it/s]"
      ]
     },
     "metadata": {},
     "output_type": "display_data"
    },
    {
     "data": {
      "application/vnd.jupyter.widget-view+json": {
       "model_id": "a2860848dccb49329722dbd7d644e399",
       "version_major": 2,
       "version_minor": 0
      },
      "text/plain": [
       "  0%|          | 0/100 [00:00<?, ?it/s]"
      ]
     },
     "metadata": {},
     "output_type": "display_data"
    }
   ],
   "source": [
    "def create_release_activity():\n",
    "    releases = sample_pkgs[['name']].copy()\n",
    "    with tqdm(total=len(observations)) as pbar:\n",
    "        for i, obs in enumerate(observations):\n",
    "            for index, row in tqdm(releases.iterrows(), total=len(releases.index), leave=False):\n",
    "                if i == 0:\n",
    "                    versions = get_releases(row['name'], OBSERVATION_START, obs)\n",
    "                else:\n",
    "                    versions = get_releases(row['name'], observations[i-1], obs)\n",
    "                    \n",
    "                releases.loc[index, obs] = int(versions)\n",
    "            pbar.update()\n",
    "        pbar.close()\n",
    "    \n",
    "    releases[observations] = releases[observations].astype(\"Int8\")\n",
    "    releases[observations] = releases[observations].astype(str)\n",
    "    releases.replace(to_replace='<NA>', value='NA', inplace=True)\n",
    "    np.savetxt('../data/individual/pkg_releases.txt', releases[observations].values, fmt='%s')\n",
    "\n",
    "create_release_activity()"
   ]
  },
  {
   "cell_type": "markdown",
   "metadata": {},
   "source": [
    "#### Community Interest"
   ]
  },
  {
   "cell_type": "code",
   "execution_count": 29,
   "metadata": {},
   "outputs": [],
   "source": [
    "def get_added_watchers(repo, start, end):\n",
    "    with driver.session(database='main') as session:\n",
    "        query = \"\"\"\n",
    "                MATCH (r:Repository)<-[w:WATCHES]-(u:User)\n",
    "                WHERE r.name = toString($repo)\n",
    "                AND datetime($start) < w.created <= datetime($end)\n",
    "                RETURN DISTINCT u\n",
    "                \"\"\"\n",
    "\n",
    "        result = session.run(query, repo=repo, start=start, end=end).value()\n",
    "        result_dict = [dict(_) for _ in result]\n",
    "        return len(result_dict)"
   ]
  },
  {
   "cell_type": "code",
   "execution_count": 30,
   "metadata": {},
   "outputs": [
    {
     "data": {
      "application/vnd.jupyter.widget-view+json": {
       "model_id": "8a806bcf03b144438ed23b010ebb3bff",
       "version_major": 2,
       "version_minor": 0
      },
      "text/plain": [
       "  0%|          | 0/8 [00:00<?, ?it/s]"
      ]
     },
     "metadata": {},
     "output_type": "display_data"
    },
    {
     "data": {
      "application/vnd.jupyter.widget-view+json": {
       "model_id": "2686c1fa78eb4176a160bc05af774a9d",
       "version_major": 2,
       "version_minor": 0
      },
      "text/plain": [
       "  0%|          | 0/100 [00:00<?, ?it/s]"
      ]
     },
     "metadata": {},
     "output_type": "display_data"
    },
    {
     "data": {
      "application/vnd.jupyter.widget-view+json": {
       "model_id": "598a971b40e649769c354a36353c6516",
       "version_major": 2,
       "version_minor": 0
      },
      "text/plain": [
       "  0%|          | 0/100 [00:00<?, ?it/s]"
      ]
     },
     "metadata": {},
     "output_type": "display_data"
    },
    {
     "data": {
      "application/vnd.jupyter.widget-view+json": {
       "model_id": "ffcf169ebaa84963a3bd58cb85660536",
       "version_major": 2,
       "version_minor": 0
      },
      "text/plain": [
       "  0%|          | 0/100 [00:00<?, ?it/s]"
      ]
     },
     "metadata": {},
     "output_type": "display_data"
    },
    {
     "data": {
      "application/vnd.jupyter.widget-view+json": {
       "model_id": "7db7c1df06b94b33a66d4cac325dfdf9",
       "version_major": 2,
       "version_minor": 0
      },
      "text/plain": [
       "  0%|          | 0/100 [00:00<?, ?it/s]"
      ]
     },
     "metadata": {},
     "output_type": "display_data"
    },
    {
     "data": {
      "application/vnd.jupyter.widget-view+json": {
       "model_id": "3fe4053a96ce4fac8a3588ae21555888",
       "version_major": 2,
       "version_minor": 0
      },
      "text/plain": [
       "  0%|          | 0/100 [00:00<?, ?it/s]"
      ]
     },
     "metadata": {},
     "output_type": "display_data"
    },
    {
     "data": {
      "application/vnd.jupyter.widget-view+json": {
       "model_id": "1b667955b2d64285b375f1d8c97c857e",
       "version_major": 2,
       "version_minor": 0
      },
      "text/plain": [
       "  0%|          | 0/100 [00:00<?, ?it/s]"
      ]
     },
     "metadata": {},
     "output_type": "display_data"
    },
    {
     "data": {
      "application/vnd.jupyter.widget-view+json": {
       "model_id": "e61d0b7fc8bf42cfbba8bd0f28b8ef9e",
       "version_major": 2,
       "version_minor": 0
      },
      "text/plain": [
       "  0%|          | 0/100 [00:00<?, ?it/s]"
      ]
     },
     "metadata": {},
     "output_type": "display_data"
    },
    {
     "data": {
      "application/vnd.jupyter.widget-view+json": {
       "model_id": "54e048b48c2940009f8a5115057bf081",
       "version_major": 2,
       "version_minor": 0
      },
      "text/plain": [
       "  0%|          | 0/100 [00:00<?, ?it/s]"
      ]
     },
     "metadata": {},
     "output_type": "display_data"
    }
   ],
   "source": [
    "def create_community_interest():\n",
    "    stars = sample_pkgs[['name', 'repo_name']].copy()\n",
    "    with tqdm(total=len(observations)) as pbar:\n",
    "        for i, obs in enumerate(observations):\n",
    "            for index, row in tqdm(stars.iterrows(), total=len(stars.index), leave=False):\n",
    "                if i == 0:\n",
    "                    watchers = get_added_watchers(row['repo_name'], OBSERVATION_START, obs)\n",
    "                else:\n",
    "                    watchers = get_added_watchers(row['repo_name'], observations[i-1], obs)\n",
    "                    \n",
    "                stars.loc[index, obs] = int(watchers)\n",
    "\n",
    "            # stars[f'log_{obs}'] = np.log10(stars[obs] + 1)\n",
    "            pbar.update()\n",
    "        pbar.close()\n",
    "\n",
    "    # columns = [\"_\".join(['log', obs]) for obs in observations]\n",
    "    # stars[columns] = stars[columns].astype(float)\n",
    "    # stars[columns] = stars[columns].astype(str)\n",
    "    stars[observations] = stars[observations].astype(float)\n",
    "    stars[observations] = stars[observations].astype(str)\n",
    "    stars.replace(to_replace='<NA>', value='NA', inplace=True)\n",
    "    # np.savetxt('../data/individual/pkg_community.txt', stars[columns].values, fmt='%s')\n",
    "    np.savetxt('../data/individual/pkg_community.txt', stars[observations].values, fmt='%s')\n",
    "    \n",
    "create_community_interest()"
   ]
  },
  {
   "cell_type": "markdown",
   "metadata": {},
   "source": [
    "## Dyadic Variables"
   ]
  },
  {
   "cell_type": "markdown",
   "metadata": {},
   "source": [
    "#### Developer Participated in Dependency"
   ]
  },
  {
   "cell_type": "code",
   "execution_count": 51,
   "metadata": {},
   "outputs": [],
   "source": [
    "def has_association(developer, package, start, end):\n",
    "    with driver.session(database='main') as session:\n",
    "        query_comments = \"\"\"\n",
    "            MATCH (pa:Package)-[r:DEVELOPED_AT]->(pr:Project)\n",
    "            WHERE pa.name = toString($package)\n",
    "            WITH pr.id AS repo_name\n",
    "            MATCH (u:User)-[p:POSTED]->(c:Comment)-[*2]->(r:Repository)\n",
    "            WHERE u.login = toString($developer)\n",
    "            AND r.name = repo_name\n",
    "            AND c.created >= datetime($start)\n",
    "            AND c.created < datetime($end)\n",
    "            RETURN count(c) > 0 AS association\n",
    "            \"\"\"\n",
    "                \n",
    "        query_issues = \"\"\"\n",
    "            MATCH (pa:Package)-[r:DEVELOPED_AT]->(pr:Project)\n",
    "            WHERE pa.name = toString($package)\n",
    "            WITH pr.id AS repo_name\n",
    "            MATCH (u:User)-[a]->(i:Issue)-[:RELATED_TO]->(r:Repository)\n",
    "            WHERE u.login = toString($developer)\n",
    "            AND r.name = repo_name\n",
    "            AND a.created >= datetime($start)\n",
    "            AND a.created < datetime($end)\n",
    "            RETURN count(i) > 0 AS association\n",
    "            \"\"\"\n",
    "\n",
    "        query_pullreq = \"\"\"\n",
    "            MATCH (pa:Package)-[r:DEVELOPED_AT]->(pr:Project)\n",
    "            WHERE pa.name = toString($package)\n",
    "            WITH pr.id AS repo_name\n",
    "            MATCH (u:User)-[a]->(p:PullRequest)-[:RELATED_TO]->(r:Repository)\n",
    "            WHERE u.login = toString($developer)\n",
    "            AND r.name = repo_name\n",
    "            AND a.created >= datetime($start)\n",
    "            AND a.created < datetime($end)\n",
    "            RETURN count(p) > 0 AS association\n",
    "            \"\"\"\n",
    "\n",
    "        query_commits = \"\"\"\n",
    "            MATCH (pa:Package)-[r:DEVELOPED_AT]->(pr:Project)\n",
    "            WHERE pa.name = toString($package)\n",
    "            WITH pr.id AS repo_name\n",
    "            MATCH (u:User)-[a]->(c:Commit)-[:RELATED_TO]->(r:Repository)\n",
    "            WHERE u.login = toString($developer)\n",
    "            AND r.name = repo_name\n",
    "            AND a.created >= datetime($start)\n",
    "            AND a.created < datetime($end)\n",
    "            RETURN count(c) > 0 AS association\n",
    "            \"\"\"\n",
    "\n",
    "        results_comments = session.run(\n",
    "            query_comments, developer=developer, package=package, start=start, end=end).single().value()\n",
    "        results_issues = session.run(\n",
    "            query_issues, developer=developer, package=package, start=start, end=end).single().value()\n",
    "        results_pullreq = session.run(\n",
    "            query_pullreq, developer=developer, package=package, start=start, end=end).single().value()\n",
    "        results_commits = session.run(\n",
    "            query_commits, developer=developer, package=package, start=start, end=end).single().value()\n",
    "\n",
    "    return any([results_comments, results_issues, results_pullreq, results_commits])"
   ]
  },
  {
   "cell_type": "code",
   "execution_count": 52,
   "metadata": {},
   "outputs": [
    {
     "data": {
      "application/vnd.jupyter.widget-view+json": {
       "model_id": "7d1d31ec3cf44781b9c637372824736e",
       "version_major": 2,
       "version_minor": 0
      },
      "text/plain": [
       "  0%|          | 0/8 [00:00<?, ?it/s]"
      ]
     },
     "metadata": {},
     "output_type": "display_data"
    },
    {
     "data": {
      "application/vnd.jupyter.widget-view+json": {
       "model_id": "e96715d04c2f40efa884d593d382073d",
       "version_major": 2,
       "version_minor": 0
      },
      "text/plain": [
       "  0%|          | 0/861 [00:00<?, ?it/s]"
      ]
     },
     "metadata": {},
     "output_type": "display_data"
    },
    {
     "data": {
      "application/vnd.jupyter.widget-view+json": {
       "model_id": "ca5b017e450046179394d80c49969cbe",
       "version_major": 2,
       "version_minor": 0
      },
      "text/plain": [
       "  0%|          | 0/898 [00:00<?, ?it/s]"
      ]
     },
     "metadata": {},
     "output_type": "display_data"
    },
    {
     "data": {
      "application/vnd.jupyter.widget-view+json": {
       "model_id": "c1225eb9656742e8b5aa10d0051691cf",
       "version_major": 2,
       "version_minor": 0
      },
      "text/plain": [
       "  0%|          | 0/855 [00:00<?, ?it/s]"
      ]
     },
     "metadata": {},
     "output_type": "display_data"
    },
    {
     "data": {
      "application/vnd.jupyter.widget-view+json": {
       "model_id": "aa4e4575f14a4784beb6e279c1e6a3c7",
       "version_major": 2,
       "version_minor": 0
      },
      "text/plain": [
       "  0%|          | 0/904 [00:00<?, ?it/s]"
      ]
     },
     "metadata": {},
     "output_type": "display_data"
    },
    {
     "data": {
      "application/vnd.jupyter.widget-view+json": {
       "model_id": "b2bb17dbb96b4c098542fa72a239e02b",
       "version_major": 2,
       "version_minor": 0
      },
      "text/plain": [
       "  0%|          | 0/784 [00:00<?, ?it/s]"
      ]
     },
     "metadata": {},
     "output_type": "display_data"
    },
    {
     "data": {
      "application/vnd.jupyter.widget-view+json": {
       "model_id": "5cf74e21742a4953934299df9dc2092a",
       "version_major": 2,
       "version_minor": 0
      },
      "text/plain": [
       "  0%|          | 0/760 [00:00<?, ?it/s]"
      ]
     },
     "metadata": {},
     "output_type": "display_data"
    },
    {
     "data": {
      "application/vnd.jupyter.widget-view+json": {
       "model_id": "f3a981e1174f44fdbe974c792b23bcea",
       "version_major": 2,
       "version_minor": 0
      },
      "text/plain": [
       "  0%|          | 0/700 [00:00<?, ?it/s]"
      ]
     },
     "metadata": {},
     "output_type": "display_data"
    },
    {
     "data": {
      "application/vnd.jupyter.widget-view+json": {
       "model_id": "3af63698a674449f93018466189bd821",
       "version_major": 2,
       "version_minor": 0
      },
      "text/plain": [
       "  0%|          | 0/733 [00:00<?, ?it/s]"
      ]
     },
     "metadata": {},
     "output_type": "display_data"
    }
   ],
   "source": [
    "def create_dependencies_associations():\n",
    "    for i, an in tqdm(enumerate(affiliation_networks), total=len(affiliation_networks)):\n",
    "        G = an.copy()\n",
    "        \n",
    "        if i == 0:\n",
    "            start = OBSERVATION_START\n",
    "        else:\n",
    "            start = observations[i-1]\n",
    "        end = observations[i]\n",
    "        \n",
    "        for edge in tqdm(list(G.edges()), leave=False):\n",
    "            # Get dependencies for package\n",
    "            upstream = [dep[1] for dep in dependency_networks[i].out_edges(edge[1])]\n",
    "            downstream = [dep[0] for dep in dependency_networks[i].in_edges(edge[1])]\n",
    "\n",
    "            # Check if developer is associated with any of the dependencies\n",
    "            if upstream:\n",
    "                for udep in upstream:\n",
    "                    if has_association(edge[0][4:], udep[4:], start, end):\n",
    "                        G.edges[edge]['upstream'] = 1\n",
    "                    else:\n",
    "                        G.edges[edge]['upstream'] = 0\n",
    "            else:\n",
    "                G.edges[edge]['upstream'] = 0\n",
    "            \n",
    "            if downstream:\n",
    "                for ddep in downstream:\n",
    "                    if has_association(edge[0][4:], ddep[4:], start, end):\n",
    "                        G.edges[edge]['downstream'] = 1\n",
    "                    else:\n",
    "                        G.edges[edge]['downstream'] = 0\n",
    "            else:\n",
    "                G.edges[edge]['downstream'] = 0\n",
    "\n",
    "        \n",
    "        adj_up = nx.bipartite.biadjacency_matrix(G, row_order=nodelist_devs, column_order=nodelist_pkgs, weight=\"upstream\")\n",
    "        am_up = adj_up.toarray()\n",
    "        np.savetxt('../data/dyadic/dep_up_associations-{0}.txt'.format(observations[i]), am_up, fmt='%s')\n",
    "\n",
    "        adj_down = nx.bipartite.biadjacency_matrix(G, row_order=nodelist_devs, column_order=nodelist_pkgs, weight=\"downstream\")\n",
    "        am_down = adj_down.toarray()\n",
    "        np.savetxt('../data/dyadic/dep_down_associations-{0}.txt'.format(observations[i]), am_down, fmt='%s')\n",
    "        \n",
    "\n",
    "create_dependencies_associations()"
   ]
  },
  {
   "cell_type": "markdown",
   "metadata": {},
   "source": [
    "#### Developer Collaboration"
   ]
  },
  {
   "cell_type": "code",
   "execution_count": 32,
   "metadata": {},
   "outputs": [],
   "source": [
    "# TODO"
   ]
  }
 ],
 "metadata": {
  "interpreter": {
   "hash": "833eb098fc81a387e667a83821bd3bfe54e47770c4f6f3f0b07bf099c925af38"
  },
  "kernelspec": {
   "display_name": "Python 3.9.10 ('posse-data')",
   "language": "python",
   "name": "python3"
  },
  "language_info": {
   "codemirror_mode": {
    "name": "ipython",
    "version": 3
   },
   "file_extension": ".py",
   "mimetype": "text/x-python",
   "name": "python",
   "nbconvert_exporter": "python",
   "pygments_lexer": "ipython3",
   "version": "3.9.10"
  },
  "orig_nbformat": 4
 },
 "nbformat": 4,
 "nbformat_minor": 2
}
