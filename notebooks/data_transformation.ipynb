{
 "cells": [
  {
   "cell_type": "code",
   "execution_count": 1,
   "metadata": {},
   "outputs": [],
   "source": [
    "import os\n",
    "import datetime\n",
    "import pytz\n",
    "import pickle\n",
    "import numpy as np\n",
    "import pandas as pd\n",
    "import networkx as nx\n",
    "from dotenv import find_dotenv, load_dotenv\n",
    "from dateutil.parser import parse\n",
    "from dateutil.relativedelta import relativedelta\n",
    "from neo4j import GraphDatabase\n",
    "from tqdm.notebook import tqdm"
   ]
  },
  {
   "cell_type": "markdown",
   "metadata": {},
   "source": [
    "## Database Connection"
   ]
  },
  {
   "cell_type": "code",
   "execution_count": 2,
   "metadata": {},
   "outputs": [],
   "source": [
    "def initialize_driver():\n",
    "    load_dotenv(find_dotenv())\n",
    "\n",
    "    # Get env variables\n",
    "    uri = os.getenv(\"NEO4J_URI\")\n",
    "    user = os.getenv(\"NEO4J_USERNAME\")\n",
    "    password = os.getenv(\"NEO4J_PASSWORD\")\n",
    "\n",
    "    return GraphDatabase.driver(uri, auth=(user, password),\n",
    "                                encrypted=False,\n",
    "                                max_connection_lifetime=3600)\n",
    "\n",
    "driver = initialize_driver()"
   ]
  },
  {
   "cell_type": "markdown",
   "metadata": {},
   "source": [
    "## Observations"
   ]
  },
  {
   "cell_type": "code",
   "execution_count": 3,
   "metadata": {},
   "outputs": [
    {
     "name": "stdout",
     "output_type": "stream",
     "text": [
      "1 2021-03-01\n",
      "2 2021-04-01\n",
      "3 2021-05-01\n",
      "4 2021-06-01\n",
      "5 2021-07-01\n",
      "6 2021-08-01\n",
      "7 2021-09-01\n",
      "8 2021-10-01\n"
     ]
    }
   ],
   "source": [
    "# Set periods for iteration\n",
    "OBSERVATION_START = '2021-02-01'  # First date of observation period\n",
    "DATE_START = '2021-03-01'  # Date of the first snapshot\n",
    "DATE_END = '2021-10-01'  # Date of the last snapshot\n",
    "PERIOD_LENGTH = relativedelta(months=1)  # Time between snapshots\n",
    "\n",
    "def create_observations():\n",
    "    period = DATE_START\n",
    "    periods = []\n",
    "    obs = 0\n",
    "    while period <= DATE_END:\n",
    "        periods.append(period)\n",
    "        next_period = (parse(period) + PERIOD_LENGTH).strftime(\"%Y-%m-%d\")\n",
    "        period = next_period\n",
    "        obs += 1\n",
    "\n",
    "    observations = periods\n",
    "\n",
    "    [print(i+1, obs) for i, obs in enumerate(observations)]\n",
    "\n",
    "    return observations\n",
    "\n",
    "observations = create_observations()"
   ]
  },
  {
   "cell_type": "markdown",
   "metadata": {},
   "source": [
    "## Sampling & Nodelists"
   ]
  },
  {
   "cell_type": "code",
   "execution_count": 4,
   "metadata": {},
   "outputs": [],
   "source": [
    "SAMPLE_SIZE = 100"
   ]
  },
  {
   "cell_type": "markdown",
   "metadata": {},
   "source": [
    "### Packages"
   ]
  },
  {
   "cell_type": "code",
   "execution_count": 5,
   "metadata": {},
   "outputs": [],
   "source": [
    "def get_packages(driver, date):\n",
    "    with driver.session(database='main') as session:\n",
    "        query = \"\"\"\n",
    "                MATCH (pa:Package)-[r:DEVELOPED_AT]->(pr:Project)\n",
    "                WITH pr, COUNT(r) AS num_pkgs\n",
    "                WHERE num_pkgs = 1\n",
    "                WITH pr\n",
    "                MATCH (pa:Package)-[r:DEVELOPED_AT]->(pr)\n",
    "                WHERE pa.created < DateTime($date)\n",
    "                RETURN pa.name AS name,\n",
    "                       pa.repo_name AS repo_name,\n",
    "                       pa.repo_owner AS repo_owner,\n",
    "                       toString(pa.created) AS created\n",
    "                \"\"\"\n",
    "        \n",
    "        results = session.run(query, date=date).data()\n",
    "    \n",
    "        packages = pd.DataFrame.from_dict(results)\n",
    "        packages['created'] = pd.to_datetime(packages['created'])\n",
    "        packages['observation'] = pd.to_datetime(date)\n",
    "    \n",
    "    return packages"
   ]
  },
  {
   "cell_type": "code",
   "execution_count": 6,
   "metadata": {},
   "outputs": [],
   "source": [
    "def get_repository_activity(repository, start, end):\n",
    "    with driver.session(database='main') as session:\n",
    "        query_comments = \"\"\"\n",
    "            MATCH (c:Comment)-[*2]->(r:Repository)\n",
    "            WHERE r.name = toString($repository)\n",
    "            AND c.created >= datetime($start)\n",
    "            AND c.created < datetime($end)\n",
    "            RETURN count(c)\n",
    "            \"\"\"\n",
    "        \n",
    "        query_issues = \"\"\"\n",
    "            MATCH (u:User)-[a]->(:Issue)-[:RELATED_TO]->(r:Repository)\n",
    "            WHERE r.name = toString($repository)\n",
    "            AND a.created >= datetime($start)\n",
    "            AND a.created < datetime($end)\n",
    "            RETURN count(a)\n",
    "            \"\"\"\n",
    "\n",
    "        query_pullreq = \"\"\"\n",
    "            MATCH (u:User)-[a]->(:PullRequest)-[:RELATED_TO]->(r:Repository)\n",
    "            WHERE r.name = toString($repository)\n",
    "            AND a.created >= datetime($start)\n",
    "            AND a.created < datetime($end)\n",
    "            RETURN count(a)\n",
    "            \"\"\"\n",
    "\n",
    "        query_commits = \"\"\"\n",
    "            MATCH (u:User)-[a]->(c:Commit)-[:RELATED_TO]->(r:Repository)\n",
    "            WHERE r.name = toString($repository)\n",
    "            AND a.created >= datetime($start)\n",
    "            AND a.created < datetime($end)\n",
    "            RETURN count(c)\n",
    "            \"\"\"\n",
    "\n",
    "        results_comments = session.run(\n",
    "            query_comments, repository=repository, start=start, end=end).single().value()\n",
    "        results_issues = session.run(\n",
    "            query_issues, repository=repository, start=start, end=end).single().value()\n",
    "        results_pullreq = session.run(\n",
    "            query_pullreq, repository=repository, start=start, end=end).single().value()\n",
    "        results_commits = session.run(\n",
    "            query_commits, repository=repository, start=start, end=end).single().value()\n",
    "\n",
    "        activity_count = results_comments + results_issues + results_pullreq + results_commits\n",
    "\n",
    "        return activity_count"
   ]
  },
  {
   "cell_type": "code",
   "execution_count": 7,
   "metadata": {},
   "outputs": [
    {
     "data": {
      "application/vnd.jupyter.widget-view+json": {
       "model_id": "5f0938309f8948708d70443ba01bc6da",
       "version_major": 2,
       "version_minor": 0
      },
      "text/plain": [
       "  0%|          | 0/8085 [00:00<?, ?it/s]"
      ]
     },
     "metadata": {},
     "output_type": "display_data"
    }
   ],
   "source": [
    "def get_package_sample():\n",
    "    packages = get_packages(driver, OBSERVATION_START)\n",
    "    \n",
    "    # Get activity for each observation period\n",
    "    for index, row in tqdm(packages.iterrows(), total=len(packages.index)):\n",
    "        for i, obs in enumerate(observations):\n",
    "            if i == 0:\n",
    "                packages.loc[index, \"_\".join([\"act\", obs])] = int(get_repository_activity(row['repo_name'], OBSERVATION_START, obs))\n",
    "            else:\n",
    "                packages.loc[index, \"_\".join([\"act\", obs])] = int(get_repository_activity(row['repo_name'], observations[i-1], obs))\n",
    "\n",
    "    # Filter active packages\n",
    "    act_columns = [\"_\".join([\"act\", obs]) for obs in observations]\n",
    "    active_packages = packages[packages[act_columns].all(axis=\"columns\")].copy()\n",
    "\n",
    "    sample_packages = active_packages.sample(n=SAMPLE_SIZE, random_state=17, ignore_index=True)\n",
    "    nodelist_pkgs = [\"_\".join([\"pkg\", name]) for name in sample_packages['name'].tolist()]\n",
    "\n",
    "    nodelist = pd.DataFrame(nodelist_pkgs, columns=['id'])\n",
    "    nodelist.to_csv('../data/nodelists/packages.csv', index=False)\n",
    "\n",
    "    return sample_packages, nodelist_pkgs\n",
    "    \n",
    "sample_packages, nodelist_pkgs = get_package_sample()"
   ]
  },
  {
   "cell_type": "markdown",
   "metadata": {},
   "source": [
    "### Developer"
   ]
  },
  {
   "cell_type": "code",
   "execution_count": 8,
   "metadata": {},
   "outputs": [],
   "source": [
    "def get_developers(driver, repository, start, end):\n",
    "    with driver.session(database='main') as session:\n",
    "        query_comments = \"\"\"\n",
    "            MATCH (u:User)-[p:POSTED]->(c:Comment)-[*2]->(r:Repository)\n",
    "            WHERE r.name = toString($repository)\n",
    "            AND c.created >= datetime($start)\n",
    "            AND c.created < datetime($end)\n",
    "            AND u.type <> \"Bot\"\n",
    "            AND NOT u.login CONTAINS \"[bot]\"\n",
    "            RETURN DISTINCT u.login AS login\n",
    "            \"\"\"\n",
    "                \n",
    "        query_issues = \"\"\"\n",
    "            MATCH (u:User)-[a]->(:Issue)-[:RELATED_TO]->(r:Repository)\n",
    "            WHERE r.name = toString($repository)\n",
    "            AND a.created >= datetime($start)\n",
    "            AND a.created < datetime($end)\n",
    "            AND u.type <> \"Bot\"\n",
    "            AND NOT u.login CONTAINS \"[bot]\"\n",
    "            RETURN DISTINCT u.login AS login\n",
    "            \"\"\"\n",
    "\n",
    "        query_pullreq = \"\"\"\n",
    "            MATCH (u:User)-[a]->(:PullRequest)-[:RELATED_TO]->(r:Repository)\n",
    "            WHERE r.name = toString($repository)\n",
    "            AND a.created >= datetime($start)\n",
    "            AND a.created < datetime($end)\n",
    "            AND u.type <> \"Bot\"\n",
    "            AND NOT u.login CONTAINS \"[bot]\"\n",
    "            RETURN DISTINCT u.login AS login\n",
    "            \"\"\"\n",
    "\n",
    "        query_commits = \"\"\"\n",
    "            MATCH (u:User)-[a]->(:Commit)-[:RELATED_TO]->(r:Repository)\n",
    "            WHERE r.name = toString($repository)\n",
    "            AND a.created >= datetime($start)\n",
    "            AND a.created < datetime($end)\n",
    "            AND u.type <> \"Bot\"\n",
    "            AND NOT u.login CONTAINS \"[bot]\"\n",
    "            RETURN DISTINCT u.login AS login\n",
    "            \"\"\"\n",
    "\n",
    "        results_comments = session.run(\n",
    "            query_comments, repository=repository, start=start, end=end).data()\n",
    "        results_issues = session.run(\n",
    "            query_issues, repository=repository, start=start, end=end).data()\n",
    "        results_pullreq = session.run(\n",
    "            query_pullreq, repository=repository, start=start, end=end).data()\n",
    "        results_commits = session.run(\n",
    "            query_commits, repository=repository, start=start, end=end).data()\n",
    "\n",
    "        comments = pd.DataFrame.from_dict(results_comments)        \n",
    "        issues = pd.DataFrame.from_dict(results_issues)\n",
    "        pullreqs = pd.DataFrame.from_dict(results_pullreq)\n",
    "        commits = pd.DataFrame.from_dict(results_commits)\n",
    "\n",
    "        developers = pd.concat([comments, issues, pullreqs, commits], axis=0, ignore_index=True)\n",
    "        developers.drop_duplicates(subset=['login'], inplace=True)\n",
    "\n",
    "    return developers"
   ]
  },
  {
   "cell_type": "code",
   "execution_count": 9,
   "metadata": {},
   "outputs": [
    {
     "data": {
      "application/vnd.jupyter.widget-view+json": {
       "model_id": "ce12cf50023849d59c679bc3198226f7",
       "version_major": 2,
       "version_minor": 0
      },
      "text/plain": [
       "  0%|          | 0/100 [00:00<?, ?it/s]"
      ]
     },
     "metadata": {},
     "output_type": "display_data"
    }
   ],
   "source": [
    "def get_developer_sample():\n",
    "    repo_names = sample_packages['repo_name'].tolist()\n",
    "    developers = []\n",
    "    for repo in tqdm(repo_names):\n",
    "        repo_devs = get_developers(driver, repo, OBSERVATION_START, DATE_END)\n",
    "        developers.extend(repo_devs.to_dict(orient=\"records\"))\n",
    "\n",
    "    devs = pd.DataFrame.from_records(developers)\n",
    "    devs_sample = devs.drop_duplicates(subset=['login'])\n",
    "\n",
    "    logins_sample = devs_sample['login'].unique().tolist()\n",
    "    nodelist_devs = [\"_\".join([\"dev\", name]) for name in logins_sample]\n",
    "\n",
    "    nodelist = pd.DataFrame(nodelist_devs, columns=['id'])\n",
    "    nodelist.to_csv('../data/nodelists/developers.csv', index=False)\n",
    "    \n",
    "    return devs_sample, nodelist_devs\n",
    "    \n",
    "sample_devs, nodelist_devs = get_developer_sample()"
   ]
  },
  {
   "cell_type": "markdown",
   "metadata": {},
   "source": [
    "## Networks"
   ]
  },
  {
   "cell_type": "markdown",
   "metadata": {},
   "source": [
    "### Dependencies"
   ]
  },
  {
   "cell_type": "code",
   "execution_count": 10,
   "metadata": {},
   "outputs": [],
   "source": [
    "def get_latest_version(driver, package, date):\n",
    "    with driver.session(database='main') as session:\n",
    "        query = \"\"\"\n",
    "                OPTIONAL MATCH (p:Package { id: $package })-[:RELEASED]->(v:Version)\n",
    "                WHERE v.created < DateTime($date)\n",
    "                AND NOT v.number CONTAINS \"-\"\n",
    "                RETURN p.name AS name,\n",
    "                       v.id AS version_id,\n",
    "                       v.number AS version,\n",
    "                       v.license AS license,\n",
    "                       toString(v.created) AS version_created\n",
    "                ORDER BY v.created DESC\n",
    "                LIMIT 1\n",
    "                \"\"\"\n",
    "        return session.run(query, package=package, date=date).data()"
   ]
  },
  {
   "cell_type": "code",
   "execution_count": 11,
   "metadata": {},
   "outputs": [],
   "source": [
    "def get_dependencies(driver, version_ids):\n",
    "    with driver.session(database='main') as session:\n",
    "        query = \"\"\"\n",
    "                UNWIND $versions AS version\n",
    "                MATCH (v:Version { id: version })-[d:DEPENDS_ON]->(p:Package)\n",
    "                RETURN v.package_id AS source,\n",
    "                       p.id AS target,\n",
    "                       d.requirements AS requirements,\n",
    "                       toString(v.created) AS created\n",
    "                \"\"\"\n",
    "\n",
    "        results = session.run(query, versions=version_ids).data()\n",
    "\n",
    "        dependencies = pd.DataFrame.from_dict(results)\n",
    "        dependencies['created'] = pd.to_datetime(dependencies['created'])\n",
    "\n",
    "    return dependencies"
   ]
  },
  {
   "cell_type": "code",
   "execution_count": 12,
   "metadata": {},
   "outputs": [
    {
     "data": {
      "application/vnd.jupyter.widget-view+json": {
       "model_id": "9539d43d20ce4c59b3453e0548fe79fb",
       "version_major": 2,
       "version_minor": 0
      },
      "text/plain": [
       "  0%|          | 0/8 [00:00<?, ?it/s]"
      ]
     },
     "metadata": {},
     "output_type": "display_data"
    },
    {
     "data": {
      "application/vnd.jupyter.widget-view+json": {
       "model_id": "847599a2317e48cd9bed0449fda6d627",
       "version_major": 2,
       "version_minor": 0
      },
      "text/plain": [
       "  0%|          | 0/8099 [00:00<?, ?it/s]"
      ]
     },
     "metadata": {},
     "output_type": "display_data"
    },
    {
     "data": {
      "application/vnd.jupyter.widget-view+json": {
       "model_id": "39ff791617cc493ca0ba313d46afd2a1",
       "version_major": 2,
       "version_minor": 0
      },
      "text/plain": [
       "  0%|          | 0/8108 [00:00<?, ?it/s]"
      ]
     },
     "metadata": {},
     "output_type": "display_data"
    },
    {
     "data": {
      "application/vnd.jupyter.widget-view+json": {
       "model_id": "f8c8b2df03d14573836fdce46600841d",
       "version_major": 2,
       "version_minor": 0
      },
      "text/plain": [
       "  0%|          | 0/8123 [00:00<?, ?it/s]"
      ]
     },
     "metadata": {},
     "output_type": "display_data"
    },
    {
     "data": {
      "application/vnd.jupyter.widget-view+json": {
       "model_id": "be18b11a31224f2d8e41322162ce7a13",
       "version_major": 2,
       "version_minor": 0
      },
      "text/plain": [
       "  0%|          | 0/8134 [00:00<?, ?it/s]"
      ]
     },
     "metadata": {},
     "output_type": "display_data"
    },
    {
     "data": {
      "application/vnd.jupyter.widget-view+json": {
       "model_id": "c29f2879c3ca40ec9af39970a595fa0c",
       "version_major": 2,
       "version_minor": 0
      },
      "text/plain": [
       "  0%|          | 0/8141 [00:00<?, ?it/s]"
      ]
     },
     "metadata": {},
     "output_type": "display_data"
    },
    {
     "data": {
      "application/vnd.jupyter.widget-view+json": {
       "model_id": "73e27a3376f44b8686282323658f0b74",
       "version_major": 2,
       "version_minor": 0
      },
      "text/plain": [
       "  0%|          | 0/8155 [00:00<?, ?it/s]"
      ]
     },
     "metadata": {},
     "output_type": "display_data"
    },
    {
     "data": {
      "application/vnd.jupyter.widget-view+json": {
       "model_id": "48d9b5928ab54bcd8d9c5f6513f94a1c",
       "version_major": 2,
       "version_minor": 0
      },
      "text/plain": [
       "  0%|          | 0/8171 [00:00<?, ?it/s]"
      ]
     },
     "metadata": {},
     "output_type": "display_data"
    },
    {
     "data": {
      "application/vnd.jupyter.widget-view+json": {
       "model_id": "e17dfa39ddd3416b82929a0de03ee892",
       "version_major": 2,
       "version_minor": 0
      },
      "text/plain": [
       "  0%|          | 0/8180 [00:00<?, ?it/s]"
      ]
     },
     "metadata": {},
     "output_type": "display_data"
    }
   ],
   "source": [
    "def create_dependency_networks():\n",
    "    # Create dependency networks for each observation\n",
    "    dependency_networks = []\n",
    "\n",
    "    with tqdm(total=len(observations)) as pbar:\n",
    "        for obs in observations:\n",
    "            packages = get_packages(driver, obs)\n",
    "\n",
    "            latest_versions = []\n",
    "            for package in tqdm(packages['name'].tolist(), leave=False):\n",
    "                latest_version = get_latest_version(driver, package, obs)\n",
    "                try:\n",
    "                    latest_versions.append(latest_version[0])\n",
    "                except KeyError:\n",
    "                    pass  # Package has no version\n",
    "\n",
    "            versions = pd.DataFrame.from_records(latest_versions)\n",
    "            versions['version_created'] = pd.to_datetime(versions['version_created'])\n",
    "\n",
    "            packages = packages.merge(versions, how=\"left\", on=['name'])\n",
    "            dependencies = get_dependencies(driver, packages['version_id'].tolist())\n",
    "\n",
    "            # Add prefix to match nodelist\n",
    "            dependencies['source'] = \"pkg_\" + dependencies['source']\n",
    "            dependencies['target'] = \"pkg_\" + dependencies['target']\n",
    "\n",
    "            edgelist = list(zip(dependencies['source'], dependencies['target']))\n",
    "\n",
    "            G = nx.DiGraph()\n",
    "            G.add_nodes_from(nodelist_pkgs)\n",
    "            G.add_edges_from(edgelist)\n",
    "\n",
    "            dependency_networks.append(G)\n",
    "\n",
    "            nx.write_edgelist(G, '../data/edgelists/dependency_network-{0}.edgelist'.format(obs), delimiter=\",\", data=False)\n",
    "            nx.write_gpickle(G, '../data/networks/dependency_network-{0}.pkl'.format(obs))\n",
    "            nx.write_gml(G, '../data/networks/dependency_network-{0}.gml'.format(obs))\n",
    "\n",
    "            pbar.update()\n",
    "        pbar.close()\n",
    "    return dependency_networks\n",
    "\n",
    "dependency_networks = create_dependency_networks()"
   ]
  },
  {
   "cell_type": "markdown",
   "metadata": {},
   "source": [
    "### Affiliations"
   ]
  },
  {
   "cell_type": "code",
   "execution_count": 13,
   "metadata": {},
   "outputs": [],
   "source": [
    "def get_developer_affiliations(developer, start, end):\n",
    "    with driver.session(database='main') as session:\n",
    "        query_comments = \"\"\"\n",
    "            MATCH (u:User)-[p:POSTED]->(c:Comment)-[*2]->(r:Repository)\n",
    "            WHERE u.login = toString($developer)\n",
    "            AND c.created >= datetime($start)\n",
    "            AND c.created < datetime($end)\n",
    "            RETURN DISTINCT r.name AS repo_name\n",
    "            \"\"\"\n",
    "                \n",
    "        query_issues = \"\"\"\n",
    "            MATCH (u:User)-[a]->(:Issue)-[:RELATED_TO]->(r:Repository)\n",
    "            WHERE u.login = toString($developer)\n",
    "            AND a.created >= datetime($start)\n",
    "            AND a.created < datetime($end)\n",
    "            RETURN DISTINCT r.name AS repo_name\n",
    "            \"\"\"\n",
    "\n",
    "        query_pullreq = \"\"\"\n",
    "            MATCH (u:User)-[a]->(:PullRequest)-[:RELATED_TO]->(r:Repository)\n",
    "            WHERE u.login = toString($developer)\n",
    "            AND a.created >= datetime($start)\n",
    "            AND a.created < datetime($end)\n",
    "            RETURN DISTINCT r.name AS repo_name\n",
    "            \"\"\"\n",
    "\n",
    "        query_commits = \"\"\"\n",
    "            MATCH (u:User)-[a]->(:Commit)-[:RELATED_TO]->(r:Repository)\n",
    "            WHERE u.login = toString($developer)\n",
    "            AND a.created >= datetime($start)\n",
    "            AND a.created < datetime($end)\n",
    "            RETURN DISTINCT r.name AS repo_name\n",
    "            \"\"\"\n",
    "\n",
    "        results_comments = session.run(\n",
    "            query_comments, developer=developer, start=start, end=end).data()\n",
    "        results_issues = session.run(\n",
    "            query_issues, developer=developer, start=start, end=end).data()\n",
    "        results_pullreq = session.run(\n",
    "            query_pullreq, developer=developer, start=start, end=end).data()\n",
    "        results_commits = session.run(\n",
    "            query_commits, developer=developer, start=start, end=end).data()\n",
    "\n",
    "        comments = pd.DataFrame.from_dict(results_comments)        \n",
    "        issues = pd.DataFrame.from_dict(results_issues)\n",
    "        pullreqs = pd.DataFrame.from_dict(results_pullreq)\n",
    "        commits = pd.DataFrame.from_dict(results_commits)\n",
    "\n",
    "        repositories = pd.concat([comments, issues, pullreqs, commits], axis=0, ignore_index=True)\n",
    "        repositories.drop_duplicates(subset=['repo_name'], inplace=True)\n",
    "\n",
    "    return repositories"
   ]
  },
  {
   "cell_type": "code",
   "execution_count": 14,
   "metadata": {},
   "outputs": [
    {
     "data": {
      "application/vnd.jupyter.widget-view+json": {
       "model_id": "4837a76e886a4b8ab8c08182aca2bff5",
       "version_major": 2,
       "version_minor": 0
      },
      "text/plain": [
       "  0%|          | 0/8 [00:00<?, ?it/s]"
      ]
     },
     "metadata": {},
     "output_type": "display_data"
    },
    {
     "data": {
      "application/vnd.jupyter.widget-view+json": {
       "model_id": "479d17a71fd5423fadc92b8619da50e5",
       "version_major": 2,
       "version_minor": 0
      },
      "text/plain": [
       "  0%|          | 0/8675 [00:00<?, ?it/s]"
      ]
     },
     "metadata": {},
     "output_type": "display_data"
    },
    {
     "data": {
      "application/vnd.jupyter.widget-view+json": {
       "model_id": "09160c21080c46238a0d455bdc0c7845",
       "version_major": 2,
       "version_minor": 0
      },
      "text/plain": [
       "  0%|          | 0/8675 [00:00<?, ?it/s]"
      ]
     },
     "metadata": {},
     "output_type": "display_data"
    },
    {
     "data": {
      "application/vnd.jupyter.widget-view+json": {
       "model_id": "dfd0d5951e6d40949e69db545917c19c",
       "version_major": 2,
       "version_minor": 0
      },
      "text/plain": [
       "  0%|          | 0/8675 [00:00<?, ?it/s]"
      ]
     },
     "metadata": {},
     "output_type": "display_data"
    },
    {
     "data": {
      "application/vnd.jupyter.widget-view+json": {
       "model_id": "3321e9d069e3427ba6f62ea0be0ddbfa",
       "version_major": 2,
       "version_minor": 0
      },
      "text/plain": [
       "  0%|          | 0/8675 [00:00<?, ?it/s]"
      ]
     },
     "metadata": {},
     "output_type": "display_data"
    },
    {
     "data": {
      "application/vnd.jupyter.widget-view+json": {
       "model_id": "abcd3edb7bc641eea4fcf377ca569c37",
       "version_major": 2,
       "version_minor": 0
      },
      "text/plain": [
       "  0%|          | 0/8675 [00:00<?, ?it/s]"
      ]
     },
     "metadata": {},
     "output_type": "display_data"
    },
    {
     "data": {
      "application/vnd.jupyter.widget-view+json": {
       "model_id": "f907fe8425d74fdb9f9ebc0ba0799132",
       "version_major": 2,
       "version_minor": 0
      },
      "text/plain": [
       "  0%|          | 0/8675 [00:00<?, ?it/s]"
      ]
     },
     "metadata": {},
     "output_type": "display_data"
    },
    {
     "data": {
      "application/vnd.jupyter.widget-view+json": {
       "model_id": "ca40dec68e344249ab0abb82e3e028fa",
       "version_major": 2,
       "version_minor": 0
      },
      "text/plain": [
       "  0%|          | 0/8675 [00:00<?, ?it/s]"
      ]
     },
     "metadata": {},
     "output_type": "display_data"
    },
    {
     "data": {
      "application/vnd.jupyter.widget-view+json": {
       "model_id": "73153e8aad6f46b38d8d2f92e9aa3982",
       "version_major": 2,
       "version_minor": 0
      },
      "text/plain": [
       "  0%|          | 0/8675 [00:00<?, ?it/s]"
      ]
     },
     "metadata": {},
     "output_type": "display_data"
    }
   ],
   "source": [
    "def create_affiliation_networks():\n",
    "    # Create affiliation networks for each observation\n",
    "    affiliation_networks = []\n",
    "\n",
    "    with tqdm(total=len(observations)) as pbar:\n",
    "        for i, obs in enumerate(observations):\n",
    "            affiliations = []\n",
    "            for dev in tqdm(sample_devs['login'].tolist(), leave=False):\n",
    "                if i == 0:\n",
    "                    dev_affiliations = get_developer_affiliations(dev, OBSERVATION_START, obs)\n",
    "                else:\n",
    "                    dev_affiliations = get_developer_affiliations(dev, observations[i-1], obs)\n",
    "                dev_affiliations['login'] = dev\n",
    "                affiliations.extend(dev_affiliations.to_dict(orient=\"records\"))\n",
    "\n",
    "            affiliations = pd.DataFrame.from_records(affiliations)\n",
    "            # Add package names to affiliation data\n",
    "            affiliations = affiliations.merge(sample_packages[[\"repo_name\", \"name\"]], how=\"left\", on=\"repo_name\")\n",
    "            \n",
    "            affiliations['source'] = \"dev_\" + affiliations['login']\n",
    "            affiliations['target'] = \"pkg_\" + affiliations['name']\n",
    "            \n",
    "            # Keep edges between devs and packages that are in nodelists\n",
    "            affiliations = affiliations[affiliations['source'].isin(nodelist_devs)]\n",
    "            affiliations = affiliations[affiliations['target'].isin(nodelist_pkgs)]\n",
    "\n",
    "            edgelist = list(zip(affiliations['source'], affiliations['target']))\n",
    "            \n",
    "            G = nx.DiGraph()\n",
    "            G.add_nodes_from(nodelist_devs, bipartite=0)\n",
    "            G.add_nodes_from(nodelist_pkgs, bipartite=1)\n",
    "            G.add_edges_from(edgelist)\n",
    "\n",
    "            affiliation_networks.append(G)\n",
    "\n",
    "            nx.write_edgelist(G, '../data/edgelists/affiliation_network-{0}.edgelist'.format(obs), delimiter=\",\", data=False)\n",
    "            nx.write_gpickle(G, '../data/networks/affiliation_network-{0}.pkl'.format(obs))\n",
    "            nx.write_gml(G, '../data/networks/affiliation_network-{0}.gml'.format(obs))\n",
    "\n",
    "            pbar.update()\n",
    "        pbar.close()\n",
    "\n",
    "    return affiliation_networks\n",
    "\n",
    "affiliation_networks = create_affiliation_networks()"
   ]
  },
  {
   "cell_type": "markdown",
   "metadata": {},
   "source": [
    "## Dependent Network"
   ]
  },
  {
   "cell_type": "code",
   "execution_count": 15,
   "metadata": {},
   "outputs": [
    {
     "data": {
      "application/vnd.jupyter.widget-view+json": {
       "model_id": "a1a1c7ed83be4aad8acf8569cbb0cd34",
       "version_major": 2,
       "version_minor": 0
      },
      "text/plain": [
       "  0%|          | 0/8 [00:00<?, ?it/s]"
      ]
     },
     "metadata": {},
     "output_type": "display_data"
    }
   ],
   "source": [
    "# Adjacency list for SIENA\n",
    "def create_adjacency_matrix():\n",
    "    with tqdm(total=len(observations)) as pbar:\n",
    "        for i, obs in enumerate(observations):\n",
    "            adj = nx.bipartite.biadjacency_matrix(affiliation_networks[i], row_order=nodelist_devs, column_order=nodelist_pkgs)\n",
    "            am = adj.toarray()\n",
    "            np.savetxt('../data/adjacency/net-{0}.txt'.format(obs), am, fmt='%s')\n",
    "            pbar.update()\n",
    "        pbar.close()\n",
    "\n",
    "create_adjacency_matrix()"
   ]
  },
  {
   "cell_type": "markdown",
   "metadata": {},
   "source": [
    "## Composition Change"
   ]
  },
  {
   "cell_type": "code",
   "execution_count": 16,
   "metadata": {},
   "outputs": [],
   "source": [
    "def create_composition_change():\n",
    "    # Composition changes for dependency network\n",
    "    composition = sample_devs.copy()\n",
    "    composition['name'] = \"dev_\" + composition['login']\n",
    "    composition['appearance'] = 1\n",
    "    \n",
    "    inactive_developers = []\n",
    "    for i, item in enumerate(observations):\n",
    "         # Identify developers without outdegree in first period\n",
    "        devs_degrees = dict(affiliation_networks[i].out_degree(nodelist_devs))\n",
    "        devs_degrees = pd.DataFrame.from_dict(devs_degrees, orient=\"index\", columns=[\"out\"]).reset_index()\n",
    "        devs_degrees.rename(columns={\"index\": \"name\"}, inplace=True)\n",
    "\n",
    "        if i == 0: \n",
    "            inactive_developers.append(devs_degrees[devs_degrees['out'] == 0]['name'].tolist())\n",
    "        else:\n",
    "            devs = devs_degrees[devs_degrees['out'] == 0]['name'].tolist()\n",
    "            still_inactive_developers = [dev for dev in devs if dev in inactive_developers[i-1]]\n",
    "            inactive_developers.append(still_inactive_developers)\n",
    "    \n",
    "    for j, developers in enumerate(inactive_developers):\n",
    "        composition.loc[composition['name'].isin(developers), 'appearance'] = int(j + 2)\n",
    "\n",
    "    arr = []\n",
    "    for i, row in composition.iterrows():\n",
    "        curr = [int(row['appearance']), len(observations)]\n",
    "        arr.append(curr)\n",
    "        \n",
    "    comp_arr = np.array(arr)\n",
    "    np.savetxt('../data/compositions/comp_change.txt', comp_arr, fmt='%d')\n",
    "\n",
    "create_composition_change()"
   ]
  },
  {
   "cell_type": "markdown",
   "metadata": {},
   "source": [
    "## Behavioral Variables"
   ]
  },
  {
   "cell_type": "code",
   "execution_count": 17,
   "metadata": {},
   "outputs": [],
   "source": [
    "# TODO: Define and think about what makes sense"
   ]
  },
  {
   "cell_type": "markdown",
   "metadata": {},
   "source": [
    "## Individual Variables"
   ]
  },
  {
   "cell_type": "markdown",
   "metadata": {},
   "source": [
    "### Developers"
   ]
  },
  {
   "cell_type": "markdown",
   "metadata": {},
   "source": [
    "#### Tenure"
   ]
  },
  {
   "cell_type": "code",
   "execution_count": 20,
   "metadata": {},
   "outputs": [],
   "source": [
    "def get_developer_activity(developer, start, end):\n",
    "    with driver.session(database='main') as session:\n",
    "        query_comments = \"\"\"\n",
    "            MATCH (u:User)-[p:POSTED]->(c:Comment)\n",
    "            WHERE u.login = toString($developer)\n",
    "            AND c.created >= datetime($start)\n",
    "            AND c.created < datetime($end)\n",
    "            RETURN count(c)\n",
    "            \"\"\"\n",
    "        \n",
    "        query_issues = \"\"\"\n",
    "            MATCH (u:User)-[a]->(:Issue)\n",
    "            WHERE u.login = toString($developer)\n",
    "            AND a.created >= datetime($start)\n",
    "            AND a.created < datetime($end)\n",
    "            RETURN count(a)\n",
    "            \"\"\"\n",
    "\n",
    "        query_pullreq = \"\"\"\n",
    "            MATCH (u:User)-[a]->(:PullRequest)\n",
    "            WHERE u.login = toString($developer)\n",
    "            AND a.created >= datetime($start)\n",
    "            AND a.created < datetime($end)\n",
    "            RETURN count(a)\n",
    "            \"\"\"\n",
    "\n",
    "        query_commits = \"\"\"\n",
    "            MATCH (u:User)-[a]->(c:Commit)\n",
    "            WHERE u.login = toString($developer)\n",
    "            AND a.created >= datetime($start)\n",
    "            AND a.created < datetime($end)\n",
    "            RETURN count(c)\n",
    "            \"\"\"\n",
    "\n",
    "        results_comments = session.run(\n",
    "            query_comments, developer=developer, start=start, end=end).single().value()\n",
    "        results_issues = session.run(\n",
    "            query_issues, developer=developer, start=start, end=end).single().value()\n",
    "        results_pullreq = session.run(\n",
    "            query_pullreq, developer=developer, start=start, end=end).single().value()\n",
    "        results_commits = session.run(\n",
    "            query_commits, developer=developer, start=start, end=end).single().value()\n",
    "\n",
    "        activity_count = results_comments + results_issues + results_pullreq + results_commits\n",
    "\n",
    "        return activity_count"
   ]
  },
  {
   "cell_type": "code",
   "execution_count": 21,
   "metadata": {},
   "outputs": [
    {
     "data": {
      "application/vnd.jupyter.widget-view+json": {
       "model_id": "bf05049fbb5c4a9bb18449af0aaa8e14",
       "version_major": 2,
       "version_minor": 0
      },
      "text/plain": [
       "  0%|          | 0/8 [00:00<?, ?it/s]"
      ]
     },
     "metadata": {},
     "output_type": "display_data"
    },
    {
     "data": {
      "application/vnd.jupyter.widget-view+json": {
       "model_id": "ea3b3fc03a6f4a7db92c852bc47392e1",
       "version_major": 2,
       "version_minor": 0
      },
      "text/plain": [
       "  0%|          | 0/8675 [00:00<?, ?it/s]"
      ]
     },
     "metadata": {},
     "output_type": "display_data"
    },
    {
     "data": {
      "application/vnd.jupyter.widget-view+json": {
       "model_id": "24cf5641079044b78cb601853ff585ec",
       "version_major": 2,
       "version_minor": 0
      },
      "text/plain": [
       "  0%|          | 0/8675 [00:00<?, ?it/s]"
      ]
     },
     "metadata": {},
     "output_type": "display_data"
    },
    {
     "data": {
      "application/vnd.jupyter.widget-view+json": {
       "model_id": "78e2e04d3ca4415fa555039ea22790e3",
       "version_major": 2,
       "version_minor": 0
      },
      "text/plain": [
       "  0%|          | 0/8675 [00:00<?, ?it/s]"
      ]
     },
     "metadata": {},
     "output_type": "display_data"
    },
    {
     "data": {
      "application/vnd.jupyter.widget-view+json": {
       "model_id": "f50e82d4f16b48d4be73d623731ebf22",
       "version_major": 2,
       "version_minor": 0
      },
      "text/plain": [
       "  0%|          | 0/8675 [00:00<?, ?it/s]"
      ]
     },
     "metadata": {},
     "output_type": "display_data"
    },
    {
     "data": {
      "application/vnd.jupyter.widget-view+json": {
       "model_id": "b295ba2d3d214f809d1cf542627206db",
       "version_major": 2,
       "version_minor": 0
      },
      "text/plain": [
       "  0%|          | 0/8675 [00:00<?, ?it/s]"
      ]
     },
     "metadata": {},
     "output_type": "display_data"
    },
    {
     "data": {
      "application/vnd.jupyter.widget-view+json": {
       "model_id": "95310422fbf845229b17e7c510152113",
       "version_major": 2,
       "version_minor": 0
      },
      "text/plain": [
       "  0%|          | 0/8675 [00:00<?, ?it/s]"
      ]
     },
     "metadata": {},
     "output_type": "display_data"
    },
    {
     "data": {
      "application/vnd.jupyter.widget-view+json": {
       "model_id": "894732aaf1934aa09e4957e4b4448a7e",
       "version_major": 2,
       "version_minor": 0
      },
      "text/plain": [
       "  0%|          | 0/8675 [00:00<?, ?it/s]"
      ]
     },
     "metadata": {},
     "output_type": "display_data"
    },
    {
     "data": {
      "application/vnd.jupyter.widget-view+json": {
       "model_id": "4870c75b973a4bf0bad458ea67f95f11",
       "version_major": 2,
       "version_minor": 0
      },
      "text/plain": [
       "  0%|          | 0/8675 [00:00<?, ?it/s]"
      ]
     },
     "metadata": {},
     "output_type": "display_data"
    }
   ],
   "source": [
    "# TODO Tenure: Adapted from Conaldi et al. (2012), developer tenure records whether or not a developer had been active in a previous period.\n",
    "def create_developer_tenure():\n",
    "    tenure = sample_devs.copy()\n",
    "    # tenure['login'] = \"dev_\" + tenure['login']\n",
    "\n",
    "    with tqdm(total=len(observations)) as pbar:\n",
    "        for i, obs in enumerate(observations):\n",
    "            for index, row in tqdm(tenure.iterrows(), total=len(tenure.index), leave=False):\n",
    "                if i == 0:\n",
    "                    activity = get_developer_activity(row['login'], OBSERVATION_START, obs)\n",
    "                else:\n",
    "                    activity = get_developer_activity(row['login'], observations[i-1], obs)\n",
    "                tenure.loc[index, obs] = 1 if int(activity) > 0 else 0\n",
    "\n",
    "            pbar.update()\n",
    "        pbar.close()\n",
    "    \n",
    "    tenure[observations] = tenure[observations].astype(\"Int8\")\n",
    "    tenure[observations] = tenure[observations].astype(str)\n",
    "    tenure.replace(to_replace='<NA>', value='NA', inplace=True)\n",
    "    np.savetxt('../data/individual/dev_tenure.txt', tenure[observations].values, fmt='%s')\n",
    "\n",
    "create_developer_tenure()"
   ]
  },
  {
   "cell_type": "markdown",
   "metadata": {},
   "source": [
    "### Packages"
   ]
  },
  {
   "cell_type": "markdown",
   "metadata": {},
   "source": [
    "#### Dependencies"
   ]
  },
  {
   "cell_type": "code",
   "execution_count": 22,
   "metadata": {},
   "outputs": [
    {
     "data": {
      "application/vnd.jupyter.widget-view+json": {
       "model_id": "6bdd78adb28a4586b8cef79d3d2addbf",
       "version_major": 2,
       "version_minor": 0
      },
      "text/plain": [
       "  0%|          | 0/8 [00:00<?, ?it/s]"
      ]
     },
     "metadata": {},
     "output_type": "display_data"
    }
   ],
   "source": [
    "def create_package_dependencies():\n",
    "    dependencies = sample_packages[['name', 'repo_name']].copy()\n",
    "    dependencies['name'] = \"pkg_\" + dependencies['name']\n",
    "\n",
    "    with tqdm(total=len(observations)) as pbar:\n",
    "        for i, obs in enumerate(observations):\n",
    "            idegree = dict(dependency_networks[i].in_degree())\n",
    "            odegree = dict(dependency_networks[i].out_degree())\n",
    "            \n",
    "            df_idegree = pd.DataFrame.from_dict(idegree, orient=\"index\", columns=[\"_\".join([\"in\", obs])]).reset_index()\n",
    "            df_idegree.rename(columns={\"index\": \"name\"}, inplace=True)\n",
    "\n",
    "            df_odegree = pd.DataFrame.from_dict(odegree, orient=\"index\", columns=[\"_\".join([\"out\", obs])]).reset_index()\n",
    "            df_odegree.rename(columns={\"index\": \"name\"}, inplace=True)\n",
    "\n",
    "            dependencies = dependencies.merge(df_idegree, how=\"left\", on=\"name\")\n",
    "            dependencies = dependencies.merge(df_odegree, how=\"left\", on=\"name\")\n",
    "\n",
    "            pbar.update()\n",
    "        pbar.close()\n",
    "        \n",
    "    columns_in = [\"_\".join([\"in\", obs]) for obs in observations]\n",
    "    columns_out = [\"_\".join([\"out\", obs]) for obs in observations]\n",
    "\n",
    "    dependencies[columns_in] = dependencies[columns_in].astype(\"Int64\")\n",
    "    dependencies[columns_in] = dependencies[columns_in].astype(str)\n",
    "\n",
    "    dependencies[columns_out] = dependencies[columns_out].astype(\"Int64\")\n",
    "    dependencies[columns_out] = dependencies[columns_out].astype(str)\n",
    "\n",
    "    dependencies.replace(to_replace='<NA>', value='NA', inplace=True)\n",
    "\n",
    "    np.savetxt('../data/individual/pkg_upstream.txt', dependencies[columns_out].values, fmt='%s')\n",
    "    np.savetxt('../data/individual/pkg_downstream.txt', dependencies[columns_in].values, fmt='%s')\n",
    "    \n",
    "create_package_dependencies()"
   ]
  },
  {
   "cell_type": "markdown",
   "metadata": {},
   "source": [
    "#### Age"
   ]
  },
  {
   "cell_type": "code",
   "execution_count": 23,
   "metadata": {},
   "outputs": [
    {
     "data": {
      "application/vnd.jupyter.widget-view+json": {
       "model_id": "a910cf02171040edb99881dceaf7a40e",
       "version_major": 2,
       "version_minor": 0
      },
      "text/plain": [
       "  0%|          | 0/8 [00:00<?, ?it/s]"
      ]
     },
     "metadata": {},
     "output_type": "display_data"
    }
   ],
   "source": [
    "def create_package_ages():\n",
    "    ages = sample_packages[['name', 'created']].copy()\n",
    "    ages['name'] = \"pkg_\" + ages['name']\n",
    "\n",
    "    with tqdm(total=len(observations)) as pbar:\n",
    "        for i, obs in enumerate(observations):\n",
    "            ages[obs] = (pd.to_datetime(obs, utc=True) - ages['created']) / np.timedelta64(1, 'M')\n",
    "            pbar.update()\n",
    "        pbar.close()\n",
    "\n",
    "    ages[observations] = ages[observations].astype(float)\n",
    "    ages[observations] = ages[observations].astype(str)\n",
    "\n",
    "    ages.replace(to_replace='<NA>', value='NA', inplace=True)\n",
    "    np.savetxt('../data/individual/pkg_age.txt', ages[observations].values, fmt='%s')\n",
    "\n",
    "create_package_ages()"
   ]
  },
  {
   "cell_type": "markdown",
   "metadata": {},
   "source": [
    "#### Release Activity"
   ]
  },
  {
   "cell_type": "code",
   "execution_count": 24,
   "metadata": {},
   "outputs": [],
   "source": [
    "def get_releases(package, start, end):\n",
    "    with driver.session(database='main') as session:\n",
    "        query = \"\"\"\n",
    "                MATCH (p:Package)-[:RELEASED]->(v:Version)\n",
    "                WHERE p.name = toString($package)\n",
    "                AND datetime($start) <= v.created < datetime($end)\n",
    "                RETURN COUNT(v)\n",
    "                \"\"\"\n",
    "\n",
    "        return session.run(query, package=package, start=start, end=end).single().value()"
   ]
  },
  {
   "cell_type": "code",
   "execution_count": 25,
   "metadata": {},
   "outputs": [
    {
     "data": {
      "application/vnd.jupyter.widget-view+json": {
       "model_id": "defda129812d4458a0f4e107bba882f9",
       "version_major": 2,
       "version_minor": 0
      },
      "text/plain": [
       "  0%|          | 0/8 [00:00<?, ?it/s]"
      ]
     },
     "metadata": {},
     "output_type": "display_data"
    },
    {
     "data": {
      "application/vnd.jupyter.widget-view+json": {
       "model_id": "9516a83ecee14b1fbd504b322245a7f7",
       "version_major": 2,
       "version_minor": 0
      },
      "text/plain": [
       "  0%|          | 0/100 [00:00<?, ?it/s]"
      ]
     },
     "metadata": {},
     "output_type": "display_data"
    },
    {
     "data": {
      "application/vnd.jupyter.widget-view+json": {
       "model_id": "54e921c954a44435a238de487b090382",
       "version_major": 2,
       "version_minor": 0
      },
      "text/plain": [
       "  0%|          | 0/100 [00:00<?, ?it/s]"
      ]
     },
     "metadata": {},
     "output_type": "display_data"
    },
    {
     "data": {
      "application/vnd.jupyter.widget-view+json": {
       "model_id": "6362f7115c3d486c91f8b71814fbf507",
       "version_major": 2,
       "version_minor": 0
      },
      "text/plain": [
       "  0%|          | 0/100 [00:00<?, ?it/s]"
      ]
     },
     "metadata": {},
     "output_type": "display_data"
    },
    {
     "data": {
      "application/vnd.jupyter.widget-view+json": {
       "model_id": "1e55224666e3433f949d2560fc093603",
       "version_major": 2,
       "version_minor": 0
      },
      "text/plain": [
       "  0%|          | 0/100 [00:00<?, ?it/s]"
      ]
     },
     "metadata": {},
     "output_type": "display_data"
    },
    {
     "data": {
      "application/vnd.jupyter.widget-view+json": {
       "model_id": "c17ff46bde294a3a88ab33585e1be48a",
       "version_major": 2,
       "version_minor": 0
      },
      "text/plain": [
       "  0%|          | 0/100 [00:00<?, ?it/s]"
      ]
     },
     "metadata": {},
     "output_type": "display_data"
    },
    {
     "data": {
      "application/vnd.jupyter.widget-view+json": {
       "model_id": "6d955d6ba0b9425cb6f7f367b57e0542",
       "version_major": 2,
       "version_minor": 0
      },
      "text/plain": [
       "  0%|          | 0/100 [00:00<?, ?it/s]"
      ]
     },
     "metadata": {},
     "output_type": "display_data"
    },
    {
     "data": {
      "application/vnd.jupyter.widget-view+json": {
       "model_id": "b9815ce8e8b946149982ada8c0397915",
       "version_major": 2,
       "version_minor": 0
      },
      "text/plain": [
       "  0%|          | 0/100 [00:00<?, ?it/s]"
      ]
     },
     "metadata": {},
     "output_type": "display_data"
    },
    {
     "data": {
      "application/vnd.jupyter.widget-view+json": {
       "model_id": "cb47f8413e4546dea600559b76a5339d",
       "version_major": 2,
       "version_minor": 0
      },
      "text/plain": [
       "  0%|          | 0/100 [00:00<?, ?it/s]"
      ]
     },
     "metadata": {},
     "output_type": "display_data"
    }
   ],
   "source": [
    "def create_release_activity():\n",
    "    releases = sample_packages[['name']].copy()\n",
    "    with tqdm(total=len(observations)) as pbar:\n",
    "        for i, obs in enumerate(observations):\n",
    "            for index, row in tqdm(releases.iterrows(), total=len(releases.index), leave=False):\n",
    "                if i == 0:\n",
    "                    versions = get_releases(row['name'], OBSERVATION_START, obs)\n",
    "                else:\n",
    "                    versions = get_releases(row['name'], observations[i-1], obs)\n",
    "                    \n",
    "                releases.loc[index, obs] = int(versions)\n",
    "            pbar.update()\n",
    "        pbar.close()\n",
    "    \n",
    "    releases[observations] = releases[observations].astype(\"Int8\")\n",
    "    releases[observations] = releases[observations].astype(str)\n",
    "    releases.replace(to_replace='<NA>', value='NA', inplace=True)\n",
    "    np.savetxt('../data/individual/pkg_releases.txt', releases[observations].values, fmt='%s')\n",
    "\n",
    "create_release_activity()"
   ]
  },
  {
   "cell_type": "markdown",
   "metadata": {},
   "source": [
    "#### Community Interest"
   ]
  },
  {
   "cell_type": "code",
   "execution_count": 26,
   "metadata": {},
   "outputs": [],
   "source": [
    "def get_added_watchers(repo, start, end):\n",
    "    with driver.session(database='main') as session:\n",
    "        query = \"\"\"\n",
    "                MATCH (r:Repository)<-[w:WATCHES]-(u:User)\n",
    "                WHERE r.name = toString($repo)\n",
    "                AND datetime($start) < w.created <= datetime($end)\n",
    "                RETURN DISTINCT u\n",
    "                \"\"\"\n",
    "\n",
    "        result = session.run(query, repo=repo, start=start, end=end).value()\n",
    "        result_dict = [dict(_) for _ in result]\n",
    "        return len(result_dict)"
   ]
  },
  {
   "cell_type": "code",
   "execution_count": 27,
   "metadata": {},
   "outputs": [
    {
     "data": {
      "application/vnd.jupyter.widget-view+json": {
       "model_id": "29f062aa5cd14064bc462adcb6a55164",
       "version_major": 2,
       "version_minor": 0
      },
      "text/plain": [
       "  0%|          | 0/8 [00:00<?, ?it/s]"
      ]
     },
     "metadata": {},
     "output_type": "display_data"
    },
    {
     "data": {
      "application/vnd.jupyter.widget-view+json": {
       "model_id": "043744a7e5ea40e2a43898f79dda38b8",
       "version_major": 2,
       "version_minor": 0
      },
      "text/plain": [
       "  0%|          | 0/100 [00:00<?, ?it/s]"
      ]
     },
     "metadata": {},
     "output_type": "display_data"
    },
    {
     "data": {
      "application/vnd.jupyter.widget-view+json": {
       "model_id": "be0fa90cd7f5486bb616a36715b9a1cb",
       "version_major": 2,
       "version_minor": 0
      },
      "text/plain": [
       "  0%|          | 0/100 [00:00<?, ?it/s]"
      ]
     },
     "metadata": {},
     "output_type": "display_data"
    },
    {
     "data": {
      "application/vnd.jupyter.widget-view+json": {
       "model_id": "81a7a107635348e6ae3b5fb9146095a6",
       "version_major": 2,
       "version_minor": 0
      },
      "text/plain": [
       "  0%|          | 0/100 [00:00<?, ?it/s]"
      ]
     },
     "metadata": {},
     "output_type": "display_data"
    },
    {
     "data": {
      "application/vnd.jupyter.widget-view+json": {
       "model_id": "298333c9ca5e4cf3a1d8a0884f11162f",
       "version_major": 2,
       "version_minor": 0
      },
      "text/plain": [
       "  0%|          | 0/100 [00:00<?, ?it/s]"
      ]
     },
     "metadata": {},
     "output_type": "display_data"
    },
    {
     "data": {
      "application/vnd.jupyter.widget-view+json": {
       "model_id": "c9dc67425fb94935a6c332576a765a4a",
       "version_major": 2,
       "version_minor": 0
      },
      "text/plain": [
       "  0%|          | 0/100 [00:00<?, ?it/s]"
      ]
     },
     "metadata": {},
     "output_type": "display_data"
    },
    {
     "data": {
      "application/vnd.jupyter.widget-view+json": {
       "model_id": "32d0eb5847e843cfaf965109fdfc433a",
       "version_major": 2,
       "version_minor": 0
      },
      "text/plain": [
       "  0%|          | 0/100 [00:00<?, ?it/s]"
      ]
     },
     "metadata": {},
     "output_type": "display_data"
    },
    {
     "data": {
      "application/vnd.jupyter.widget-view+json": {
       "model_id": "236f831f8676410e88a4bf8b593c3258",
       "version_major": 2,
       "version_minor": 0
      },
      "text/plain": [
       "  0%|          | 0/100 [00:00<?, ?it/s]"
      ]
     },
     "metadata": {},
     "output_type": "display_data"
    },
    {
     "data": {
      "application/vnd.jupyter.widget-view+json": {
       "model_id": "40761f8ad96a46059ae9c0df8f4f1368",
       "version_major": 2,
       "version_minor": 0
      },
      "text/plain": [
       "  0%|          | 0/100 [00:00<?, ?it/s]"
      ]
     },
     "metadata": {},
     "output_type": "display_data"
    }
   ],
   "source": [
    "def create_community_interest():\n",
    "    stars = sample_packages[['name', 'repo_name']].copy()\n",
    "    with tqdm(total=len(observations)) as pbar:\n",
    "        for i, obs in enumerate(observations):\n",
    "            for index, row in tqdm(stars.iterrows(), total=len(stars.index), leave=False):\n",
    "                if i == 0:\n",
    "                    watchers = get_added_watchers(row['repo_name'], OBSERVATION_START, obs)\n",
    "                else:\n",
    "                    watchers = get_added_watchers(row['repo_name'], observations[i-1], obs)\n",
    "                    \n",
    "                stars.loc[index, obs] = int(watchers)\n",
    "\n",
    "            stars[f'log_{obs}'] = np.log10(stars[obs] + 1)\n",
    "            pbar.update()\n",
    "        pbar.close()\n",
    "\n",
    "    columns = [\"_\".join(['log', obs]) for obs in observations]\n",
    "    stars[columns] = stars[columns].astype(float)\n",
    "    stars[columns] = stars[columns].astype(str)\n",
    "    stars.replace(to_replace='<NA>', value='NA', inplace=True)\n",
    "    np.savetxt('../data/individual/pkg_community.txt', stars[columns].values, fmt='%s')\n",
    "    \n",
    "create_community_interest()"
   ]
  },
  {
   "cell_type": "markdown",
   "metadata": {},
   "source": [
    "## Dyadic Variables"
   ]
  },
  {
   "cell_type": "markdown",
   "metadata": {},
   "source": [
    "#### Developer Participated in Dependency"
   ]
  },
  {
   "cell_type": "code",
   "execution_count": 28,
   "metadata": {},
   "outputs": [],
   "source": [
    "# TODO"
   ]
  },
  {
   "cell_type": "markdown",
   "metadata": {},
   "source": [
    "#### Developer Collaboration"
   ]
  },
  {
   "cell_type": "code",
   "execution_count": 29,
   "metadata": {},
   "outputs": [],
   "source": [
    "# TODO"
   ]
  }
 ],
 "metadata": {
  "interpreter": {
   "hash": "833eb098fc81a387e667a83821bd3bfe54e47770c4f6f3f0b07bf099c925af38"
  },
  "kernelspec": {
   "display_name": "Python 3.9.10 ('posse-data')",
   "language": "python",
   "name": "python3"
  },
  "language_info": {
   "codemirror_mode": {
    "name": "ipython",
    "version": 3
   },
   "file_extension": ".py",
   "mimetype": "text/x-python",
   "name": "python",
   "nbconvert_exporter": "python",
   "pygments_lexer": "ipython3",
   "version": "3.9.10"
  },
  "orig_nbformat": 4
 },
 "nbformat": 4,
 "nbformat_minor": 2
}
