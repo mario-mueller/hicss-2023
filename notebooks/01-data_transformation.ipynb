{
 "cells": [
  {
   "cell_type": "markdown",
   "metadata": {},
   "source": [
    "# HICSS 2023: Data Transformation\n",
    "\n",
    "This notebook performs data transformation operations by collecting data from the neo4j database.\n",
    "It then transforms the data into the required format for later usage in RSiena.\n",
    "\n",
    "The general database schema looks like this:\n",
    "\n",
    "![Database Schema](../figures/db_schema.png \"Database Schema\")\n"
   ]
  },
  {
   "cell_type": "markdown",
   "metadata": {},
   "source": [
    "## TODOs\n",
    "\n",
    "[ ] Check Database; somehow there are PullRequests related to Projects, Issues and Pull Requests related to themselves?!"
   ]
  },
  {
   "cell_type": "markdown",
   "metadata": {},
   "source": [
    "## Imports"
   ]
  },
  {
   "cell_type": "code",
   "execution_count": 1,
   "metadata": {},
   "outputs": [],
   "source": [
    "import os\n",
    "import datetime\n",
    "import pytz\n",
    "import pickle\n",
    "import numpy as np\n",
    "import pandas as pd\n",
    "import networkx as nx\n",
    "from dotenv import find_dotenv, load_dotenv\n",
    "from dateutil.parser import parse\n",
    "from dateutil.relativedelta import relativedelta\n",
    "from neo4j import GraphDatabase\n",
    "from tqdm.notebook import tqdm"
   ]
  },
  {
   "cell_type": "markdown",
   "metadata": {},
   "source": [
    "## Required Functions\n",
    "\n",
    "This section definies various function for data retrieval from Neo4j database."
   ]
  },
  {
   "cell_type": "code",
   "execution_count": 2,
   "metadata": {},
   "outputs": [],
   "source": [
    "def get_packages(driver, date):\n",
    "    \"\"\"Queries packages from database\n",
    "\n",
    "    Retrieves a list of packages that have a unique repository\n",
    "    and have been created until the specified date.\n",
    "\n",
    "    Args:\n",
    "        driver: Neo4j database connection's driver.\n",
    "        date: Date to filter packages creation.\n",
    "    \n",
    "    Returns:\n",
    "        A pandas DataFrame containing the packages.\n",
    "        Each row represents a package with the attributes\n",
    "        'name', 'repo_name', 'repo_owner', and 'created'.\n",
    "    \"\"\"\n",
    "    with driver.session(database='main') as session:\n",
    "        query = \"\"\"\n",
    "                MATCH (pa:Package)-[r:DEVELOPED_AT]->(pr:Project)\n",
    "                WITH pr, COUNT(r) AS num_pkgs\n",
    "                WHERE num_pkgs = 1\n",
    "                WITH pr\n",
    "                MATCH (pa:Package)-[r:DEVELOPED_AT]->(pr)\n",
    "                WHERE pa.created < DateTime($date)\n",
    "                RETURN pa.name AS name,\n",
    "                       pa.repo_name AS repo_name,\n",
    "                       pa.repo_owner AS repo_owner,\n",
    "                       toString(pa.created) AS created\n",
    "                \"\"\"\n",
    "        \n",
    "        results = session.run(query, date=date).data()\n",
    "    \n",
    "        packages = pd.DataFrame.from_dict(results)\n",
    "        packages['created'] = pd.to_datetime(packages['created'])\n",
    "        packages['observation'] = pd.to_datetime(date)\n",
    "    \n",
    "    return packages"
   ]
  },
  {
   "cell_type": "code",
   "execution_count": 80,
   "metadata": {},
   "outputs": [],
   "source": [
    "def get_packages_by_repos(driver, repos):\n",
    "    with driver.session(database='main') as session:\n",
    "        query = \"\"\"\n",
    "                MATCH (pa:Package)-[r:DEVELOPED_AT]->(pr:Project)\n",
    "                WHERE pr.id IN $repos\n",
    "                RETURN pa.name AS name,\n",
    "                       pa.repo_name AS repo_name,\n",
    "                       pa.repo_owner AS repo_owner,\n",
    "                       toString(pa.created) AS created\n",
    "                \"\"\"\n",
    "        \n",
    "        results = session.run(query, repos=repos).data()\n",
    "    \n",
    "        return pd.DataFrame.from_dict(results)"
   ]
  },
  {
   "cell_type": "code",
   "execution_count": 3,
   "metadata": {},
   "outputs": [],
   "source": [
    "def get_latest_version(driver, package, date):\n",
    "    \"\"\"Queries latest package version from database\n",
    "\n",
    "    Retrieves the latest version for each package in list of\n",
    "    names at observation date.\n",
    "\n",
    "    Args:\n",
    "        driver: Neo4j database connection's driver.\n",
    "        package: Package name.\n",
    "        date: Date of observation.\n",
    "    \n",
    "    Returns:\n",
    "        A list of dictionaries with data.\n",
    "    \"\"\"\n",
    "    with driver.session(database='main') as session:\n",
    "        query = \"\"\"\n",
    "                OPTIONAL MATCH (p:Package { id: $package })-[:RELEASED]->(v:Version)\n",
    "                WHERE v.created < DateTime($date)\n",
    "                AND NOT v.number CONTAINS \"-\"\n",
    "                RETURN p.name AS name,\n",
    "                       v.id AS version_id,\n",
    "                       v.number AS version,\n",
    "                       v.license AS license,\n",
    "                       toString(v.created) AS version_created\n",
    "                ORDER BY v.created DESC\n",
    "                LIMIT 1\n",
    "                \"\"\"\n",
    "        return session.run(query, package=package, date=date).data()"
   ]
  },
  {
   "cell_type": "code",
   "execution_count": 4,
   "metadata": {},
   "outputs": [],
   "source": [
    "def get_dependencies(driver, version_ids):\n",
    "    \"\"\"Queries version's dependencies from database.\n",
    "\n",
    "    Retrieves the dependencies of for each package version\n",
    "    in list of version IDs.\n",
    "\n",
    "    Args:\n",
    "        driver: Neo4j database connection's driver.\n",
    "        version_ids: List of version IDs.\n",
    "    \n",
    "    Returns:\n",
    "        A pandas DataFrame containing the all dependencies for\n",
    "        each version ID. Each row represents an edge from the\n",
    "        package towards its dependency with the attributes\n",
    "        'source', 'target', 'type', and 'created.\n",
    "    \"\"\"\n",
    "    with driver.session(database='main') as session:\n",
    "        query = \"\"\"\n",
    "                UNWIND $versions AS version\n",
    "                MATCH (v:Version { id: version })-[d:DEPENDS_ON]->(p:Package)\n",
    "                RETURN v.package_id AS source,\n",
    "                       p.id AS target,\n",
    "                       d.requirements AS requirements,\n",
    "                       toString(v.created) AS created\n",
    "                \"\"\"\n",
    "\n",
    "        results = session.run(query, versions=version_ids).data()\n",
    "\n",
    "        dependencies = pd.DataFrame.from_dict(results)\n",
    "        dependencies['created'] = pd.to_datetime(dependencies['created'])\n",
    "\n",
    "    return dependencies"
   ]
  },
  {
   "cell_type": "code",
   "execution_count": 5,
   "metadata": {},
   "outputs": [],
   "source": [
    "def get_developers(driver, repository, start, end):\n",
    "    \"\"\"Queries participating developers for repositories from database.\n",
    "\n",
    "    Retrieves the participating of for each repositories\n",
    "    in list of IDs.\n",
    "\n",
    "    Args:\n",
    "        driver: Neo4j database connection's driver.\n",
    "        repository: Repository IDs.\n",
    "    \n",
    "    Returns:\n",
    "        A pandas DataFrame containing the participating users for\n",
    "        a repository.\n",
    "    \"\"\"\n",
    "    with driver.session(database='main') as session:\n",
    "        query_comments = \"\"\"\n",
    "            MATCH (u:User)-[p:POSTED]->(c:Comment)-[*2]->(r:Repository)\n",
    "            WHERE r.name = toString($repository)\n",
    "            AND c.created >= datetime($start)\n",
    "            AND c.created < datetime($end)\n",
    "            AND u.type <> \"Bot\"\n",
    "            AND NOT u.login CONTAINS \"[bot]\"\n",
    "            RETURN DISTINCT u.login AS login\n",
    "            \"\"\"\n",
    "                \n",
    "        query_issues = \"\"\"\n",
    "            MATCH (u:User)-[a]->(:Issue)-[:RELATED_TO]->(r:Repository)\n",
    "            WHERE r.name = toString($repository)\n",
    "            AND a.created >= datetime($start)\n",
    "            AND a.created < datetime($end)\n",
    "            AND u.type <> \"Bot\"\n",
    "            AND NOT u.login CONTAINS \"[bot]\"\n",
    "            RETURN DISTINCT u.login AS login\n",
    "            \"\"\"\n",
    "\n",
    "        query_pullreq = \"\"\"\n",
    "            MATCH (u:User)-[a]->(:PullRequest)-[:RELATED_TO]->(r:Repository)\n",
    "            WHERE r.name = toString($repository)\n",
    "            AND a.created >= datetime($start)\n",
    "            AND a.created < datetime($end)\n",
    "            AND u.type <> \"Bot\"\n",
    "            AND NOT u.login CONTAINS \"[bot]\"\n",
    "            RETURN DISTINCT u.login AS login\n",
    "            \"\"\"\n",
    "\n",
    "        query_commits = \"\"\"\n",
    "            MATCH (u:User)-[a]->(:Commit)-[:RELATED_TO]->(r:Repository)\n",
    "            WHERE r.name = toString($repository)\n",
    "            AND a.created >= datetime($start)\n",
    "            AND a.created < datetime($end)\n",
    "            AND u.type <> \"Bot\"\n",
    "            AND NOT u.login CONTAINS \"[bot]\"\n",
    "            RETURN DISTINCT u.login AS login\n",
    "            \"\"\"\n",
    "\n",
    "        results_comments = session.run(\n",
    "            query_comments, repository=repository, start=start, end=end).data()\n",
    "        results_issues = session.run(\n",
    "            query_issues, repository=repository, start=start, end=end).data()\n",
    "        results_pullreq = session.run(\n",
    "            query_pullreq, repository=repository, start=start, end=end).data()\n",
    "        results_commits = session.run(\n",
    "            query_commits, repository=repository, start=start, end=end).data()\n",
    "\n",
    "        comments = pd.DataFrame.from_dict(results_comments)        \n",
    "        issues = pd.DataFrame.from_dict(results_issues)\n",
    "        pullreqs = pd.DataFrame.from_dict(results_pullreq)\n",
    "        commits = pd.DataFrame.from_dict(results_commits)\n",
    "\n",
    "        developers = pd.concat([comments, issues, pullreqs, commits], axis=0, ignore_index=True)\n",
    "        developers.drop_duplicates(subset=['login'], inplace=True)\n",
    "\n",
    "    return developers"
   ]
  },
  {
   "cell_type": "code",
   "execution_count": 6,
   "metadata": {},
   "outputs": [],
   "source": [
    "def get_developer_activity(driver, developer, repositories, start, end):\n",
    "    with driver.session(database='main') as session:\n",
    "        query_comments = \"\"\"\n",
    "            MATCH (u:User)-[p:POSTED]->(c:Comment)-[*2]->(r:Repository)\n",
    "            WHERE u.login = toString($developer)\n",
    "            AND c.created >= datetime($start)\n",
    "            AND c.created < datetime($end)\n",
    "            AND r.name IN $repositories\n",
    "            RETURN count(c)\n",
    "            \"\"\"\n",
    "        \n",
    "        query_issues = \"\"\"\n",
    "            MATCH (u:User)-[a]->(:Issue)-[:RELATED_TO]->(r:Repository)\n",
    "            WHERE u.login = toString($developer)\n",
    "            AND a.created >= datetime($start)\n",
    "            AND a.created < datetime($end)\n",
    "            AND r.name IN $repositories\n",
    "            RETURN count(a)\n",
    "            \"\"\"\n",
    "\n",
    "        query_pullreq = \"\"\"\n",
    "            MATCH (u:User)-[a]->(:PullRequest)-[:RELATED_TO]->(r:Repository)\n",
    "            WHERE u.login = toString($developer)\n",
    "            AND a.created >= datetime($start)\n",
    "            AND a.created < datetime($end)\n",
    "            AND r.name IN $repositories\n",
    "            RETURN count(a)\n",
    "            \"\"\"\n",
    "\n",
    "        query_commits = \"\"\"\n",
    "            MATCH (u:User)-[a]->(c:Commit)-[:RELATED_TO]->(r:Repository)\n",
    "            WHERE u.login = toString($developer)\n",
    "            AND a.created >= datetime($start)\n",
    "            AND a.created < datetime($end)\n",
    "            AND r.name IN $repositories\n",
    "            RETURN count(c)\n",
    "            \"\"\"\n",
    "\n",
    "        results_comments = session.run(\n",
    "            query_comments, developer=developer, repositories=repositories, start=start, end=end).single().value()\n",
    "        results_issues = session.run(\n",
    "            query_issues, developer=developer, repositories=repositories, start=start, end=end).single().value()\n",
    "        results_pullreq = session.run(\n",
    "            query_pullreq, developer=developer, repositories=repositories, start=start, end=end).single().value()\n",
    "        results_commits = session.run(\n",
    "            query_commits, developer=developer, repositories=repositories, start=start, end=end).single().value()\n",
    "\n",
    "        activity_count = results_comments + results_issues + results_pullreq + results_commits\n",
    "\n",
    "        return activity_count"
   ]
  },
  {
   "cell_type": "code",
   "execution_count": 60,
   "metadata": {},
   "outputs": [],
   "source": [
    "def get_developer_targets(driver, developer, start, end):\n",
    "    with driver.session(database='main') as session:\n",
    "        query_comments = \"\"\"\n",
    "            MATCH (u:User)-[p:POSTED]->(c:Comment)-[*2]->(r:Repository)\n",
    "            WHERE u.login = toString($developer)\n",
    "            AND c.created >= datetime($start)\n",
    "            AND c.created < datetime($end)\n",
    "            RETURN DISTINCT r.name AS repo_name\n",
    "            \"\"\"\n",
    "                \n",
    "        query_issues = \"\"\"\n",
    "            MATCH (u:User)-[a]->(:Issue)-[:RELATED_TO]->(r:Repository)\n",
    "            WHERE u.login = toString($developer)\n",
    "            AND a.created >= datetime($start)\n",
    "            AND a.created < datetime($end)\n",
    "            RETURN DISTINCT r.name AS repo_name\n",
    "            \"\"\"\n",
    "\n",
    "        query_pullreq = \"\"\"\n",
    "            MATCH (u:User)-[a]->(:PullRequest)-[:RELATED_TO]->(r:Repository)\n",
    "            WHERE u.login = toString($developer)\n",
    "            AND a.created >= datetime($start)\n",
    "            AND a.created < datetime($end)\n",
    "            RETURN DISTINCT r.name AS repo_name\n",
    "            \"\"\"\n",
    "\n",
    "        query_commits = \"\"\"\n",
    "            MATCH (u:User)-[a]->(:Commit)-[:RELATED_TO]->(r:Repository)\n",
    "            WHERE u.login = toString($developer)\n",
    "            AND a.created >= datetime($start)\n",
    "            AND a.created < datetime($end)\n",
    "            RETURN DISTINCT r.name AS repo_name\n",
    "            \"\"\"\n",
    "\n",
    "        results_comments = session.run(\n",
    "            query_comments, developer=developer, start=start, end=end).data()\n",
    "        results_issues = session.run(\n",
    "            query_issues, developer=developer, start=start, end=end).data()\n",
    "        results_pullreq = session.run(\n",
    "            query_pullreq, developer=developer, start=start, end=end).data()\n",
    "        results_commits = session.run(\n",
    "            query_commits, developer=developer, start=start, end=end).data()\n",
    "\n",
    "        comments = pd.DataFrame.from_dict(results_comments)        \n",
    "        issues = pd.DataFrame.from_dict(results_issues)\n",
    "        pullreqs = pd.DataFrame.from_dict(results_pullreq)\n",
    "        commits = pd.DataFrame.from_dict(results_commits)\n",
    "\n",
    "        repositories = pd.concat([comments, issues, pullreqs, commits], axis=0, ignore_index=True)\n",
    "        repositories.drop_duplicates(subset=['repo_name'], inplace=True)\n",
    "\n",
    "    return repositories"
   ]
  },
  {
   "cell_type": "code",
   "execution_count": 7,
   "metadata": {},
   "outputs": [],
   "source": [
    "def get_added_watchers(driver, repo, start, end):\n",
    "    with driver.session(database='main') as session:\n",
    "        query = \"\"\"\n",
    "                MATCH (r:Repository)<-[w:WATCHES]-(u:User)\n",
    "                WHERE r.name = toString($repo)\n",
    "                AND datetime($start) < w.created <= datetime($end)\n",
    "                RETURN DISTINCT u\n",
    "                \"\"\"\n",
    "\n",
    "        result = session.run(query, repo=repo, start=start, end=end).value()\n",
    "        result_dict = [dict(_) for _ in result]\n",
    "        return len(result_dict)\n"
   ]
  },
  {
   "cell_type": "markdown",
   "metadata": {},
   "source": [
    "## Database Connection"
   ]
  },
  {
   "cell_type": "code",
   "execution_count": 8,
   "metadata": {},
   "outputs": [],
   "source": [
    "load_dotenv(find_dotenv())\n",
    "\n",
    "# Get env variables\n",
    "uri = os.getenv(\"NEO4J_URI\")\n",
    "user = os.getenv(\"NEO4J_USERNAME\")\n",
    "password = os.getenv(\"NEO4J_PASSWORD\")\n",
    "\n",
    "driver = GraphDatabase.driver(uri, auth=(user, password),\n",
    "                              encrypted=False,\n",
    "                              max_connection_lifetime=3600)"
   ]
  },
  {
   "cell_type": "markdown",
   "metadata": {},
   "source": [
    "## Observations"
   ]
  },
  {
   "cell_type": "code",
   "execution_count": 11,
   "metadata": {},
   "outputs": [
    {
     "name": "stdout",
     "output_type": "stream",
     "text": [
      "1 2021-02-01\n",
      "2 2021-03-01\n",
      "3 2021-04-01\n",
      "4 2021-05-01\n",
      "5 2021-06-01\n",
      "6 2021-07-01\n",
      "7 2021-08-01\n",
      "8 2021-09-01\n",
      "9 2021-10-01\n",
      "10 2021-11-01\n",
      "11 2021-12-01\n",
      "12 2022-01-01\n"
     ]
    }
   ],
   "source": [
    "# Set periods for iteration\n",
    "OBSERVATION_START = '2021-01-01'  # First date of observation period\n",
    "DATE_START = '2021-02-01'  # Date of the first snapshot\n",
    "DATE_END = '2022-01-01'  # Date of the last snapshot\n",
    "PERIOD_LENGTH = relativedelta(months=1)  # Time between snapshots\n",
    "\n",
    "period = DATE_START\n",
    "periods = []\n",
    "obs = 0\n",
    "while period <= DATE_END:\n",
    "    periods.append(period)\n",
    "    next_period = (parse(period) + PERIOD_LENGTH).strftime(\"%Y-%m-%d\")\n",
    "    period = next_period\n",
    "    obs += 1\n",
    "\n",
    "observations = periods\n",
    "\n",
    "[print(i+1, obs) for i, obs in enumerate(observations)];"
   ]
  },
  {
   "cell_type": "markdown",
   "metadata": {},
   "source": [
    "## Data Retrieval"
   ]
  },
  {
   "cell_type": "code",
   "execution_count": 50,
   "metadata": {},
   "outputs": [
    {
     "data": {
      "application/vnd.jupyter.widget-view+json": {
       "model_id": "60ff5ae3cadf451eb1bdacdcaed38a14",
       "version_major": 2,
       "version_minor": 0
      },
      "text/plain": [
       "  0%|          | 0/8085 [00:00<?, ?it/s]"
      ]
     },
     "metadata": {},
     "output_type": "display_data"
    }
   ],
   "source": [
    "# Sampling the other way by developers\n",
    "packages = get_packages(driver, observations[0])\n",
    "repo_names = packages['repo_name'].tolist()\n",
    "developers = []\n",
    "for repo in tqdm(repo_names):\n",
    "    devs = get_developers(driver, repo, OBSERVATION_START, DATE_END)\n",
    "    developers.extend(devs.to_dict(orient=\"records\"))\n",
    "\n",
    "dev_df = pd.DataFrame.from_records(developers)\n",
    "devs_sample = dev_df.drop_duplicates(subset=['login'])\n",
    "devs_sample = devs_sample.sample(n=500, random_state=17, ignore_index=True)\n",
    "\n",
    "logins = devs_sample['login'].unique().tolist()\n",
    "nodelist_devs = [\"_\".join([\"dev\", name]) for name in logins]\n",
    "\n",
    "df_nodes_devs = pd.DataFrame(nodelist_devs, columns=['id'])\n",
    "df_nodes_devs.to_csv('../data/nodelists/developers.csv', index=False)"
   ]
  },
  {
   "cell_type": "code",
   "execution_count": 85,
   "metadata": {},
   "outputs": [
    {
     "data": {
      "application/vnd.jupyter.widget-view+json": {
       "model_id": "a7fbf930206843c1b7f9a2c323de48bc",
       "version_major": 2,
       "version_minor": 0
      },
      "text/plain": [
       "  0%|          | 0/500 [00:00<?, ?it/s]"
      ]
     },
     "metadata": {},
     "output_type": "display_data"
    }
   ],
   "source": [
    "all_repos = []\n",
    "for dev in tqdm(logins):\n",
    "    repos = get_developer_targets(driver, dev, OBSERVATION_START, DATE_END)\n",
    "    all_repos.extend(repos['repo_name'].tolist())\n",
    "\n",
    "all_repos = list(set(all_repos))\n",
    "\n",
    "packages = get_packages(driver, DATE_END)\n",
    "selected_repos = [repo for repo in all_repos if repo in packages['repo_name'].tolist()]\n",
    "selected_packages = get_packages_by_repos(driver, selected_repos)\n",
    "nodelist_pkgs = [\"_\".join([\"pkg\", name]) for name in selected_packages['name'].tolist()]"
   ]
  },
  {
   "cell_type": "markdown",
   "metadata": {},
   "source": [
    "### Lists"
   ]
  },
  {
   "cell_type": "markdown",
   "metadata": {},
   "source": [
    "#### Packages"
   ]
  },
  {
   "cell_type": "code",
   "execution_count": 13,
   "metadata": {},
   "outputs": [
    {
     "data": {
      "application/vnd.jupyter.widget-view+json": {
       "model_id": "6bbbd50151674983a2a28fe592e4fd8d",
       "version_major": 2,
       "version_minor": 0
      },
      "text/plain": [
       "  0%|          | 0/12 [00:00<?, ?it/s]"
      ]
     },
     "metadata": {},
     "output_type": "display_data"
    },
    {
     "data": {
      "application/vnd.jupyter.widget-view+json": {
       "model_id": "47e785c1af0044c2920f9cc0a8f7a996",
       "version_major": 2,
       "version_minor": 0
      },
      "text/plain": [
       "  0%|          | 0/100 [00:00<?, ?it/s]"
      ]
     },
     "metadata": {},
     "output_type": "display_data"
    },
    {
     "data": {
      "application/vnd.jupyter.widget-view+json": {
       "model_id": "8bd4efe6010c437ea4b5b88a4277d629",
       "version_major": 2,
       "version_minor": 0
      },
      "text/plain": [
       "  0%|          | 0/100 [00:00<?, ?it/s]"
      ]
     },
     "metadata": {},
     "output_type": "display_data"
    },
    {
     "data": {
      "application/vnd.jupyter.widget-view+json": {
       "model_id": "1433b48c051a4159b6eb31eab56b6175",
       "version_major": 2,
       "version_minor": 0
      },
      "text/plain": [
       "  0%|          | 0/100 [00:00<?, ?it/s]"
      ]
     },
     "metadata": {},
     "output_type": "display_data"
    },
    {
     "data": {
      "application/vnd.jupyter.widget-view+json": {
       "model_id": "359334c7b5fa489d817c9db5af3045f7",
       "version_major": 2,
       "version_minor": 0
      },
      "text/plain": [
       "  0%|          | 0/100 [00:00<?, ?it/s]"
      ]
     },
     "metadata": {},
     "output_type": "display_data"
    },
    {
     "data": {
      "application/vnd.jupyter.widget-view+json": {
       "model_id": "3e7846e042384e9e9e96ad34c58538b2",
       "version_major": 2,
       "version_minor": 0
      },
      "text/plain": [
       "  0%|          | 0/100 [00:00<?, ?it/s]"
      ]
     },
     "metadata": {},
     "output_type": "display_data"
    },
    {
     "data": {
      "application/vnd.jupyter.widget-view+json": {
       "model_id": "5bdbff633c44445c96a5f77120b56860",
       "version_major": 2,
       "version_minor": 0
      },
      "text/plain": [
       "  0%|          | 0/100 [00:00<?, ?it/s]"
      ]
     },
     "metadata": {},
     "output_type": "display_data"
    },
    {
     "data": {
      "application/vnd.jupyter.widget-view+json": {
       "model_id": "c472d462e7dc452e9ca0ae3d3561eef6",
       "version_major": 2,
       "version_minor": 0
      },
      "text/plain": [
       "  0%|          | 0/100 [00:00<?, ?it/s]"
      ]
     },
     "metadata": {},
     "output_type": "display_data"
    },
    {
     "data": {
      "application/vnd.jupyter.widget-view+json": {
       "model_id": "d531667ddca045a4ba8e60c7179e6928",
       "version_major": 2,
       "version_minor": 0
      },
      "text/plain": [
       "  0%|          | 0/100 [00:00<?, ?it/s]"
      ]
     },
     "metadata": {},
     "output_type": "display_data"
    },
    {
     "data": {
      "application/vnd.jupyter.widget-view+json": {
       "model_id": "9a3cb6e406ae4f30ba4856c76970ab0d",
       "version_major": 2,
       "version_minor": 0
      },
      "text/plain": [
       "  0%|          | 0/100 [00:00<?, ?it/s]"
      ]
     },
     "metadata": {},
     "output_type": "display_data"
    },
    {
     "data": {
      "application/vnd.jupyter.widget-view+json": {
       "model_id": "0248ad611e8540cf881ae4a38e80c9bd",
       "version_major": 2,
       "version_minor": 0
      },
      "text/plain": [
       "  0%|          | 0/100 [00:00<?, ?it/s]"
      ]
     },
     "metadata": {},
     "output_type": "display_data"
    },
    {
     "data": {
      "application/vnd.jupyter.widget-view+json": {
       "model_id": "a79383de674e4ba0a9fec01b74f5e5a0",
       "version_major": 2,
       "version_minor": 0
      },
      "text/plain": [
       "  0%|          | 0/100 [00:00<?, ?it/s]"
      ]
     },
     "metadata": {},
     "output_type": "display_data"
    },
    {
     "data": {
      "application/vnd.jupyter.widget-view+json": {
       "model_id": "f01e3ef2fc574673970f06776d2a8ea5",
       "version_major": 2,
       "version_minor": 0
      },
      "text/plain": [
       "  0%|          | 0/100 [00:00<?, ?it/s]"
      ]
     },
     "metadata": {},
     "output_type": "display_data"
    }
   ],
   "source": [
    "packages = []\n",
    "\n",
    "pkgs_sample = get_packages(driver, observations[0])\n",
    "pkgs_sample = pkgs_sample.sample(n=100, random_state=17, ignore_index=True)\n",
    "\n",
    "for obs in tqdm(observations):\n",
    "    # _packages = get_packages(driver, obs)\n",
    "\n",
    "    latest_versions = []\n",
    "    for package in tqdm(pkgs_sample['name'].tolist(), leave=False):\n",
    "        latest_version = get_latest_version(driver, package, obs)\n",
    "        latest_versions.append(latest_version[0])\n",
    "\n",
    "    versions = pd.DataFrame.from_records(latest_versions)\n",
    "    versions['version_created'] = pd.to_datetime(versions['version_created'])\n",
    "\n",
    "    _packages = pkgs_sample.merge(versions, how=\"left\", on=['name'])\n",
    "    _packages.to_csv(f'../data/lists/packages-{obs}.csv', index=False)\n",
    "    packages.append(_packages)\n",
    "\n",
    "# Latest observation makes nodelist to account for later joiners\n",
    "full_packages = packages[(len(observations) - 1)]\n",
    "nodelist_pkgs = pkgs_sample['name'].tolist()\n",
    "nodelist_pkgs = [\"_\".join([\"pkg\", name]) for name in nodelist_pkgs]\n",
    "\n",
    "df_nodes_pkgs = pd.DataFrame(nodelist_pkgs, columns=['id'])\n",
    "df_nodes_pkgs.to_csv('../data/nodelists/packages.csv', index=False)\n"
   ]
  },
  {
   "cell_type": "markdown",
   "metadata": {},
   "source": [
    "#### Developers"
   ]
  },
  {
   "cell_type": "code",
   "execution_count": 14,
   "metadata": {},
   "outputs": [
    {
     "data": {
      "application/vnd.jupyter.widget-view+json": {
       "model_id": "4fd4e5e4d4254d9aaf677f516d91fdfd",
       "version_major": 2,
       "version_minor": 0
      },
      "text/plain": [
       "  0%|          | 0/12 [00:00<?, ?it/s]"
      ]
     },
     "metadata": {},
     "output_type": "display_data"
    },
    {
     "data": {
      "application/vnd.jupyter.widget-view+json": {
       "model_id": "c99e9c7743724ed593d0baf31b93104b",
       "version_major": 2,
       "version_minor": 0
      },
      "text/plain": [
       "  0%|          | 0/100 [00:00<?, ?it/s]"
      ]
     },
     "metadata": {},
     "output_type": "display_data"
    },
    {
     "data": {
      "application/vnd.jupyter.widget-view+json": {
       "model_id": "ced94ac2efaa4735b2aed414a5d7a8d2",
       "version_major": 2,
       "version_minor": 0
      },
      "text/plain": [
       "  0%|          | 0/100 [00:00<?, ?it/s]"
      ]
     },
     "metadata": {},
     "output_type": "display_data"
    },
    {
     "data": {
      "application/vnd.jupyter.widget-view+json": {
       "model_id": "8030a83bd7ca42c497d33ba976fe9654",
       "version_major": 2,
       "version_minor": 0
      },
      "text/plain": [
       "  0%|          | 0/100 [00:00<?, ?it/s]"
      ]
     },
     "metadata": {},
     "output_type": "display_data"
    },
    {
     "data": {
      "application/vnd.jupyter.widget-view+json": {
       "model_id": "ad0ef34835d649619155789d70addee3",
       "version_major": 2,
       "version_minor": 0
      },
      "text/plain": [
       "  0%|          | 0/100 [00:00<?, ?it/s]"
      ]
     },
     "metadata": {},
     "output_type": "display_data"
    },
    {
     "data": {
      "application/vnd.jupyter.widget-view+json": {
       "model_id": "52b62e49f36f4a32ba6e9d5fc3fe1ef7",
       "version_major": 2,
       "version_minor": 0
      },
      "text/plain": [
       "  0%|          | 0/100 [00:00<?, ?it/s]"
      ]
     },
     "metadata": {},
     "output_type": "display_data"
    },
    {
     "data": {
      "application/vnd.jupyter.widget-view+json": {
       "model_id": "babe738c8b604ab680eb6ef12d07c490",
       "version_major": 2,
       "version_minor": 0
      },
      "text/plain": [
       "  0%|          | 0/100 [00:00<?, ?it/s]"
      ]
     },
     "metadata": {},
     "output_type": "display_data"
    },
    {
     "data": {
      "application/vnd.jupyter.widget-view+json": {
       "model_id": "4d1485fd9f0d4b8ea99212dc23b8605a",
       "version_major": 2,
       "version_minor": 0
      },
      "text/plain": [
       "  0%|          | 0/100 [00:00<?, ?it/s]"
      ]
     },
     "metadata": {},
     "output_type": "display_data"
    },
    {
     "data": {
      "application/vnd.jupyter.widget-view+json": {
       "model_id": "cbe09eca1dad4c86ab5fd1a299233d07",
       "version_major": 2,
       "version_minor": 0
      },
      "text/plain": [
       "  0%|          | 0/100 [00:00<?, ?it/s]"
      ]
     },
     "metadata": {},
     "output_type": "display_data"
    },
    {
     "data": {
      "application/vnd.jupyter.widget-view+json": {
       "model_id": "314ecc08f0b348af9b332b0514c539f4",
       "version_major": 2,
       "version_minor": 0
      },
      "text/plain": [
       "  0%|          | 0/100 [00:00<?, ?it/s]"
      ]
     },
     "metadata": {},
     "output_type": "display_data"
    },
    {
     "data": {
      "application/vnd.jupyter.widget-view+json": {
       "model_id": "143c07b68ed74b54b07b5c13022607c6",
       "version_major": 2,
       "version_minor": 0
      },
      "text/plain": [
       "  0%|          | 0/100 [00:00<?, ?it/s]"
      ]
     },
     "metadata": {},
     "output_type": "display_data"
    },
    {
     "data": {
      "application/vnd.jupyter.widget-view+json": {
       "model_id": "097236acc4214b0693e1f9967f4697b0",
       "version_major": 2,
       "version_minor": 0
      },
      "text/plain": [
       "  0%|          | 0/100 [00:00<?, ?it/s]"
      ]
     },
     "metadata": {},
     "output_type": "display_data"
    },
    {
     "data": {
      "application/vnd.jupyter.widget-view+json": {
       "model_id": "17560419a4d4413a8a15a57e74233a1d",
       "version_major": 2,
       "version_minor": 0
      },
      "text/plain": [
       "  0%|          | 0/100 [00:00<?, ?it/s]"
      ]
     },
     "metadata": {},
     "output_type": "display_data"
    }
   ],
   "source": [
    "developers_lists = []\n",
    "repo_names = pkgs_sample['repo_name'].tolist()\n",
    "\n",
    "with tqdm(total=len(observations)) as pbar:\n",
    "    for i, obs in enumerate(observations):\n",
    "        _developers = []\n",
    "        for repo in tqdm(repo_names, leave=False):\n",
    "            if i == 0:\n",
    "                devs = get_developers(driver, repo, OBSERVATION_START, obs)\n",
    "            else:\n",
    "                devs = get_developers(driver, repo, observations[i-1], observations[i])\n",
    "            _developers.extend(devs.to_dict(orient=\"records\"))\n",
    "        dev_df = pd.DataFrame.from_records(_developers)\n",
    "        dev_df.to_csv(f'../data/lists/developers-{obs}.csv', index=False)\n",
    "        devs = dev_df['login'].unique().tolist()\n",
    "        developers_lists.append(devs)\n",
    "\n",
    "        pbar.update()\n",
    "    pbar.close()\n",
    "\n",
    "# Create list of all developers participating in the observation period\n",
    "nodelist_devs = set()\n",
    "for i in range(len(observations)):\n",
    "    nodelist_devs.update(developers_lists[i])\n",
    "nodelist_devs = list(nodelist_devs)\n",
    "nodelist_devs = [\"_\".join([\"dev\", name]) for name in nodelist_devs]\n",
    "\n",
    "df_nodes_devs = pd.DataFrame(nodelist_devs, columns=['id'])\n",
    "df_nodes_devs.to_csv('../data/nodelists/developers.csv', index=False)"
   ]
  },
  {
   "cell_type": "markdown",
   "metadata": {},
   "source": [
    "### Networks"
   ]
  },
  {
   "cell_type": "markdown",
   "metadata": {},
   "source": [
    "#### Dependency Network"
   ]
  },
  {
   "cell_type": "code",
   "execution_count": 15,
   "metadata": {},
   "outputs": [
    {
     "data": {
      "application/vnd.jupyter.widget-view+json": {
       "model_id": "3195d0724f63441e8bf2e6866978918e",
       "version_major": 2,
       "version_minor": 0
      },
      "text/plain": [
       "  0%|          | 0/12 [00:00<?, ?it/s]"
      ]
     },
     "metadata": {},
     "output_type": "display_data"
    },
    {
     "data": {
      "application/vnd.jupyter.widget-view+json": {
       "model_id": "5b398dbd39d94999b00eff4a7766fc21",
       "version_major": 2,
       "version_minor": 0
      },
      "text/plain": [
       "  0%|          | 0/8085 [00:00<?, ?it/s]"
      ]
     },
     "metadata": {},
     "output_type": "display_data"
    },
    {
     "data": {
      "application/vnd.jupyter.widget-view+json": {
       "model_id": "4e549864db5b493bae94dc784d854a3e",
       "version_major": 2,
       "version_minor": 0
      },
      "text/plain": [
       "  0%|          | 0/8099 [00:00<?, ?it/s]"
      ]
     },
     "metadata": {},
     "output_type": "display_data"
    },
    {
     "data": {
      "application/vnd.jupyter.widget-view+json": {
       "model_id": "ee5be3e99f114fedb5959b4bfc62194c",
       "version_major": 2,
       "version_minor": 0
      },
      "text/plain": [
       "  0%|          | 0/8108 [00:00<?, ?it/s]"
      ]
     },
     "metadata": {},
     "output_type": "display_data"
    },
    {
     "data": {
      "application/vnd.jupyter.widget-view+json": {
       "model_id": "1ac3e8a76b3548eb96fad6e1a6378b5d",
       "version_major": 2,
       "version_minor": 0
      },
      "text/plain": [
       "  0%|          | 0/8123 [00:00<?, ?it/s]"
      ]
     },
     "metadata": {},
     "output_type": "display_data"
    },
    {
     "data": {
      "application/vnd.jupyter.widget-view+json": {
       "model_id": "54a99febd0524fce8406a7234c66f8aa",
       "version_major": 2,
       "version_minor": 0
      },
      "text/plain": [
       "  0%|          | 0/8134 [00:00<?, ?it/s]"
      ]
     },
     "metadata": {},
     "output_type": "display_data"
    },
    {
     "data": {
      "application/vnd.jupyter.widget-view+json": {
       "model_id": "ea58c5a5ee264d7bb1dc3c745cb282d0",
       "version_major": 2,
       "version_minor": 0
      },
      "text/plain": [
       "  0%|          | 0/8141 [00:00<?, ?it/s]"
      ]
     },
     "metadata": {},
     "output_type": "display_data"
    },
    {
     "data": {
      "application/vnd.jupyter.widget-view+json": {
       "model_id": "cf9a89bb5f03433685ed75358febdcf6",
       "version_major": 2,
       "version_minor": 0
      },
      "text/plain": [
       "  0%|          | 0/8155 [00:00<?, ?it/s]"
      ]
     },
     "metadata": {},
     "output_type": "display_data"
    },
    {
     "data": {
      "application/vnd.jupyter.widget-view+json": {
       "model_id": "2406f38aca8c4596b1c27bb4f3410ff2",
       "version_major": 2,
       "version_minor": 0
      },
      "text/plain": [
       "  0%|          | 0/8171 [00:00<?, ?it/s]"
      ]
     },
     "metadata": {},
     "output_type": "display_data"
    },
    {
     "data": {
      "application/vnd.jupyter.widget-view+json": {
       "model_id": "36b1b468039f423fbd3b257c535bcc3c",
       "version_major": 2,
       "version_minor": 0
      },
      "text/plain": [
       "  0%|          | 0/8180 [00:00<?, ?it/s]"
      ]
     },
     "metadata": {},
     "output_type": "display_data"
    },
    {
     "data": {
      "application/vnd.jupyter.widget-view+json": {
       "model_id": "42a2cead9d1741c98176c0bac848f850",
       "version_major": 2,
       "version_minor": 0
      },
      "text/plain": [
       "  0%|          | 0/8194 [00:00<?, ?it/s]"
      ]
     },
     "metadata": {},
     "output_type": "display_data"
    },
    {
     "data": {
      "application/vnd.jupyter.widget-view+json": {
       "model_id": "4b6dcf880ff9455c8b711c4556e7077e",
       "version_major": 2,
       "version_minor": 0
      },
      "text/plain": [
       "  0%|          | 0/8201 [00:00<?, ?it/s]"
      ]
     },
     "metadata": {},
     "output_type": "display_data"
    },
    {
     "data": {
      "application/vnd.jupyter.widget-view+json": {
       "model_id": "678445a32c194515bf2f163d3b91c105",
       "version_major": 2,
       "version_minor": 0
      },
      "text/plain": [
       "  0%|          | 0/8208 [00:00<?, ?it/s]"
      ]
     },
     "metadata": {},
     "output_type": "display_data"
    }
   ],
   "source": [
    "# Create dependency networks for each observation\n",
    "dependency_networks = []\n",
    "with tqdm(total=len(observations)) as pbar:\n",
    "    for i, obs in enumerate(observations):\n",
    "        packages_full = get_packages(driver, obs)\n",
    "\n",
    "        latest_versions = []\n",
    "        for package in tqdm(packages_full['name'].tolist(), leave=False):\n",
    "            latest_version = get_latest_version(driver, package, obs)\n",
    "            try:\n",
    "                latest_versions.append(latest_version[0])\n",
    "            except KeyError:\n",
    "                pass  # Package has no version\n",
    "\n",
    "        versions = pd.DataFrame.from_records(latest_versions)\n",
    "        versions['version_created'] = pd.to_datetime(versions['version_created'])\n",
    "\n",
    "        packages_obs = packages_full.merge(versions, how=\"left\", on=['name'])\n",
    "        dependencies = get_dependencies(driver, packages_obs['version_id'].tolist())\n",
    "\n",
    "        # Keep edges between nodes in nodelist\n",
    "        # dependencies = dependencies[dependencies['target'].isin(packages_obs[i]['name'].tolist())]\n",
    "\n",
    "        # Add prefix to match nodelist\n",
    "        dependencies['source'] = \"pkg_\" + dependencies['source']\n",
    "        dependencies['target'] = \"pkg_\" + dependencies['target']\n",
    "\n",
    "        edgelist = list(zip(dependencies['source'], dependencies['target']))\n",
    "\n",
    "        G = nx.DiGraph()\n",
    "        G.add_nodes_from(nodelist_pkgs)\n",
    "        G.add_edges_from(edgelist)\n",
    "        dependency_networks.append(G)\n",
    "        nx.write_edgelist(G, '../data/edgelists/dependency_network-{0}.edgelist'.format(obs), delimiter=\",\", data=False)\n",
    "        nx.write_gpickle(G, '../data/networks/dependency_network-{0}.pkl'.format(obs))\n",
    "        nx.write_gml(G, '../data/networks/dependency_network-{0}.gml'.format(obs))\n",
    "        pbar.update()\n",
    "    pbar.close()"
   ]
  },
  {
   "cell_type": "markdown",
   "metadata": {},
   "source": [
    "##### Adjacency Matrices"
   ]
  },
  {
   "cell_type": "code",
   "execution_count": 16,
   "metadata": {},
   "outputs": [
    {
     "data": {
      "application/vnd.jupyter.widget-view+json": {
       "model_id": "5e8209fa661743a1acbc8809605266dd",
       "version_major": 2,
       "version_minor": 0
      },
      "text/plain": [
       "  0%|          | 0/12 [00:00<?, ?it/s]"
      ]
     },
     "metadata": {},
     "output_type": "display_data"
    }
   ],
   "source": [
    "with tqdm(total=len(observations)) as pbar:\n",
    "    for i, obs in enumerate(observations):\n",
    "        adj = nx.to_pandas_adjacency(dependency_networks[i], nodelist=nodelist_pkgs)\n",
    "\n",
    "        # Identify missing nodes at observation\n",
    "        available_nodes = list(full_packages[full_packages['created'] < obs]['name'])\n",
    "        available_nodes = [\"_\".join([\"pkg\", name]) for name in available_nodes]\n",
    "        missing_nodes = [item for item in nodelist_pkgs if item not in available_nodes]\n",
    "\n",
    "        # Change rows\n",
    "        adj.loc[ missing_nodes , : ] = np.nan\n",
    "        # Change columns\n",
    "        adj.loc[ : , missing_nodes ] = np.nan\n",
    "\n",
    "        adj = adj.astype('Int8')\n",
    "        adj = adj.astype(str)\n",
    "        adj.replace(to_replace='<NA>', value='NA', inplace=True)\n",
    "\n",
    "        am = adj.to_numpy()\n",
    "        np.savetxt('../data/adjacency/dnet-{0}.txt'.format(obs), am, fmt='%s')\n",
    "\n",
    "        # With structural zeros instead of NA for Goodness-of-Fit tests\n",
    "        adj.replace(to_replace='NA', value='0', inplace=True)\n",
    "        am_gof = adj.to_numpy()\n",
    "        np.savetxt('../data/adjacency/dnet-{0}-gof.txt'.format(i+1), am_gof, fmt='%s')\n",
    "\n",
    "        pbar.update()\n",
    "    pbar.close()"
   ]
  },
  {
   "cell_type": "markdown",
   "metadata": {},
   "source": [
    "##### Composition Change"
   ]
  },
  {
   "cell_type": "code",
   "execution_count": 193,
   "metadata": {},
   "outputs": [],
   "source": [
    "# Composition changes for dependency network\n",
    "composition = packages[len(observations) - 1][['name', 'created']].copy()\n",
    "composition['name'] = \"pkg_\" + composition['name']\n",
    "composition['appearance'] = 0\n",
    "\n",
    "rev_obs = sorted(observations,  reverse=True)\n",
    "for i, item in enumerate(rev_obs):\n",
    "    obs = len(rev_obs) - i\n",
    "    composition.loc[composition['created'] < item, 'appearance'] = int(obs)\n",
    "\n",
    "arr = []\n",
    "for i, row in composition.iterrows():\n",
    "    curr = [int(row['appearance']), len(observations)]\n",
    "    arr.append(curr)\n",
    "    \n",
    "comp_arr = np.array(arr)\n",
    "np.savetxt('../data/compositions/dependency_network.txt', comp_arr, fmt='%d')"
   ]
  },
  {
   "cell_type": "markdown",
   "metadata": {},
   "source": [
    "#### Affiliation Networks Sampled by Devs"
   ]
  },
  {
   "cell_type": "code",
   "execution_count": null,
   "metadata": {},
   "outputs": [],
   "source": [
    "# Create affiliation networks for each observation\n",
    "affiliation_networks = []\n",
    "\n",
    "with tqdm(total=len(observations)) as pbar:\n",
    "    for i, obs in enumerate(observations):\n",
    "        data = []\n",
    "        for dev in devs_sample['login'].tolist():\n",
    "            if i == 0:\n",
    "                target_repos = get_developer_targets(driver, dev, OBSERVATION_START, obs)\n",
    "            else:\n",
    "                target_repos = get_developer_targets(driver, dev, observations[i-1], obs)\n",
    "                \n",
    "            target_repos['login'] = dev\n",
    "            data.extend(target_repos.to_dict(orient=\"records\"))\n",
    "\n",
    "\n",
    "        df_data = pd.DataFrame.from_records(data)\n",
    "        df_data['source'] = \"dev_\" + df_data['login']\n",
    "        df_data['target'] = \"pkg_\" + df_data['repo_name']\n",
    "        edgelist = list(zip(df_devs['source'], df_devs['target']))\n",
    "        G = nx.DiGraph()\n",
    "        G.add_nodes_from(nodelist_devs, bipartite=0)\n",
    "        G.add_nodes_from(nodelist_pkgs, bipartite=1)\n",
    "        G.add_edges_from(edgelist)\n",
    "        affiliation_networks.append(G)\n",
    "        nx.write_edgelist(G, '../data/edgelists/affiliation_network-{0}.edgelist'.format(obs), delimiter=\",\", data=False)\n",
    "        nx.write_gpickle(G, '../data/networks/affiliation_network-{0}.pkl'.format(obs))\n",
    "        nx.write_gml(G, '../data/networks/affiliation_network-{0}.gml'.format(obs))\n",
    "        pbar.update()\n",
    "    pbar.close()"
   ]
  },
  {
   "cell_type": "markdown",
   "metadata": {},
   "source": [
    "#### Affiliation Networks"
   ]
  },
  {
   "cell_type": "code",
   "execution_count": 17,
   "metadata": {},
   "outputs": [
    {
     "data": {
      "application/vnd.jupyter.widget-view+json": {
       "model_id": "a26616a676df4df396b424ec37d5e1e3",
       "version_major": 2,
       "version_minor": 0
      },
      "text/plain": [
       "  0%|          | 0/12 [00:00<?, ?it/s]"
      ]
     },
     "metadata": {},
     "output_type": "display_data"
    },
    {
     "data": {
      "application/vnd.jupyter.widget-view+json": {
       "model_id": "274b3ed21e254cf29e27274da8068a57",
       "version_major": 2,
       "version_minor": 0
      },
      "text/plain": [
       "  0%|          | 0/100 [00:00<?, ?it/s]"
      ]
     },
     "metadata": {},
     "output_type": "display_data"
    },
    {
     "data": {
      "application/vnd.jupyter.widget-view+json": {
       "model_id": "9e1959a3857d41b9bd380a89bb2c7d6d",
       "version_major": 2,
       "version_minor": 0
      },
      "text/plain": [
       "  0%|          | 0/100 [00:00<?, ?it/s]"
      ]
     },
     "metadata": {},
     "output_type": "display_data"
    },
    {
     "data": {
      "application/vnd.jupyter.widget-view+json": {
       "model_id": "bd9a7fd2207e4854b5533c7138a5a350",
       "version_major": 2,
       "version_minor": 0
      },
      "text/plain": [
       "  0%|          | 0/100 [00:00<?, ?it/s]"
      ]
     },
     "metadata": {},
     "output_type": "display_data"
    },
    {
     "data": {
      "application/vnd.jupyter.widget-view+json": {
       "model_id": "1c0fdf1dfffb40468a1a7c7ae727b0e3",
       "version_major": 2,
       "version_minor": 0
      },
      "text/plain": [
       "  0%|          | 0/100 [00:00<?, ?it/s]"
      ]
     },
     "metadata": {},
     "output_type": "display_data"
    },
    {
     "data": {
      "application/vnd.jupyter.widget-view+json": {
       "model_id": "a3570ecc55074ff8a576cc184695893d",
       "version_major": 2,
       "version_minor": 0
      },
      "text/plain": [
       "  0%|          | 0/100 [00:00<?, ?it/s]"
      ]
     },
     "metadata": {},
     "output_type": "display_data"
    },
    {
     "data": {
      "application/vnd.jupyter.widget-view+json": {
       "model_id": "0edb6ec2b98348b590462841f4b414e1",
       "version_major": 2,
       "version_minor": 0
      },
      "text/plain": [
       "  0%|          | 0/100 [00:00<?, ?it/s]"
      ]
     },
     "metadata": {},
     "output_type": "display_data"
    },
    {
     "data": {
      "application/vnd.jupyter.widget-view+json": {
       "model_id": "6cc83ef85dbd4baea1b65b7fa19cf0f8",
       "version_major": 2,
       "version_minor": 0
      },
      "text/plain": [
       "  0%|          | 0/100 [00:00<?, ?it/s]"
      ]
     },
     "metadata": {},
     "output_type": "display_data"
    },
    {
     "data": {
      "application/vnd.jupyter.widget-view+json": {
       "model_id": "3cfb348bbcdb4bcca063b142373a134f",
       "version_major": 2,
       "version_minor": 0
      },
      "text/plain": [
       "  0%|          | 0/100 [00:00<?, ?it/s]"
      ]
     },
     "metadata": {},
     "output_type": "display_data"
    },
    {
     "data": {
      "application/vnd.jupyter.widget-view+json": {
       "model_id": "ddd0901dda054d70a9ff4f2bb8b1e364",
       "version_major": 2,
       "version_minor": 0
      },
      "text/plain": [
       "  0%|          | 0/100 [00:00<?, ?it/s]"
      ]
     },
     "metadata": {},
     "output_type": "display_data"
    },
    {
     "data": {
      "application/vnd.jupyter.widget-view+json": {
       "model_id": "431a67bda1864b23a3e7cd288abb44b1",
       "version_major": 2,
       "version_minor": 0
      },
      "text/plain": [
       "  0%|          | 0/100 [00:00<?, ?it/s]"
      ]
     },
     "metadata": {},
     "output_type": "display_data"
    },
    {
     "data": {
      "application/vnd.jupyter.widget-view+json": {
       "model_id": "446006418cd34631ad520fafdcfcd500",
       "version_major": 2,
       "version_minor": 0
      },
      "text/plain": [
       "  0%|          | 0/100 [00:00<?, ?it/s]"
      ]
     },
     "metadata": {},
     "output_type": "display_data"
    },
    {
     "data": {
      "application/vnd.jupyter.widget-view+json": {
       "model_id": "35113829d6d04bb8a82d809f0172364b",
       "version_major": 2,
       "version_minor": 0
      },
      "text/plain": [
       "  0%|          | 0/100 [00:00<?, ?it/s]"
      ]
     },
     "metadata": {},
     "output_type": "display_data"
    }
   ],
   "source": [
    "# Create affiliation networks for each observation\n",
    "affiliation_networks = []\n",
    "\n",
    "pkgs = pkgs_sample['name'].tolist()\n",
    "repos = pkgs_sample['repo_name'].tolist()\n",
    "packages_repos = list(zip(pkgs, repos))\n",
    "\n",
    "with tqdm(total=len(observations)) as pbar:\n",
    "    for i, obs in enumerate(observations):\n",
    "        developers = []\n",
    "        for pkg, repo in tqdm(packages_repos, leave=False):\n",
    "            if i == 0:\n",
    "                devs = get_developers(driver, repo, OBSERVATION_START, obs)\n",
    "            else:\n",
    "                devs = get_developers(driver, repo, observations[i-1], observations[i])\n",
    "            \n",
    "            devs['package'] = pkg\n",
    "            \n",
    "            developers.extend(devs.to_dict(orient=\"records\"))\n",
    "\n",
    "        df_devs = pd.DataFrame.from_records(developers)\n",
    "        df_devs['source'] = \"dev_\" + df_devs['login']\n",
    "        df_devs['target'] = \"pkg_\" + df_devs['package']\n",
    "        edgelist = list(zip(df_devs['source'], df_devs['target']))\n",
    "\n",
    "        G = nx.DiGraph()\n",
    "        G.add_nodes_from(nodelist_devs, bipartite=0)\n",
    "        G.add_nodes_from(nodelist_pkgs, bipartite=1)\n",
    "        G.add_edges_from(edgelist)\n",
    "        affiliation_networks.append(G)\n",
    "        nx.write_edgelist(G, '../data/edgelists/affiliation_network-{0}.edgelist'.format(obs), delimiter=\",\", data=False)\n",
    "        nx.write_gpickle(G, '../data/networks/affiliation_network-{0}.pkl'.format(obs))\n",
    "        nx.write_gml(G, '../data/networks/affiliation_network-{0}.gml'.format(obs))\n",
    "        pbar.update()\n",
    "    pbar.close()"
   ]
  },
  {
   "cell_type": "markdown",
   "metadata": {},
   "source": [
    "##### Adjacency Matrices"
   ]
  },
  {
   "cell_type": "code",
   "execution_count": 18,
   "metadata": {},
   "outputs": [
    {
     "data": {
      "application/vnd.jupyter.widget-view+json": {
       "model_id": "bcbabf39bed844f0bbea2f997c5e19e8",
       "version_major": 2,
       "version_minor": 0
      },
      "text/plain": [
       "  0%|          | 0/12 [00:00<?, ?it/s]"
      ]
     },
     "metadata": {},
     "output_type": "display_data"
    }
   ],
   "source": [
    "with tqdm(total=len(observations)) as pbar:\n",
    "    for i, obs in enumerate(observations):\n",
    "        adj = nx.bipartite.biadjacency_matrix(affiliation_networks[i], row_order=nodelist_devs, column_order=nodelist_pkgs)\n",
    "\n",
    "        # Identify missing nodes at observation\n",
    "        # available_packages = list(full_packages[full_packages['created'] < obs]['name'])\n",
    "        # missing_packages = [item for item in nodelist_pkgs if item not in available_packages]\n",
    "        # adj.loc[ : , missing_packages ] = np.nan\n",
    "\n",
    "        # adj = adj.astype('Int8')\n",
    "        # adj = adj.astype(str)\n",
    "        # adj.replace(to_replace='<NA>', value='NA', inplace=True)\n",
    "\n",
    "        am = adj.toarray()\n",
    "        np.savetxt('../data/adjacency/anet-{0}.txt'.format(obs), am, fmt='%s')\n",
    "\n",
    "        # With structural zeros instead of NA for Goodness-of-Fit tests\n",
    "        # adj.replace(to_replace='NA', value='0', inplace=True)\n",
    "        # am_gof = adj.to_numpy()\n",
    "        # np.savetxt('../data/adjacency/anet-{0}-gof.txt'.format(obs), am_gof, fmt='%s')\n",
    "\n",
    "        pbar.update()\n",
    "    pbar.close()"
   ]
  },
  {
   "cell_type": "markdown",
   "metadata": {},
   "source": [
    "##### Composition Change"
   ]
  },
  {
   "cell_type": "code",
   "execution_count": null,
   "metadata": {},
   "outputs": [],
   "source": [
    "# Composition changes for affiliation network\n",
    "composition = developers[len(observations) - 1][['name', 'created']].copy()\n",
    "composition['name'] = \"pkg_\" + composition['name']\n",
    "composition['appearance'] = 0\n",
    "\n",
    "rev_obs = sorted(observations,  reverse=True)\n",
    "for i, item in enumerate(rev_obs):\n",
    "    obs = len(rev_obs) - i\n",
    "    composition.loc[composition['created'] < item, 'appearance'] = int(obs)\n",
    "\n",
    "arr = []\n",
    "for i, row in composition.iterrows():\n",
    "    curr = [int(row['appearance']), len(observations)]\n",
    "    arr.append(curr)\n",
    "    \n",
    "comp_arr = np.array(arr)\n",
    "np.savetxt('../data/compositions/dependency_network.txt', comp_arr, fmt='%d')"
   ]
  },
  {
   "cell_type": "markdown",
   "metadata": {},
   "source": [
    "**TODOs**\n",
    "\n",
    "- Dyadic Variables:\n",
    "    - User has dependency with project\n",
    "    - User participated before\n",
    "    - User has collaborated with users related to project before\n",
    "- Individual Variables:\n",
    "    - Packages\n",
    "        - License\n",
    "        - Age\n",
    "        - [X] Dependencies\n",
    "        - [X] Dependents\n",
    "        - Releases\n",
    "        - [X] GitHub Stars\n",
    "    - Developers\n",
    "        - Tenure?\n",
    "- Behavior Variable: \n",
    "    - [X] Developer Activity"
   ]
  },
  {
   "cell_type": "markdown",
   "metadata": {},
   "source": [
    "### Behavior Variable"
   ]
  },
  {
   "cell_type": "code",
   "execution_count": 19,
   "metadata": {},
   "outputs": [
    {
     "data": {
      "application/vnd.jupyter.widget-view+json": {
       "model_id": "406635f68b36476aac13211d83798175",
       "version_major": 2,
       "version_minor": 0
      },
      "text/plain": [
       "  0%|          | 0/12 [00:00<?, ?it/s]"
      ]
     },
     "metadata": {},
     "output_type": "display_data"
    },
    {
     "data": {
      "application/vnd.jupyter.widget-view+json": {
       "model_id": "8610e58ac2414d1d8d27a2100cb693bf",
       "version_major": 2,
       "version_minor": 0
      },
      "text/plain": [
       "  0%|          | 0/2047 [00:00<?, ?it/s]"
      ]
     },
     "metadata": {},
     "output_type": "display_data"
    },
    {
     "data": {
      "application/vnd.jupyter.widget-view+json": {
       "model_id": "588fcb2116d94e72a1580f82624e85b5",
       "version_major": 2,
       "version_minor": 0
      },
      "text/plain": [
       "  0%|          | 0/2047 [00:00<?, ?it/s]"
      ]
     },
     "metadata": {},
     "output_type": "display_data"
    },
    {
     "data": {
      "application/vnd.jupyter.widget-view+json": {
       "model_id": "2ec374c596934796a8ce2411399b15b8",
       "version_major": 2,
       "version_minor": 0
      },
      "text/plain": [
       "  0%|          | 0/2047 [00:00<?, ?it/s]"
      ]
     },
     "metadata": {},
     "output_type": "display_data"
    },
    {
     "data": {
      "application/vnd.jupyter.widget-view+json": {
       "model_id": "5733fcc436134f90b4b8d5bb05d58b1b",
       "version_major": 2,
       "version_minor": 0
      },
      "text/plain": [
       "  0%|          | 0/2047 [00:00<?, ?it/s]"
      ]
     },
     "metadata": {},
     "output_type": "display_data"
    },
    {
     "data": {
      "application/vnd.jupyter.widget-view+json": {
       "model_id": "00e7698674174e6481fc66877af4a23a",
       "version_major": 2,
       "version_minor": 0
      },
      "text/plain": [
       "  0%|          | 0/2047 [00:00<?, ?it/s]"
      ]
     },
     "metadata": {},
     "output_type": "display_data"
    },
    {
     "data": {
      "application/vnd.jupyter.widget-view+json": {
       "model_id": "2f9d9b74bd6e4d9cae47887f3f529243",
       "version_major": 2,
       "version_minor": 0
      },
      "text/plain": [
       "  0%|          | 0/2047 [00:00<?, ?it/s]"
      ]
     },
     "metadata": {},
     "output_type": "display_data"
    },
    {
     "data": {
      "application/vnd.jupyter.widget-view+json": {
       "model_id": "cfe3bb6f5d1c471581ef3a11c1d13ce4",
       "version_major": 2,
       "version_minor": 0
      },
      "text/plain": [
       "  0%|          | 0/2047 [00:00<?, ?it/s]"
      ]
     },
     "metadata": {},
     "output_type": "display_data"
    },
    {
     "data": {
      "application/vnd.jupyter.widget-view+json": {
       "model_id": "610a1ffc61b2418ca9245a68801f3bdd",
       "version_major": 2,
       "version_minor": 0
      },
      "text/plain": [
       "  0%|          | 0/2047 [00:00<?, ?it/s]"
      ]
     },
     "metadata": {},
     "output_type": "display_data"
    },
    {
     "data": {
      "application/vnd.jupyter.widget-view+json": {
       "model_id": "b4e051eb4d6046d4bdca064ca677402a",
       "version_major": 2,
       "version_minor": 0
      },
      "text/plain": [
       "  0%|          | 0/2047 [00:00<?, ?it/s]"
      ]
     },
     "metadata": {},
     "output_type": "display_data"
    },
    {
     "data": {
      "application/vnd.jupyter.widget-view+json": {
       "model_id": "b0f4908e71314730b4f84527d2d7cd69",
       "version_major": 2,
       "version_minor": 0
      },
      "text/plain": [
       "  0%|          | 0/2047 [00:00<?, ?it/s]"
      ]
     },
     "metadata": {},
     "output_type": "display_data"
    },
    {
     "data": {
      "application/vnd.jupyter.widget-view+json": {
       "model_id": "29cb0d9827da421aae7b680aee2521f1",
       "version_major": 2,
       "version_minor": 0
      },
      "text/plain": [
       "  0%|          | 0/2047 [00:00<?, ?it/s]"
      ]
     },
     "metadata": {},
     "output_type": "display_data"
    },
    {
     "data": {
      "application/vnd.jupyter.widget-view+json": {
       "model_id": "35c2b605231b47daa6649743e090b0ad",
       "version_major": 2,
       "version_minor": 0
      },
      "text/plain": [
       "  0%|          | 0/2047 [00:00<?, ?it/s]"
      ]
     },
     "metadata": {},
     "output_type": "display_data"
    }
   ],
   "source": [
    "# Behavior probably needs to be set on the actor level (hence developers)\n",
    "# Let's try general activity\n",
    "repos = pkgs_sample['repo_name'].tolist()\n",
    "activities = []\n",
    "with tqdm(total=len(observations)) as pbar:\n",
    "    for i, obs in enumerate(observations):\n",
    "        activities_obs = []\n",
    "        for dev in tqdm(nodelist_devs, leave=False):\n",
    "            if i == 0:\n",
    "                activity = get_developer_activity(driver, dev[4:], repos, OBSERVATION_START, obs)\n",
    "            else:\n",
    "                activity = get_developer_activity(driver, dev[4:], repos, observations[i-1], obs)\n",
    "            activities_obs.append({\"developer\": dev, obs: activity})\n",
    "        activities.append(activities_obs)\n",
    "        pbar.update()\n",
    "    pbar.close()\n",
    "    \n",
    "df = pd.DataFrame(nodelist_devs, columns=['developer'])\n",
    "\n",
    "for i in range(len(activities)):\n",
    "    _df = pd.DataFrame.from_records(activities[i])\n",
    "    df = df.merge(_df, on=\"developer\")\n",
    "    \n",
    "df.to_csv('../data/behavior/developer_activities.csv', index=False)"
   ]
  },
  {
   "cell_type": "code",
   "execution_count": 220,
   "metadata": {},
   "outputs": [],
   "source": [
    "# Transform to SIENA format\n",
    "df_behavior = df.copy()\n",
    "for i in range(len(observations)):\n",
    "    for index, row in df_behavior.iterrows():\n",
    "        if row[observations[i]] == 0:\n",
    "            df_behavior.loc[index, observations[i]] = 0\n",
    "        elif row[observations[i]] == 1:\n",
    "            df_behavior.loc[index, observations[i]] = 1\n",
    "        elif row[observations[i]] <= 5: \n",
    "            df_behavior.loc[index, observations[i]] = 2\n",
    "        elif row[observations[i]] > 5:\n",
    "            df_behavior.loc[index, observations[i]] = 3\n",
    "\n",
    "df_behavior = df_behavior[observations].astype('Int8')\n",
    "df_behavior = df_behavior[observations].astype(str)\n",
    "df_behavior.replace(to_replace='<NA>', value='NA', inplace=True)\n",
    "np.savetxt('../data/behavior/developer_activities.txt', df_behavior[observations].values, fmt='%s')"
   ]
  },
  {
   "cell_type": "markdown",
   "metadata": {},
   "source": [
    "### Dyadic Variables"
   ]
  },
  {
   "cell_type": "markdown",
   "metadata": {},
   "source": [
    "#### Dependencies\n",
    "\n",
    "This chunk creates a matrix with dummy variables representing if the developer has contributed to a package that is a dependent or dependency of the focal package that it now contributed to."
   ]
  },
  {
   "cell_type": "code",
   "execution_count": 35,
   "metadata": {},
   "outputs": [],
   "source": [
    "for i, obs in enumerate(observations[:1]):\n",
    "    net_aff = nx.read_gpickle('../data/networks/affiliation_network-{0}.pkl'.format(obs))\n",
    "    net_dep = nx.read_gpickle('../data/networks/dependency_network-{0}.pkl'.format(obs))\n",
    "    edgelist_aff = [list(item) for item in list(net_aff.edges())]\n",
    "    edgelist_dep = [list(item) for item in list(net_dep.edges())]"
   ]
  },
  {
   "cell_type": "code",
   "execution_count": 37,
   "metadata": {},
   "outputs": [
    {
     "data": {
      "text/plain": [
       "[['dev_333one', 'pkg_multer'],\n",
       " ['dev_RexHung0302', 'pkg_multer'],\n",
       " ['dev_ekatrand', 'pkg_multer'],\n",
       " ['dev_sarahm7', 'pkg_yjs'],\n",
       " ['dev_ehmicky', 'pkg_figures']]"
      ]
     },
     "execution_count": 37,
     "metadata": {},
     "output_type": "execute_result"
    }
   ],
   "source": [
    "edgelist_aff[:5]"
   ]
  },
  {
   "cell_type": "markdown",
   "metadata": {},
   "source": [
    "### Individual Variables"
   ]
  },
  {
   "cell_type": "code",
   "execution_count": 24,
   "metadata": {},
   "outputs": [],
   "source": [
    "# TODO\n",
    "# Packages:\n",
    "#   - Dependencies / Dependents\n",
    "#   - License\n",
    "#   - Age\n",
    "#   - GitHub Stars\n",
    "#\n",
    "# Developers:\n",
    "#   - Tenure (Participated before)"
   ]
  },
  {
   "cell_type": "markdown",
   "metadata": {},
   "source": [
    "#### Packages"
   ]
  },
  {
   "cell_type": "markdown",
   "metadata": {},
   "source": [
    "##### Dependencies"
   ]
  },
  {
   "cell_type": "code",
   "execution_count": 20,
   "metadata": {},
   "outputs": [
    {
     "data": {
      "application/vnd.jupyter.widget-view+json": {
       "model_id": "8b3fbaa150c041629344603a0022c4f0",
       "version_major": 2,
       "version_minor": 0
      },
      "text/plain": [
       "  0%|          | 0/12 [00:00<?, ?it/s]"
      ]
     },
     "metadata": {},
     "output_type": "display_data"
    }
   ],
   "source": [
    "dependencies = pkgs_sample[['name', 'repo_name']].copy()\n",
    "dependencies['name'] = \"pkg_\" + dependencies['name']\n",
    "\n",
    "with tqdm(total=len(observations)) as pbar:\n",
    "    for i, obs in enumerate(observations):\n",
    "        G = dependency_networks[i]\n",
    "        idegree = dict(G.in_degree())\n",
    "        odegree = dict(G.out_degree())\n",
    "        \n",
    "        df_idegree = pd.DataFrame.from_dict(idegree, orient=\"index\", columns=[\"_\".join([\"in\", obs])]).reset_index()\n",
    "        df_idegree.rename(columns={\"index\": \"name\"}, inplace=True)\n",
    "\n",
    "        df_odegree = pd.DataFrame.from_dict(odegree, orient=\"index\", columns=[\"_\".join([\"out\", obs])]).reset_index()\n",
    "        df_odegree.rename(columns={\"index\": \"name\"}, inplace=True)\n",
    "\n",
    "        dependencies = dependencies.merge(df_idegree, how=\"left\", on=\"name\")\n",
    "        dependencies = dependencies.merge(df_odegree, how=\"left\", on=\"name\")\n",
    "\n",
    "        pbar.update()\n",
    "    pbar.close()\n",
    "    \n",
    "columns_in = [\"_\".join([\"in\", obs]) for obs in observations]\n",
    "columns_out = [\"_\".join([\"out\", obs]) for obs in observations]\n",
    "\n",
    "dependencies[columns_in] = dependencies[columns_in].astype(\"Int8\")\n",
    "dependencies[columns_in] = dependencies[columns_in].astype(str)\n",
    "\n",
    "dependencies[columns_out] = dependencies[columns_out].astype(\"Int8\")\n",
    "dependencies[columns_out] = dependencies[columns_out].astype(str)\n",
    "\n",
    "dependencies.replace(to_replace='<NA>', value='NA', inplace=True)\n",
    "\n",
    "np.savetxt('../data/individual/pkg_upstream.txt', dependencies[columns_out].values, fmt='%s')\n",
    "np.savetxt('../data/individual/pkg_downstream.txt', dependencies[columns_in].values, fmt='%s')"
   ]
  },
  {
   "cell_type": "markdown",
   "metadata": {},
   "source": [
    "##### GitHub Stars"
   ]
  },
  {
   "cell_type": "code",
   "execution_count": 21,
   "metadata": {},
   "outputs": [
    {
     "data": {
      "application/vnd.jupyter.widget-view+json": {
       "model_id": "88e79eb5e0744bf8b103a7d2775006d0",
       "version_major": 2,
       "version_minor": 0
      },
      "text/plain": [
       "  0%|          | 0/12 [00:00<?, ?it/s]"
      ]
     },
     "metadata": {},
     "output_type": "display_data"
    },
    {
     "data": {
      "application/vnd.jupyter.widget-view+json": {
       "model_id": "843c6eda653242b2b828a2ba7bca37d5",
       "version_major": 2,
       "version_minor": 0
      },
      "text/plain": [
       "  0%|          | 0/100 [00:00<?, ?it/s]"
      ]
     },
     "metadata": {},
     "output_type": "display_data"
    },
    {
     "data": {
      "application/vnd.jupyter.widget-view+json": {
       "model_id": "bf9e420723d94bdc9278d1e04641c4e5",
       "version_major": 2,
       "version_minor": 0
      },
      "text/plain": [
       "  0%|          | 0/100 [00:00<?, ?it/s]"
      ]
     },
     "metadata": {},
     "output_type": "display_data"
    },
    {
     "data": {
      "application/vnd.jupyter.widget-view+json": {
       "model_id": "fcf364a959bb4b129e23ee99a2019dcb",
       "version_major": 2,
       "version_minor": 0
      },
      "text/plain": [
       "  0%|          | 0/100 [00:00<?, ?it/s]"
      ]
     },
     "metadata": {},
     "output_type": "display_data"
    },
    {
     "data": {
      "application/vnd.jupyter.widget-view+json": {
       "model_id": "3c0e33a7b5824bf39fa4294adbdb251f",
       "version_major": 2,
       "version_minor": 0
      },
      "text/plain": [
       "  0%|          | 0/100 [00:00<?, ?it/s]"
      ]
     },
     "metadata": {},
     "output_type": "display_data"
    },
    {
     "data": {
      "application/vnd.jupyter.widget-view+json": {
       "model_id": "4fe9e77ddb614fc496f7ede92b1555dd",
       "version_major": 2,
       "version_minor": 0
      },
      "text/plain": [
       "  0%|          | 0/100 [00:00<?, ?it/s]"
      ]
     },
     "metadata": {},
     "output_type": "display_data"
    },
    {
     "data": {
      "application/vnd.jupyter.widget-view+json": {
       "model_id": "e0d12a25ccc849398503de6b3e0c1900",
       "version_major": 2,
       "version_minor": 0
      },
      "text/plain": [
       "  0%|          | 0/100 [00:00<?, ?it/s]"
      ]
     },
     "metadata": {},
     "output_type": "display_data"
    },
    {
     "data": {
      "application/vnd.jupyter.widget-view+json": {
       "model_id": "1d17f9012a974c3b87167dde91264a91",
       "version_major": 2,
       "version_minor": 0
      },
      "text/plain": [
       "  0%|          | 0/100 [00:00<?, ?it/s]"
      ]
     },
     "metadata": {},
     "output_type": "display_data"
    },
    {
     "data": {
      "application/vnd.jupyter.widget-view+json": {
       "model_id": "ac534179807748ce8a32a0955bd2be7f",
       "version_major": 2,
       "version_minor": 0
      },
      "text/plain": [
       "  0%|          | 0/100 [00:00<?, ?it/s]"
      ]
     },
     "metadata": {},
     "output_type": "display_data"
    },
    {
     "data": {
      "application/vnd.jupyter.widget-view+json": {
       "model_id": "09ff8f02ee544495921fe3c24eb903e0",
       "version_major": 2,
       "version_minor": 0
      },
      "text/plain": [
       "  0%|          | 0/100 [00:00<?, ?it/s]"
      ]
     },
     "metadata": {},
     "output_type": "display_data"
    },
    {
     "data": {
      "application/vnd.jupyter.widget-view+json": {
       "model_id": "1493435c154f40099b7a5462e9e93ce2",
       "version_major": 2,
       "version_minor": 0
      },
      "text/plain": [
       "  0%|          | 0/100 [00:00<?, ?it/s]"
      ]
     },
     "metadata": {},
     "output_type": "display_data"
    },
    {
     "data": {
      "application/vnd.jupyter.widget-view+json": {
       "model_id": "d5d6c08e1e454ff9a207535410f3ed19",
       "version_major": 2,
       "version_minor": 0
      },
      "text/plain": [
       "  0%|          | 0/100 [00:00<?, ?it/s]"
      ]
     },
     "metadata": {},
     "output_type": "display_data"
    },
    {
     "data": {
      "application/vnd.jupyter.widget-view+json": {
       "model_id": "319be9a537204e5daae96a4f20ef4fb2",
       "version_major": 2,
       "version_minor": 0
      },
      "text/plain": [
       "  0%|          | 0/100 [00:00<?, ?it/s]"
      ]
     },
     "metadata": {},
     "output_type": "display_data"
    }
   ],
   "source": [
    "stars = pkgs_sample[['name', 'repo_name']].copy()\n",
    "\n",
    "with tqdm(total=len(observations)) as pbar:\n",
    "    for i, obs in enumerate(observations):\n",
    "        for index, row in tqdm(stars.iterrows(), total=len(stars.index), leave=False):\n",
    "            if i == 0:\n",
    "                watchers = get_added_watchers(driver, row['repo_name'], OBSERVATION_START, obs)\n",
    "            else:\n",
    "                watchers = get_added_watchers(driver, row['repo_name'], observations[i-1], obs)\n",
    "                \n",
    "            stars.loc[index, obs] = int(watchers)\n",
    "        \n",
    "        stars[f'log_{obs}'] = np.log10(stars[obs] + 1)\n",
    "        pbar.update()\n",
    "    pbar.close()\n",
    "\n",
    "columns = [\"_\".join(['log', obs]) for obs in observations]\n",
    "stars[columns] = stars[columns].astype(float)\n",
    "stars[columns] = stars[columns].astype(str)\n",
    "stars.replace(to_replace='<NA>', value='NA', inplace=True)\n",
    "np.savetxt('../data/individual/pkg_stars.txt', stars[columns].values, fmt='%s')"
   ]
  },
  {
   "cell_type": "markdown",
   "metadata": {},
   "source": [
    "##### Release Activity"
   ]
  },
  {
   "cell_type": "code",
   "execution_count": 183,
   "metadata": {},
   "outputs": [],
   "source": [
    "# TODO"
   ]
  },
  {
   "cell_type": "markdown",
   "metadata": {},
   "source": [
    "---"
   ]
  },
  {
   "cell_type": "markdown",
   "metadata": {},
   "source": [
    "### Licenses"
   ]
  },
  {
   "cell_type": "code",
   "execution_count": 49,
   "metadata": {},
   "outputs": [],
   "source": [
    "licenses = pd.DataFrame(nodelist, columns=['name'])\n",
    "\n",
    "for i, obs in enumerate(observations):\n",
    "    latest_versions = get_latest_version(driver, nodelist, obs)\n",
    "    latest_licenses = get_licenses(driver, list(latest_versions['_id']))\n",
    "    licenses = licenses.merge(latest_licenses, how='outer', on=['name'])\n",
    "    \n",
    "licenses.columns = ['name'] + observations"
   ]
  },
  {
   "cell_type": "code",
   "execution_count": 50,
   "metadata": {},
   "outputs": [
    {
     "data": {
      "text/html": [
       "<div>\n",
       "<style scoped>\n",
       "    .dataframe tbody tr th:only-of-type {\n",
       "        vertical-align: middle;\n",
       "    }\n",
       "\n",
       "    .dataframe tbody tr th {\n",
       "        vertical-align: top;\n",
       "    }\n",
       "\n",
       "    .dataframe thead th {\n",
       "        text-align: right;\n",
       "    }\n",
       "</style>\n",
       "<table border=\"1\" class=\"dataframe\">\n",
       "  <thead>\n",
       "    <tr style=\"text-align: right;\">\n",
       "      <th></th>\n",
       "      <th>name</th>\n",
       "      <th>2016-01-01</th>\n",
       "      <th>2017-01-01</th>\n",
       "      <th>2018-01-01</th>\n",
       "      <th>2019-01-01</th>\n",
       "    </tr>\n",
       "  </thead>\n",
       "  <tbody>\n",
       "    <tr>\n",
       "      <th>0</th>\n",
       "      <td>@atlaskit/build-utils</td>\n",
       "      <td>NaN</td>\n",
       "      <td>NaN</td>\n",
       "      <td>Apache</td>\n",
       "      <td>Apache</td>\n",
       "    </tr>\n",
       "    <tr>\n",
       "      <th>1</th>\n",
       "      <td>@atlaskit/button</td>\n",
       "      <td>NaN</td>\n",
       "      <td>NaN</td>\n",
       "      <td>Apache</td>\n",
       "      <td>Apache</td>\n",
       "    </tr>\n",
       "    <tr>\n",
       "      <th>2</th>\n",
       "      <td>@atlaskit/docs</td>\n",
       "      <td>NaN</td>\n",
       "      <td>NaN</td>\n",
       "      <td>Apache</td>\n",
       "      <td>Apache</td>\n",
       "    </tr>\n",
       "    <tr>\n",
       "      <th>3</th>\n",
       "      <td>@atlaskit/icon</td>\n",
       "      <td>NaN</td>\n",
       "      <td>NaN</td>\n",
       "      <td>NULL</td>\n",
       "      <td>NULL</td>\n",
       "    </tr>\n",
       "    <tr>\n",
       "      <th>4</th>\n",
       "      <td>@atlaskit/theme</td>\n",
       "      <td>NaN</td>\n",
       "      <td>NaN</td>\n",
       "      <td>Apache</td>\n",
       "      <td>Apache</td>\n",
       "    </tr>\n",
       "  </tbody>\n",
       "</table>\n",
       "</div>"
      ],
      "text/plain": [
       "                    name 2016-01-01 2017-01-01 2018-01-01 2019-01-01\n",
       "0  @atlaskit/build-utils        NaN        NaN     Apache     Apache\n",
       "1       @atlaskit/button        NaN        NaN     Apache     Apache\n",
       "2         @atlaskit/docs        NaN        NaN     Apache     Apache\n",
       "3         @atlaskit/icon        NaN        NaN       NULL       NULL\n",
       "4        @atlaskit/theme        NaN        NaN     Apache     Apache"
      ]
     },
     "execution_count": 50,
     "metadata": {},
     "output_type": "execute_result"
    }
   ],
   "source": [
    "licenses.head()"
   ]
  },
  {
   "cell_type": "code",
   "execution_count": 51,
   "metadata": {},
   "outputs": [],
   "source": [
    "licenses_codes = licenses.copy()\n",
    "\n",
    "licenses_codes.replace(to_replace='NULL', value=np.nan, inplace=True)\n",
    "licenses_codes[observations] = licenses_codes[observations].apply(lambda col:pd.Categorical(col).codes)\n",
    "\n",
    "licenses_codes = licenses_codes.astype(str)\n",
    "licenses_codes.replace(to_replace='-1', value='NA', inplace=True)\n",
    "licenses_codes.replace(to_replace='4', value='5', inplace=True)\n",
    "licenses_codes.replace(to_replace='3', value='4', inplace=True)\n",
    "licenses_codes.replace(to_replace='2', value='3', inplace=True)\n",
    "licenses_codes.replace(to_replace='1', value='2', inplace=True)\n",
    "licenses_codes.replace(to_replace='0', value='1', inplace=True)\n",
    "\n",
    "\n",
    "np.savetxt('../rsiena/data/licenses-codes.txt',\n",
    "           licenses_codes[observations].values, fmt='%s')"
   ]
  },
  {
   "cell_type": "code",
   "execution_count": 55,
   "metadata": {},
   "outputs": [
    {
     "data": {
      "text/html": [
       "<div>\n",
       "<style scoped>\n",
       "    .dataframe tbody tr th:only-of-type {\n",
       "        vertical-align: middle;\n",
       "    }\n",
       "\n",
       "    .dataframe tbody tr th {\n",
       "        vertical-align: top;\n",
       "    }\n",
       "\n",
       "    .dataframe thead th {\n",
       "        text-align: right;\n",
       "    }\n",
       "</style>\n",
       "<table border=\"1\" class=\"dataframe\">\n",
       "  <thead>\n",
       "    <tr style=\"text-align: right;\">\n",
       "      <th></th>\n",
       "      <th>name</th>\n",
       "      <th>2016-01-01</th>\n",
       "      <th>2017-01-01</th>\n",
       "      <th>2018-01-01</th>\n",
       "      <th>2019-01-01</th>\n",
       "    </tr>\n",
       "  </thead>\n",
       "  <tbody>\n",
       "    <tr>\n",
       "      <th>0</th>\n",
       "      <td>@atlaskit/build-utils</td>\n",
       "      <td>NA</td>\n",
       "      <td>NA</td>\n",
       "      <td>1</td>\n",
       "      <td>1</td>\n",
       "    </tr>\n",
       "    <tr>\n",
       "      <th>1</th>\n",
       "      <td>@atlaskit/button</td>\n",
       "      <td>NA</td>\n",
       "      <td>NA</td>\n",
       "      <td>1</td>\n",
       "      <td>1</td>\n",
       "    </tr>\n",
       "    <tr>\n",
       "      <th>2</th>\n",
       "      <td>@atlaskit/docs</td>\n",
       "      <td>NA</td>\n",
       "      <td>NA</td>\n",
       "      <td>1</td>\n",
       "      <td>1</td>\n",
       "    </tr>\n",
       "    <tr>\n",
       "      <th>3</th>\n",
       "      <td>@atlaskit/icon</td>\n",
       "      <td>NA</td>\n",
       "      <td>NA</td>\n",
       "      <td>NA</td>\n",
       "      <td>NA</td>\n",
       "    </tr>\n",
       "    <tr>\n",
       "      <th>4</th>\n",
       "      <td>@atlaskit/theme</td>\n",
       "      <td>NA</td>\n",
       "      <td>NA</td>\n",
       "      <td>1</td>\n",
       "      <td>1</td>\n",
       "    </tr>\n",
       "  </tbody>\n",
       "</table>\n",
       "</div>"
      ],
      "text/plain": [
       "                    name 2016-01-01 2017-01-01 2018-01-01 2019-01-01\n",
       "0  @atlaskit/build-utils         NA         NA          1          1\n",
       "1       @atlaskit/button         NA         NA          1          1\n",
       "2         @atlaskit/docs         NA         NA          1          1\n",
       "3         @atlaskit/icon         NA         NA         NA         NA\n",
       "4        @atlaskit/theme         NA         NA          1          1"
      ]
     },
     "execution_count": 55,
     "metadata": {},
     "output_type": "execute_result"
    }
   ],
   "source": [
    "licenses_codes.head()"
   ]
  },
  {
   "cell_type": "code",
   "execution_count": 56,
   "metadata": {},
   "outputs": [],
   "source": [
    "releases = pd.DataFrame(nodelist, columns=['name'])\n",
    "\n",
    "for i in range(len(observations)):\n",
    "    release_counts = get_releases(driver, nodelist, observations[i])\n",
    "    release_counts.columns = ['name', observations[i]]\n",
    "    releases = releases.merge(release_counts, how='outer', on=['name'])"
   ]
  },
  {
   "cell_type": "code",
   "execution_count": 57,
   "metadata": {},
   "outputs": [
    {
     "data": {
      "text/html": [
       "<div>\n",
       "<style scoped>\n",
       "    .dataframe tbody tr th:only-of-type {\n",
       "        vertical-align: middle;\n",
       "    }\n",
       "\n",
       "    .dataframe tbody tr th {\n",
       "        vertical-align: top;\n",
       "    }\n",
       "\n",
       "    .dataframe thead th {\n",
       "        text-align: right;\n",
       "    }\n",
       "</style>\n",
       "<table border=\"1\" class=\"dataframe\">\n",
       "  <thead>\n",
       "    <tr style=\"text-align: right;\">\n",
       "      <th></th>\n",
       "      <th>2016-01-01</th>\n",
       "      <th>2017-01-01</th>\n",
       "      <th>2018-01-01</th>\n",
       "      <th>2019-01-01</th>\n",
       "    </tr>\n",
       "  </thead>\n",
       "  <tbody>\n",
       "    <tr>\n",
       "      <th>count</th>\n",
       "      <td>199.000000</td>\n",
       "      <td>256.000000</td>\n",
       "      <td>280.000000</td>\n",
       "      <td>301.000000</td>\n",
       "    </tr>\n",
       "    <tr>\n",
       "      <th>mean</th>\n",
       "      <td>34.376884</td>\n",
       "      <td>40.207031</td>\n",
       "      <td>48.346429</td>\n",
       "      <td>55.534884</td>\n",
       "    </tr>\n",
       "    <tr>\n",
       "      <th>std</th>\n",
       "      <td>47.611047</td>\n",
       "      <td>48.636548</td>\n",
       "      <td>53.227159</td>\n",
       "      <td>63.142402</td>\n",
       "    </tr>\n",
       "    <tr>\n",
       "      <th>min</th>\n",
       "      <td>1.000000</td>\n",
       "      <td>1.000000</td>\n",
       "      <td>1.000000</td>\n",
       "      <td>1.000000</td>\n",
       "    </tr>\n",
       "    <tr>\n",
       "      <th>25%</th>\n",
       "      <td>9.000000</td>\n",
       "      <td>11.000000</td>\n",
       "      <td>16.000000</td>\n",
       "      <td>17.000000</td>\n",
       "    </tr>\n",
       "    <tr>\n",
       "      <th>50%</th>\n",
       "      <td>19.000000</td>\n",
       "      <td>23.000000</td>\n",
       "      <td>30.000000</td>\n",
       "      <td>36.000000</td>\n",
       "    </tr>\n",
       "    <tr>\n",
       "      <th>75%</th>\n",
       "      <td>42.000000</td>\n",
       "      <td>49.000000</td>\n",
       "      <td>58.000000</td>\n",
       "      <td>69.000000</td>\n",
       "    </tr>\n",
       "    <tr>\n",
       "      <th>max</th>\n",
       "      <td>455.000000</td>\n",
       "      <td>460.000000</td>\n",
       "      <td>468.000000</td>\n",
       "      <td>478.000000</td>\n",
       "    </tr>\n",
       "  </tbody>\n",
       "</table>\n",
       "</div>"
      ],
      "text/plain": [
       "       2016-01-01  2017-01-01  2018-01-01  2019-01-01\n",
       "count  199.000000  256.000000  280.000000  301.000000\n",
       "mean    34.376884   40.207031   48.346429   55.534884\n",
       "std     47.611047   48.636548   53.227159   63.142402\n",
       "min      1.000000    1.000000    1.000000    1.000000\n",
       "25%      9.000000   11.000000   16.000000   17.000000\n",
       "50%     19.000000   23.000000   30.000000   36.000000\n",
       "75%     42.000000   49.000000   58.000000   69.000000\n",
       "max    455.000000  460.000000  468.000000  478.000000"
      ]
     },
     "execution_count": 57,
     "metadata": {},
     "output_type": "execute_result"
    }
   ],
   "source": [
    "releases.describe()"
   ]
  },
  {
   "cell_type": "code",
   "execution_count": 58,
   "metadata": {},
   "outputs": [],
   "source": [
    "releases_codes = releases.copy()\n",
    "\n",
    "for i in range(len(observations)):\n",
    "    for index, row in releases_codes.iterrows():\n",
    "        if row[observations[i]] <= 5:\n",
    "            releases_codes.loc[index, observations[i]] = 1\n",
    "        elif row[observations[i]] <= 10:\n",
    "            releases_codes.loc[index, observations[i]] = 2\n",
    "        elif row[observations[i]] <= 20:\n",
    "            releases_codes.loc[index, observations[i]] = 3\n",
    "        elif row[observations[i]] <= 30:\n",
    "            releases_codes.loc[index, observations[i]] = 4\n",
    "        elif row[observations[i]] <= 40:\n",
    "            releases_codes.loc[index, observations[i]] = 5\n",
    "        elif row[observations[i]] <= 50: \n",
    "            releases_codes.loc[index, observations[i]] = 6\n",
    "        elif row[observations[i]] <= 60:\n",
    "            releases_codes.loc[index, observations[i]] = 7\n",
    "        elif row[observations[i]] > 60:\n",
    "            releases_codes.loc[index, observations[i]] = 8\n",
    "\n",
    "releases_codes[observations] = releases_codes[observations].astype('Int8')\n",
    "releases_codes[observations] = releases_codes[observations].astype(str)\n",
    "releases_codes.replace(to_replace='<NA>', value='NA', inplace=True)\n",
    "np.savetxt('../rsiena/data/releases-codes.txt',\n",
    "           releases_codes[observations].values, fmt='%s')\n"
   ]
  },
  {
   "cell_type": "markdown",
   "metadata": {},
   "source": [
    "### Age"
   ]
  },
  {
   "cell_type": "code",
   "execution_count": 59,
   "metadata": {},
   "outputs": [],
   "source": [
    "ages = df_created[['name', 'created']]\n",
    "\n",
    "for obs in observations:\n",
    "    ages[obs] = ages['created'].apply(\n",
    "        lambda x: datetime.datetime.strptime(obs, '%Y-%m-%d').date() - x.date())\n",
    "    ages[obs] = round(ages[obs].dt.days/365, 0)\n",
    "    ages[obs] = ages[obs].apply(lambda x : x if x > 0 else np.nan)\n",
    "\n",
    "ages[observations] = ages[observations].astype('Int8')\n",
    "ages[observations] = ages[observations].astype(str)\n",
    "\n",
    "ages.replace(to_replace='<NA>', value='NA', inplace=True)\n",
    "np.savetxt('../rsiena/data/ages.txt', ages[observations].values, fmt='%s')"
   ]
  }
 ],
 "metadata": {
  "interpreter": {
   "hash": "833eb098fc81a387e667a83821bd3bfe54e47770c4f6f3f0b07bf099c925af38"
  },
  "kernelspec": {
   "display_name": "Python 3.9.10 ('posse-data')",
   "language": "python",
   "name": "python3"
  },
  "language_info": {
   "codemirror_mode": {
    "name": "ipython",
    "version": 3
   },
   "file_extension": ".py",
   "mimetype": "text/x-python",
   "name": "python",
   "nbconvert_exporter": "python",
   "pygments_lexer": "ipython3",
   "version": "3.9.10"
  },
  "orig_nbformat": 2
 },
 "nbformat": 4,
 "nbformat_minor": 2
}
