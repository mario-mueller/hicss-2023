{
 "cells": [
  {
   "cell_type": "code",
   "execution_count": 22,
   "metadata": {},
   "outputs": [],
   "source": [
    "import os\n",
    "import datetime\n",
    "import pytz\n",
    "import pickle\n",
    "import numpy as np\n",
    "import pandas as pd\n",
    "import networkx as nx\n",
    "from dotenv import find_dotenv, load_dotenv\n",
    "from dateutil.parser import parse\n",
    "from dateutil.relativedelta import relativedelta\n",
    "from neo4j import GraphDatabase\n",
    "from tqdm.notebook import tqdm"
   ]
  },
  {
   "cell_type": "markdown",
   "metadata": {},
   "source": [
    "## Required Functions\n",
    "\n",
    "This section definies various function for data retrieval from Neo4j database."
   ]
  },
  {
   "cell_type": "code",
   "execution_count": 2,
   "metadata": {},
   "outputs": [],
   "source": [
    "def get_packages(driver, date):\n",
    "    \"\"\"Queries packages from database\n",
    "\n",
    "    Retrieves a list of packages that have a unique repository\n",
    "    and have been created until the specified date.\n",
    "\n",
    "    Args:\n",
    "        driver: Neo4j database connection's driver.\n",
    "        date: Date to filter packages creation.\n",
    "    \n",
    "    Returns:\n",
    "        A pandas DataFrame containing the packages.\n",
    "        Each row represents a package with the attributes\n",
    "        'name', 'repo_name', 'repo_owner', and 'created'.\n",
    "    \"\"\"\n",
    "    with driver.session(database='main') as session:\n",
    "        query = \"\"\"\n",
    "                MATCH (pa:Package)-[r:DEVELOPED_AT]->(pr:Project)\n",
    "                WITH pr, COUNT(r) AS num_pkgs\n",
    "                WHERE num_pkgs = 1\n",
    "                WITH pr\n",
    "                MATCH (pa:Package)-[r:DEVELOPED_AT]->(pr)\n",
    "                WHERE pa.created < DateTime($date)\n",
    "                RETURN pa.name AS name,\n",
    "                       pa.repo_name AS repo_name,\n",
    "                       pa.repo_owner AS repo_owner,\n",
    "                       toString(pa.created) AS created\n",
    "                \"\"\"\n",
    "        \n",
    "        results = session.run(query, date=date).data()\n",
    "    \n",
    "        packages = pd.DataFrame.from_dict(results)\n",
    "        packages['created'] = pd.to_datetime(packages['created'])\n",
    "        packages['observation'] = pd.to_datetime(date)\n",
    "    \n",
    "    return packages"
   ]
  },
  {
   "cell_type": "code",
   "execution_count": 3,
   "metadata": {},
   "outputs": [],
   "source": [
    "def get_latest_version(driver, package, date):\n",
    "    \"\"\"Queries latest package version from database\n",
    "\n",
    "    Retrieves the latest version for each package in list of\n",
    "    names at observation date.\n",
    "\n",
    "    Args:\n",
    "        driver: Neo4j database connection's driver.\n",
    "        package: Package name.\n",
    "        date: Date of observation.\n",
    "    \n",
    "    Returns:\n",
    "        A list of dictionaries with data.\n",
    "    \"\"\"\n",
    "    with driver.session(database='main') as session:\n",
    "        query = \"\"\"\n",
    "                OPTIONAL MATCH (p:Package { id: $package })-[:RELEASED]->(v:Version)\n",
    "                WHERE v.created < DateTime($date)\n",
    "                AND NOT v.number CONTAINS \"-\"\n",
    "                RETURN p.name AS name,\n",
    "                       v.id AS version_id,\n",
    "                       v.number AS version,\n",
    "                       v.license AS license,\n",
    "                       toString(v.created) AS version_created\n",
    "                ORDER BY v.created DESC\n",
    "                LIMIT 1\n",
    "                \"\"\"\n",
    "        return session.run(query, package=package, date=date).data()"
   ]
  },
  {
   "cell_type": "code",
   "execution_count": 4,
   "metadata": {},
   "outputs": [],
   "source": [
    "def get_dependencies(driver, version_ids):\n",
    "    \"\"\"Queries version's dependencies from database.\n",
    "\n",
    "    Retrieves the dependencies of for each package version\n",
    "    in list of version IDs.\n",
    "\n",
    "    Args:\n",
    "        driver: Neo4j database connection's driver.\n",
    "        version_ids: List of version IDs.\n",
    "    \n",
    "    Returns:\n",
    "        A pandas DataFrame containing the all dependencies for\n",
    "        each version ID. Each row represents an edge from the\n",
    "        package towards its dependency with the attributes\n",
    "        'source', 'target', 'type', and 'created.\n",
    "    \"\"\"\n",
    "    with driver.session(database='main') as session:\n",
    "        query = \"\"\"\n",
    "                UNWIND $versions AS version\n",
    "                MATCH (v:Version { id: version })-[d:DEPENDS_ON]->(p:Package)\n",
    "                RETURN v.package_id AS source,\n",
    "                       p.id AS target,\n",
    "                       d.requirements AS requirements,\n",
    "                       toString(v.created) AS created\n",
    "                \"\"\"\n",
    "\n",
    "        results = session.run(query, versions=version_ids).data()\n",
    "\n",
    "        dependencies = pd.DataFrame.from_dict(results)\n",
    "        dependencies['created'] = pd.to_datetime(dependencies['created'])\n",
    "\n",
    "    return dependencies"
   ]
  },
  {
   "cell_type": "code",
   "execution_count": 16,
   "metadata": {},
   "outputs": [],
   "source": [
    "def get_developers(driver, repository, start, end):\n",
    "    \"\"\"Queries participating developers for repositories from database.\n",
    "\n",
    "    Retrieves the participating of for each repositories\n",
    "    in list of IDs.\n",
    "\n",
    "    Args:\n",
    "        driver: Neo4j database connection's driver.\n",
    "        repository: Repository IDs.\n",
    "    \n",
    "    Returns:\n",
    "        A pandas DataFrame containing the participating users for\n",
    "        a repository. Each row represents a developers with the attributes\n",
    "        'XXX', 'XXX', 'XXX', and 'XXX'.\n",
    "    \"\"\"\n",
    "    with driver.session(database='main') as session:\n",
    "        query_comments = \"\"\"\n",
    "            MATCH (u:User)-[p:POSTED]->(c:Comment)-[*2]->(r:Repository)\n",
    "            WHERE r.name = toString($repository)\n",
    "            AND c.created >= datetime($start)\n",
    "            AND c.created < datetime($end)\n",
    "            AND u.type <> \"Bot\"\n",
    "            RETURN DISTINCT u.login AS login\n",
    "            \"\"\"\n",
    "                \n",
    "        query_issues = \"\"\"\n",
    "            MATCH (u:User)-[a]->(:Issue)-[:RELATED_TO]->(r:Repository)\n",
    "            WHERE r.name = toString($repository)\n",
    "            AND a.created >= datetime($start)\n",
    "            AND a.created < datetime($end)\n",
    "            AND u.type <> \"Bot\"\n",
    "            RETURN DISTINCT u.login AS login\n",
    "            \"\"\"\n",
    "\n",
    "        query_pullreq = \"\"\"\n",
    "            MATCH (u:User)-[a]->(:PullRequest)-[:RELATED_TO]->(r:Repository)\n",
    "            WHERE r.name = toString($repository)\n",
    "            AND a.created >= datetime($start)\n",
    "            AND a.created < datetime($end)\n",
    "            AND u.type <> \"Bot\"\n",
    "            RETURN DISTINCT u.login AS login\n",
    "            \"\"\"\n",
    "\n",
    "        query_commits = \"\"\"\n",
    "            MATCH (u:User)-[a]->(:Commit)-[:RELATED_TO]->(r:Repository)\n",
    "            WHERE r.name = toString($repository)\n",
    "            AND a.created >= datetime($start)\n",
    "            AND a.created < datetime($end)\n",
    "            AND u.type <> \"Bot\"\n",
    "            RETURN DISTINCT u.login AS login\n",
    "            \"\"\"\n",
    "\n",
    "        results_comments = session.run(\n",
    "            query_comments, repository=repository, start=start, end=end).data()\n",
    "        results_issues = session.run(\n",
    "            query_issues, repository=repository, start=start, end=end).data()\n",
    "        results_pullreq = session.run(\n",
    "            query_pullreq, repository=repository, start=start, end=end).data()\n",
    "        results_commits = session.run(\n",
    "            query_commits, repository=repository, start=start, end=end).data()\n",
    "\n",
    "        comments = pd.DataFrame.from_dict(results_comments)        \n",
    "        issues = pd.DataFrame.from_dict(results_issues)\n",
    "        pullreqs = pd.DataFrame.from_dict(results_pullreq)\n",
    "        commits = pd.DataFrame.from_dict(results_commits)\n",
    "\n",
    "        developers = pd.concat([comments, issues, pullreqs, commits], axis=0)\n",
    "        developers.drop_duplicates(subset=['login'], inplace=True)\n",
    "        developers.reset_index(inplace=True)\n",
    "        developers['repo_name'] = repository\n",
    "\n",
    "    return developers.to_dict(orient='records')"
   ]
  },
  {
   "cell_type": "markdown",
   "metadata": {},
   "source": [
    "## Database Connection"
   ]
  },
  {
   "cell_type": "code",
   "execution_count": 6,
   "metadata": {},
   "outputs": [],
   "source": [
    "load_dotenv(find_dotenv())\n",
    "\n",
    "# Get env variables\n",
    "uri = os.getenv(\"NEO4J_URI\")\n",
    "user = os.getenv(\"NEO4J_USERNAME\")\n",
    "password = os.getenv(\"NEO4J_PASSWORD\")\n",
    "\n",
    "driver = GraphDatabase.driver(uri, auth=(user, password),\n",
    "                              encrypted=False,\n",
    "                              max_connection_lifetime=3600)"
   ]
  },
  {
   "cell_type": "markdown",
   "metadata": {},
   "source": [
    "## Data Retrieval\n",
    "\n",
    "### Set Observation Points"
   ]
  },
  {
   "cell_type": "code",
   "execution_count": 7,
   "metadata": {},
   "outputs": [
    {
     "name": "stdout",
     "output_type": "stream",
     "text": [
      "1 2021-04-01\n",
      "2 2021-07-01\n",
      "3 2021-10-01\n",
      "4 2022-01-01\n"
     ]
    }
   ],
   "source": [
    "# Set periods for iteration\n",
    "OBSERVATION_START = '2021-01-01'\n",
    "DATE_START = '2021-04-01'  # Date of the first observation, React created at \n",
    "DATE_END = '2022-01-01'  # Date of last observation, full dataset 2020-03-01\n",
    "PERIOD_LENGTH = relativedelta(months=3)  # Time between observations\n",
    "\n",
    "period = DATE_START\n",
    "periods = []\n",
    "obs = 0\n",
    "while period <= DATE_END:\n",
    "    periods.append(period)\n",
    "    next_period = (parse(period) + PERIOD_LENGTH).strftime(\"%Y-%m-%d\")\n",
    "    period = next_period\n",
    "    obs += 1\n",
    "\n",
    "observations = periods\n",
    "\n",
    "[print(i+1, obs) for i, obs in enumerate(observations)];"
   ]
  },
  {
   "cell_type": "markdown",
   "metadata": {},
   "source": [
    "### Create List of Packages"
   ]
  },
  {
   "cell_type": "code",
   "execution_count": 9,
   "metadata": {},
   "outputs": [
    {
     "name": "stderr",
     "output_type": "stream",
     "text": [
      "100%|██████████| 8108/8108 [00:10<00:00, 760.62it/s]\n",
      "100%|██████████| 8141/8141 [00:10<00:00, 744.30it/s]\n",
      "100%|██████████| 8180/8180 [00:11<00:00, 732.24it/s]\n",
      "100%|██████████| 8208/8208 [00:10<00:00, 797.25it/s]\n"
     ]
    }
   ],
   "source": [
    "data = []\n",
    "for obs in observations:\n",
    "    packages = get_packages(driver, obs)\n",
    "\n",
    "    latest_versions = []\n",
    "    for package in tqdm(packages['name'].tolist()):\n",
    "        latest_version = get_latest_version(driver, package, obs)\n",
    "        latest_versions.append(latest_version[0])\n",
    "\n",
    "    versions = pd.DataFrame.from_records(latest_versions)\n",
    "    versions['version_created'] = pd.to_datetime(versions['version_created'])\n",
    "\n",
    "    packages = packages.merge(versions, how=\"left\", on=['name'])\n",
    "\n",
    "    data.append(packages)"
   ]
  },
  {
   "cell_type": "code",
   "execution_count": 11,
   "metadata": {},
   "outputs": [
    {
     "name": "stderr",
     "output_type": "stream",
     "text": [
      "100%|██████████| 4/4 [00:05<00:00,  1.31s/it]\n"
     ]
    }
   ],
   "source": [
    "# TODO Need to focus on largest component again? Then, data from the step above needs to be filtered\n",
    "# Create dependency networks for each observation\n",
    "dependency_networks = []\n",
    "with tqdm(total=len(observations)) as pbar:\n",
    "    for i, obs in enumerate(observations):\n",
    "        dependencies = get_dependencies(driver, data[i]['version_id'].tolist())\n",
    "\n",
    "        # Keep edges between nodes in nodelist\n",
    "        dependencies = dependencies[dependencies['target'].isin(data[i]['name'].tolist())]\n",
    "\n",
    "        nodelist = data[i]['name'].tolist()\n",
    "        edgelist = list(zip(dependencies['source'], dependencies['target']))\n",
    "\n",
    "        G = nx.DiGraph()\n",
    "        G.add_nodes_from(nodelist)\n",
    "        G.add_edges_from(edgelist)\n",
    "        dependency_networks.append(G)\n",
    "        # nx.write_gpickle(G, '../data/dependency_network-{0}.pkl'.format(obs))\n",
    "        # nx.write_gml(G, '../data/dependency_network-{0}.gml'.format(obs))\n",
    "        pbar.update()\n",
    "    pbar.close()"
   ]
  },
  {
   "cell_type": "markdown",
   "metadata": {},
   "source": [
    "### Adjacency Matrices"
   ]
  },
  {
   "cell_type": "code",
   "execution_count": 77,
   "metadata": {},
   "outputs": [
    {
     "name": "stderr",
     "output_type": "stream",
     "text": [
      "100%|██████████| 4/4 [03:45<00:00, 56.50s/it]\n"
     ]
    }
   ],
   "source": [
    "# Latest observation makes nodelist to account for later joiners\n",
    "full_packages = data[(len(observations) - 1)]\n",
    "nodelist = full_packages['name'].tolist()\n",
    "\n",
    "with tqdm(total=len(observations)) as pbar:\n",
    "    for i, obs in enumerate(observations):\n",
    "        adj = nx.to_pandas_adjacency(G, nodelist=nodelist)\n",
    "\n",
    "        # Identify missing nodes at observation\n",
    "        available_nodes = list(full_packages[full_packages['created'] < obs]['name'])\n",
    "        missing_nodes = [item for item in nodelist if item not in available_nodes]\n",
    "\n",
    "        # Change rows\n",
    "        adj.loc[ missing_nodes , : ] = np.nan\n",
    "        # Change columns\n",
    "        adj.loc[ : , missing_nodes ] = np.nan\n",
    "\n",
    "        adj = adj.astype('Int8')\n",
    "        adj = adj.astype(str)\n",
    "        adj.replace(to_replace='<NA>', value='NA', inplace=True)\n",
    "\n",
    "        am = adj.to_numpy()\n",
    "        np.savetxt('../data/net{0}.txt'.format(i+1), am, fmt='%s')\n",
    "        np.savetxt('../data/am-{0}.txt'.format(obs), am, fmt='%s')\n",
    "\n",
    "        # With structural zeros instead of NA for Goodness-of-Fit tests\n",
    "        adj.replace(to_replace='NA', value='0', inplace=True)\n",
    "        am = adj.to_numpy()\n",
    "        np.savetxt('../data/net{0}-gof.txt'.format(i+1), am, fmt='%s')\n",
    "\n",
    "        pbar.update()\n",
    "    pbar.close()"
   ]
  },
  {
   "cell_type": "markdown",
   "metadata": {},
   "source": [
    "## Affiliation Networks"
   ]
  },
  {
   "cell_type": "code",
   "execution_count": 23,
   "metadata": {},
   "outputs": [
    {
     "data": {
      "application/vnd.jupyter.widget-view+json": {
       "model_id": "d757536511fd48bf977e40ad89067e58",
       "version_major": 2,
       "version_minor": 0
      },
      "text/plain": [
       "  0%|          | 0/4 [00:00<?, ?it/s]"
      ]
     },
     "metadata": {},
     "output_type": "display_data"
    },
    {
     "data": {
      "application/vnd.jupyter.widget-view+json": {
       "model_id": "4da7bf52a16c4f2395651c10c09e7af6",
       "version_major": 2,
       "version_minor": 0
      },
      "text/plain": [
       "  0%|          | 0/8108 [00:00<?, ?it/s]"
      ]
     },
     "metadata": {},
     "output_type": "display_data"
    },
    {
     "data": {
      "application/vnd.jupyter.widget-view+json": {
       "model_id": "7e809e499efe483c97f3693c3f9dca78",
       "version_major": 2,
       "version_minor": 0
      },
      "text/plain": [
       "  0%|          | 0/8141 [00:00<?, ?it/s]"
      ]
     },
     "metadata": {},
     "output_type": "display_data"
    },
    {
     "data": {
      "application/vnd.jupyter.widget-view+json": {
       "model_id": "82d70f21e7ad4b6fb7d957e27bc61e1f",
       "version_major": 2,
       "version_minor": 0
      },
      "text/plain": [
       "  0%|          | 0/8180 [00:00<?, ?it/s]"
      ]
     },
     "metadata": {},
     "output_type": "display_data"
    },
    {
     "data": {
      "application/vnd.jupyter.widget-view+json": {
       "model_id": "05ba5ba3b4de460fb5cd2529074e6218",
       "version_major": 2,
       "version_minor": 0
      },
      "text/plain": [
       "  0%|          | 0/8208 [00:00<?, ?it/s]"
      ]
     },
     "metadata": {},
     "output_type": "display_data"
    }
   ],
   "source": [
    "# Create affiliation networks for each observation\n",
    "affiliation_networks = []\n",
    "\n",
    "with tqdm(total=len(observations)) as pbar:\n",
    "    for i, obs in enumerate(observations):\n",
    "        repo_names = data[i]['repo_name'].tolist()\n",
    "        developers = []\n",
    "        for repo in tqdm(repo_names, leave=False):\n",
    "            if i == 0:\n",
    "                devs = get_developers(driver, repo, OBSERVATION_START, obs)\n",
    "            else:\n",
    "                devs = get_developers(driver, repo, observations[i-1], observations[i])\n",
    "            developers.extend(devs)\n",
    "\n",
    "        df_devs = pd.DataFrame.from_records(developers)\n",
    "        nodelist = df_devs['login'].unique().tolist()\n",
    "        edgelist = list(zip(df_devs['login'], df_devs['repo_name']))\n",
    "\n",
    "        G = nx.DiGraph()\n",
    "        G.add_nodes_from(nodelist)\n",
    "        G.add_nodes_from(repo_names)\n",
    "        G.add_edges_from(edgelist)\n",
    "        affiliation_networks.append(G)\n",
    "        nx.write_gpickle(G, '../data/affiliation_network-{0}.pkl'.format(obs))\n",
    "        nx.write_gml(G, '../data/affiliation_network-{0}.gml'.format(obs))\n",
    "        pbar.update()\n",
    "    pbar.close()"
   ]
  },
  {
   "cell_type": "markdown",
   "metadata": {},
   "source": [
    "### Composition Change"
   ]
  },
  {
   "cell_type": "code",
   "execution_count": 30,
   "metadata": {},
   "outputs": [],
   "source": [
    "composition = df_created[['name', 'created']]\n",
    "composition['appearance'] = 0\n",
    "\n",
    "rev_obs = sorted(observations,  reverse=True)\n",
    "for i, item in enumerate(rev_obs):\n",
    "    obs = len(rev_obs) - i\n",
    "    composition.loc[composition['created'] < item, 'appearance'] = int(obs)\n",
    "\n",
    "arr = []\n",
    "for i, row in composition.iterrows():\n",
    "    curr = [int(row['appearance']), len(observations)]\n",
    "    arr.append(curr)\n",
    "    \n",
    "comp_arr = np.array(arr)\n",
    "np.savetxt('../rsiena/data/composition-changes.txt', comp_arr, fmt='%d')"
   ]
  },
  {
   "cell_type": "markdown",
   "metadata": {},
   "source": [
    "### Dependency Types"
   ]
  },
  {
   "cell_type": "code",
   "execution_count": 24,
   "metadata": {},
   "outputs": [],
   "source": [
    "for i, obs in enumerate(observations):\n",
    "    G = nx.read_gpickle('data/graph-{0}.pkl'.format(obs))\n",
    "    # Create subgraph based on final nodelist\n",
    "    U = G.subgraph(nodelist).copy()\n",
    "    # U = nx.subgraph(G, nodelist)\n",
    "\n",
    "    # Convert list of tuples to list of lists for neo4j\n",
    "    edgelist = [list(item) for item in list(U.edges())]\n",
    "\n",
    "    # Query dependency types for all edges\n",
    "    dependency_types = get_dependency_type(driver, edgelist, obs)\n",
    "\n",
    "    # Change types to categorical codes\n",
    "    dependency_types['type'].replace(to_replace='dependency', value=1, inplace=True)\n",
    "    dependency_types['type'].replace(to_replace='devDependency', value=2, inplace=True)\n",
    "    dependency_types['type'].replace(to_replace='peerDependency', value=3, inplace=True)\n",
    "\n",
    "    # Add weights to edges according to code of dependency type\n",
    "    for index, row in dependency_types.iterrows():\n",
    "        U.edges[row['source'], row['target']]['weight'] = row['type']\n",
    "\n",
    "    # Export\n",
    "    adj = nx.to_pandas_adjacency(U, nodelist=nodelist, dtype='Int8')\n",
    "\n",
    "    # Identify missing nodes at observation\n",
    "    available_nodes = list(df_created[df_created['created'] < obs]['name'])\n",
    "    missing_nodes = [item for item in nodelist if item not in available_nodes]\n",
    "\n",
    "    # Change rows\n",
    "    adj.loc[ missing_nodes , : ] = np.nan\n",
    "    # Change columns\n",
    "    adj.loc[ : , missing_nodes ] = np.nan\n",
    "\n",
    "    adj = adj.astype('Int8')\n",
    "    adj = adj.astype(str)\n",
    "    adj.replace(to_replace='<NA>', value='NA', inplace=True)\n",
    "\n",
    "    am = adj.to_numpy()\n",
    "    np.savetxt('../rsiena/data/net{0}-type.txt'.format(i+1), am, fmt='%s')\n",
    "\n",
    "    adj.replace(to_replace='NA', value='0', inplace=True)\n",
    "    np.savetxt('../rsiena/data/net{0}-type-gof.txt'.format(i+1), am, fmt='%s')"
   ]
  },
  {
   "cell_type": "markdown",
   "metadata": {},
   "source": [
    "### Update Behavior"
   ]
  },
  {
   "cell_type": "code",
   "execution_count": 46,
   "metadata": {},
   "outputs": [],
   "source": [
    "updates = pd.DataFrame(nodelist, columns=['name'])\n",
    "for obs in observations:\n",
    "    _date_obs = datetime.datetime.strptime(obs, '%Y-%m-%d')\n",
    "    timezone = pytz.timezone('UTC')\n",
    "    date_obs = timezone.localize(_date_obs)\n",
    "\n",
    "    latest_versions = get_latest_version(driver, nodelist, obs)\n",
    "\n",
    "    data = {}\n",
    "    for i, row in latest_versions.iterrows():\n",
    "        delta = date_obs - row['created']\n",
    "        data[row['name']] = delta\n",
    "    \n",
    "    _updates = pd.DataFrame.from_dict(data, orient='index', columns=[obs])\n",
    "    updates = updates.merge(_updates, how='outer', right_index=True, left_on=['name'])"
   ]
  },
  {
   "cell_type": "code",
   "execution_count": 47,
   "metadata": {},
   "outputs": [
    {
     "data": {
      "text/html": [
       "<div>\n",
       "<style scoped>\n",
       "    .dataframe tbody tr th:only-of-type {\n",
       "        vertical-align: middle;\n",
       "    }\n",
       "\n",
       "    .dataframe tbody tr th {\n",
       "        vertical-align: top;\n",
       "    }\n",
       "\n",
       "    .dataframe thead th {\n",
       "        text-align: right;\n",
       "    }\n",
       "</style>\n",
       "<table border=\"1\" class=\"dataframe\">\n",
       "  <thead>\n",
       "    <tr style=\"text-align: right;\">\n",
       "      <th></th>\n",
       "      <th>2016-01-01</th>\n",
       "      <th>2017-01-01</th>\n",
       "      <th>2018-01-01</th>\n",
       "      <th>2019-01-01</th>\n",
       "    </tr>\n",
       "  </thead>\n",
       "  <tbody>\n",
       "    <tr>\n",
       "      <th>count</th>\n",
       "      <td>199</td>\n",
       "      <td>256</td>\n",
       "      <td>280</td>\n",
       "      <td>301</td>\n",
       "    </tr>\n",
       "    <tr>\n",
       "      <th>mean</th>\n",
       "      <td>106 days 08:01:24.643216080</td>\n",
       "      <td>183 days 21:15:55.984375</td>\n",
       "      <td>273 days 17:41:24.567857144</td>\n",
       "      <td>353 days 21:48:01.026578072</td>\n",
       "    </tr>\n",
       "    <tr>\n",
       "      <th>std</th>\n",
       "      <td>166 days 01:10:56.408254856</td>\n",
       "      <td>220 days 16:11:24.619665196</td>\n",
       "      <td>310 days 04:22:23.649908268</td>\n",
       "      <td>407 days 16:10:11.135340508</td>\n",
       "    </tr>\n",
       "    <tr>\n",
       "      <th>min</th>\n",
       "      <td>0 days 09:09:03</td>\n",
       "      <td>0 days 07:48:27</td>\n",
       "      <td>1 days 06:01:17</td>\n",
       "      <td>2 days 01:44:12</td>\n",
       "    </tr>\n",
       "    <tr>\n",
       "      <th>25%</th>\n",
       "      <td>22 days 00:19:51.500000</td>\n",
       "      <td>28 days 06:29:50</td>\n",
       "      <td>40 days 05:58:08.500000</td>\n",
       "      <td>37 days 10:07:19</td>\n",
       "    </tr>\n",
       "    <tr>\n",
       "      <th>50%</th>\n",
       "      <td>44 days 13:46:19</td>\n",
       "      <td>112 days 19:11:46</td>\n",
       "      <td>130 days 10:56:48</td>\n",
       "      <td>154 days 01:37:26</td>\n",
       "    </tr>\n",
       "    <tr>\n",
       "      <th>75%</th>\n",
       "      <td>133 days 19:37:29</td>\n",
       "      <td>243 days 07:01:34.750000</td>\n",
       "      <td>482 days 07:40:37.500000</td>\n",
       "      <td>572 days 07:52:17</td>\n",
       "    </tr>\n",
       "    <tr>\n",
       "      <th>max</th>\n",
       "      <td>1238 days 02:25:47</td>\n",
       "      <td>1604 days 02:25:47</td>\n",
       "      <td>1969 days 02:25:47</td>\n",
       "      <td>2334 days 02:25:47</td>\n",
       "    </tr>\n",
       "  </tbody>\n",
       "</table>\n",
       "</div>"
      ],
      "text/plain": [
       "                        2016-01-01                   2017-01-01  \\\n",
       "count                          199                          256   \n",
       "mean   106 days 08:01:24.643216080     183 days 21:15:55.984375   \n",
       "std    166 days 01:10:56.408254856  220 days 16:11:24.619665196   \n",
       "min                0 days 09:09:03              0 days 07:48:27   \n",
       "25%        22 days 00:19:51.500000             28 days 06:29:50   \n",
       "50%               44 days 13:46:19            112 days 19:11:46   \n",
       "75%              133 days 19:37:29     243 days 07:01:34.750000   \n",
       "max             1238 days 02:25:47           1604 days 02:25:47   \n",
       "\n",
       "                        2018-01-01                   2019-01-01  \n",
       "count                          280                          301  \n",
       "mean   273 days 17:41:24.567857144  353 days 21:48:01.026578072  \n",
       "std    310 days 04:22:23.649908268  407 days 16:10:11.135340508  \n",
       "min                1 days 06:01:17              2 days 01:44:12  \n",
       "25%        40 days 05:58:08.500000             37 days 10:07:19  \n",
       "50%              130 days 10:56:48            154 days 01:37:26  \n",
       "75%       482 days 07:40:37.500000            572 days 07:52:17  \n",
       "max             1969 days 02:25:47           2334 days 02:25:47  "
      ]
     },
     "execution_count": 47,
     "metadata": {},
     "output_type": "execute_result"
    }
   ],
   "source": [
    "updates.describe()"
   ]
  },
  {
   "cell_type": "code",
   "execution_count": 48,
   "metadata": {},
   "outputs": [],
   "source": [
    "updates_codes = updates.copy()\n",
    "for i in range(len(observations)):\n",
    "\n",
    "    updates_codes[observations[i]] = updates_codes[observations[i]].apply(\n",
    "        lambda x: x.total_seconds()//(60*60*24)\n",
    "    )\n",
    "\n",
    "    for index, row in updates_codes.iterrows():\n",
    "        # 2 Weeks\n",
    "        if row[observations[i]] <= 14:\n",
    "            updates_codes.loc[index, observations[i]] = 1\n",
    "        # 1 Month\n",
    "        elif row[observations[i]] <= 30:\n",
    "            updates_codes.loc[index, observations[i]] = 2\n",
    "        # 1 Quarter\n",
    "        elif row[observations[i]] <= 90: \n",
    "            updates_codes.loc[index, observations[i]] = 3\n",
    "        # Half a Year\n",
    "        elif row[observations[i]] <= 180:\n",
    "            updates_codes.loc[index, observations[i]] = 4\n",
    "        # 1 Year\n",
    "        elif row[observations[i]] <= 365:\n",
    "            updates_codes.loc[index, observations[i]] = 5\n",
    "        # More than 1 Year\n",
    "        elif row[observations[i]] > 365:\n",
    "            updates_codes.loc[index, observations[i]] = 6\n",
    "\n",
    "updates_codes = updates_codes[observations].astype('Int8')\n",
    "updates_codes = updates_codes[observations].astype(str)\n",
    "updates_codes.replace(to_replace='<NA>', value='NA', inplace=True)\n",
    "np.savetxt('../rsiena/data/updates-codes.txt', updates_codes[observations].values, fmt='%s')"
   ]
  },
  {
   "cell_type": "markdown",
   "metadata": {},
   "source": [
    "### Licenses"
   ]
  },
  {
   "cell_type": "code",
   "execution_count": 49,
   "metadata": {},
   "outputs": [],
   "source": [
    "licenses = pd.DataFrame(nodelist, columns=['name'])\n",
    "\n",
    "for i, obs in enumerate(observations):\n",
    "    latest_versions = get_latest_version(driver, nodelist, obs)\n",
    "    latest_licenses = get_licenses(driver, list(latest_versions['_id']))\n",
    "    licenses = licenses.merge(latest_licenses, how='outer', on=['name'])\n",
    "    \n",
    "licenses.columns = ['name'] + observations"
   ]
  },
  {
   "cell_type": "code",
   "execution_count": 50,
   "metadata": {},
   "outputs": [
    {
     "data": {
      "text/html": [
       "<div>\n",
       "<style scoped>\n",
       "    .dataframe tbody tr th:only-of-type {\n",
       "        vertical-align: middle;\n",
       "    }\n",
       "\n",
       "    .dataframe tbody tr th {\n",
       "        vertical-align: top;\n",
       "    }\n",
       "\n",
       "    .dataframe thead th {\n",
       "        text-align: right;\n",
       "    }\n",
       "</style>\n",
       "<table border=\"1\" class=\"dataframe\">\n",
       "  <thead>\n",
       "    <tr style=\"text-align: right;\">\n",
       "      <th></th>\n",
       "      <th>name</th>\n",
       "      <th>2016-01-01</th>\n",
       "      <th>2017-01-01</th>\n",
       "      <th>2018-01-01</th>\n",
       "      <th>2019-01-01</th>\n",
       "    </tr>\n",
       "  </thead>\n",
       "  <tbody>\n",
       "    <tr>\n",
       "      <th>0</th>\n",
       "      <td>@atlaskit/build-utils</td>\n",
       "      <td>NaN</td>\n",
       "      <td>NaN</td>\n",
       "      <td>Apache</td>\n",
       "      <td>Apache</td>\n",
       "    </tr>\n",
       "    <tr>\n",
       "      <th>1</th>\n",
       "      <td>@atlaskit/button</td>\n",
       "      <td>NaN</td>\n",
       "      <td>NaN</td>\n",
       "      <td>Apache</td>\n",
       "      <td>Apache</td>\n",
       "    </tr>\n",
       "    <tr>\n",
       "      <th>2</th>\n",
       "      <td>@atlaskit/docs</td>\n",
       "      <td>NaN</td>\n",
       "      <td>NaN</td>\n",
       "      <td>Apache</td>\n",
       "      <td>Apache</td>\n",
       "    </tr>\n",
       "    <tr>\n",
       "      <th>3</th>\n",
       "      <td>@atlaskit/icon</td>\n",
       "      <td>NaN</td>\n",
       "      <td>NaN</td>\n",
       "      <td>NULL</td>\n",
       "      <td>NULL</td>\n",
       "    </tr>\n",
       "    <tr>\n",
       "      <th>4</th>\n",
       "      <td>@atlaskit/theme</td>\n",
       "      <td>NaN</td>\n",
       "      <td>NaN</td>\n",
       "      <td>Apache</td>\n",
       "      <td>Apache</td>\n",
       "    </tr>\n",
       "  </tbody>\n",
       "</table>\n",
       "</div>"
      ],
      "text/plain": [
       "                    name 2016-01-01 2017-01-01 2018-01-01 2019-01-01\n",
       "0  @atlaskit/build-utils        NaN        NaN     Apache     Apache\n",
       "1       @atlaskit/button        NaN        NaN     Apache     Apache\n",
       "2         @atlaskit/docs        NaN        NaN     Apache     Apache\n",
       "3         @atlaskit/icon        NaN        NaN       NULL       NULL\n",
       "4        @atlaskit/theme        NaN        NaN     Apache     Apache"
      ]
     },
     "execution_count": 50,
     "metadata": {},
     "output_type": "execute_result"
    }
   ],
   "source": [
    "licenses.head()"
   ]
  },
  {
   "cell_type": "code",
   "execution_count": 51,
   "metadata": {},
   "outputs": [],
   "source": [
    "licenses_codes = licenses.copy()\n",
    "\n",
    "licenses_codes.replace(to_replace='NULL', value=np.nan, inplace=True)\n",
    "licenses_codes[observations] = licenses_codes[observations].apply(lambda col:pd.Categorical(col).codes)\n",
    "\n",
    "licenses_codes = licenses_codes.astype(str)\n",
    "licenses_codes.replace(to_replace='-1', value='NA', inplace=True)\n",
    "licenses_codes.replace(to_replace='4', value='5', inplace=True)\n",
    "licenses_codes.replace(to_replace='3', value='4', inplace=True)\n",
    "licenses_codes.replace(to_replace='2', value='3', inplace=True)\n",
    "licenses_codes.replace(to_replace='1', value='2', inplace=True)\n",
    "licenses_codes.replace(to_replace='0', value='1', inplace=True)\n",
    "\n",
    "\n",
    "np.savetxt('../rsiena/data/licenses-codes.txt',\n",
    "           licenses_codes[observations].values, fmt='%s')"
   ]
  },
  {
   "cell_type": "code",
   "execution_count": 55,
   "metadata": {},
   "outputs": [
    {
     "data": {
      "text/html": [
       "<div>\n",
       "<style scoped>\n",
       "    .dataframe tbody tr th:only-of-type {\n",
       "        vertical-align: middle;\n",
       "    }\n",
       "\n",
       "    .dataframe tbody tr th {\n",
       "        vertical-align: top;\n",
       "    }\n",
       "\n",
       "    .dataframe thead th {\n",
       "        text-align: right;\n",
       "    }\n",
       "</style>\n",
       "<table border=\"1\" class=\"dataframe\">\n",
       "  <thead>\n",
       "    <tr style=\"text-align: right;\">\n",
       "      <th></th>\n",
       "      <th>name</th>\n",
       "      <th>2016-01-01</th>\n",
       "      <th>2017-01-01</th>\n",
       "      <th>2018-01-01</th>\n",
       "      <th>2019-01-01</th>\n",
       "    </tr>\n",
       "  </thead>\n",
       "  <tbody>\n",
       "    <tr>\n",
       "      <th>0</th>\n",
       "      <td>@atlaskit/build-utils</td>\n",
       "      <td>NA</td>\n",
       "      <td>NA</td>\n",
       "      <td>1</td>\n",
       "      <td>1</td>\n",
       "    </tr>\n",
       "    <tr>\n",
       "      <th>1</th>\n",
       "      <td>@atlaskit/button</td>\n",
       "      <td>NA</td>\n",
       "      <td>NA</td>\n",
       "      <td>1</td>\n",
       "      <td>1</td>\n",
       "    </tr>\n",
       "    <tr>\n",
       "      <th>2</th>\n",
       "      <td>@atlaskit/docs</td>\n",
       "      <td>NA</td>\n",
       "      <td>NA</td>\n",
       "      <td>1</td>\n",
       "      <td>1</td>\n",
       "    </tr>\n",
       "    <tr>\n",
       "      <th>3</th>\n",
       "      <td>@atlaskit/icon</td>\n",
       "      <td>NA</td>\n",
       "      <td>NA</td>\n",
       "      <td>NA</td>\n",
       "      <td>NA</td>\n",
       "    </tr>\n",
       "    <tr>\n",
       "      <th>4</th>\n",
       "      <td>@atlaskit/theme</td>\n",
       "      <td>NA</td>\n",
       "      <td>NA</td>\n",
       "      <td>1</td>\n",
       "      <td>1</td>\n",
       "    </tr>\n",
       "  </tbody>\n",
       "</table>\n",
       "</div>"
      ],
      "text/plain": [
       "                    name 2016-01-01 2017-01-01 2018-01-01 2019-01-01\n",
       "0  @atlaskit/build-utils         NA         NA          1          1\n",
       "1       @atlaskit/button         NA         NA          1          1\n",
       "2         @atlaskit/docs         NA         NA          1          1\n",
       "3         @atlaskit/icon         NA         NA         NA         NA\n",
       "4        @atlaskit/theme         NA         NA          1          1"
      ]
     },
     "execution_count": 55,
     "metadata": {},
     "output_type": "execute_result"
    }
   ],
   "source": [
    "licenses_codes.head()"
   ]
  },
  {
   "cell_type": "markdown",
   "metadata": {},
   "source": [
    "### Number of Releases"
   ]
  },
  {
   "cell_type": "code",
   "execution_count": 56,
   "metadata": {},
   "outputs": [],
   "source": [
    "releases = pd.DataFrame(nodelist, columns=['name'])\n",
    "\n",
    "for i in range(len(observations)):\n",
    "    release_counts = get_releases(driver, nodelist, observations[i])\n",
    "    release_counts.columns = ['name', observations[i]]\n",
    "    releases = releases.merge(release_counts, how='outer', on=['name'])"
   ]
  },
  {
   "cell_type": "code",
   "execution_count": 57,
   "metadata": {},
   "outputs": [
    {
     "data": {
      "text/html": [
       "<div>\n",
       "<style scoped>\n",
       "    .dataframe tbody tr th:only-of-type {\n",
       "        vertical-align: middle;\n",
       "    }\n",
       "\n",
       "    .dataframe tbody tr th {\n",
       "        vertical-align: top;\n",
       "    }\n",
       "\n",
       "    .dataframe thead th {\n",
       "        text-align: right;\n",
       "    }\n",
       "</style>\n",
       "<table border=\"1\" class=\"dataframe\">\n",
       "  <thead>\n",
       "    <tr style=\"text-align: right;\">\n",
       "      <th></th>\n",
       "      <th>2016-01-01</th>\n",
       "      <th>2017-01-01</th>\n",
       "      <th>2018-01-01</th>\n",
       "      <th>2019-01-01</th>\n",
       "    </tr>\n",
       "  </thead>\n",
       "  <tbody>\n",
       "    <tr>\n",
       "      <th>count</th>\n",
       "      <td>199.000000</td>\n",
       "      <td>256.000000</td>\n",
       "      <td>280.000000</td>\n",
       "      <td>301.000000</td>\n",
       "    </tr>\n",
       "    <tr>\n",
       "      <th>mean</th>\n",
       "      <td>34.376884</td>\n",
       "      <td>40.207031</td>\n",
       "      <td>48.346429</td>\n",
       "      <td>55.534884</td>\n",
       "    </tr>\n",
       "    <tr>\n",
       "      <th>std</th>\n",
       "      <td>47.611047</td>\n",
       "      <td>48.636548</td>\n",
       "      <td>53.227159</td>\n",
       "      <td>63.142402</td>\n",
       "    </tr>\n",
       "    <tr>\n",
       "      <th>min</th>\n",
       "      <td>1.000000</td>\n",
       "      <td>1.000000</td>\n",
       "      <td>1.000000</td>\n",
       "      <td>1.000000</td>\n",
       "    </tr>\n",
       "    <tr>\n",
       "      <th>25%</th>\n",
       "      <td>9.000000</td>\n",
       "      <td>11.000000</td>\n",
       "      <td>16.000000</td>\n",
       "      <td>17.000000</td>\n",
       "    </tr>\n",
       "    <tr>\n",
       "      <th>50%</th>\n",
       "      <td>19.000000</td>\n",
       "      <td>23.000000</td>\n",
       "      <td>30.000000</td>\n",
       "      <td>36.000000</td>\n",
       "    </tr>\n",
       "    <tr>\n",
       "      <th>75%</th>\n",
       "      <td>42.000000</td>\n",
       "      <td>49.000000</td>\n",
       "      <td>58.000000</td>\n",
       "      <td>69.000000</td>\n",
       "    </tr>\n",
       "    <tr>\n",
       "      <th>max</th>\n",
       "      <td>455.000000</td>\n",
       "      <td>460.000000</td>\n",
       "      <td>468.000000</td>\n",
       "      <td>478.000000</td>\n",
       "    </tr>\n",
       "  </tbody>\n",
       "</table>\n",
       "</div>"
      ],
      "text/plain": [
       "       2016-01-01  2017-01-01  2018-01-01  2019-01-01\n",
       "count  199.000000  256.000000  280.000000  301.000000\n",
       "mean    34.376884   40.207031   48.346429   55.534884\n",
       "std     47.611047   48.636548   53.227159   63.142402\n",
       "min      1.000000    1.000000    1.000000    1.000000\n",
       "25%      9.000000   11.000000   16.000000   17.000000\n",
       "50%     19.000000   23.000000   30.000000   36.000000\n",
       "75%     42.000000   49.000000   58.000000   69.000000\n",
       "max    455.000000  460.000000  468.000000  478.000000"
      ]
     },
     "execution_count": 57,
     "metadata": {},
     "output_type": "execute_result"
    }
   ],
   "source": [
    "releases.describe()"
   ]
  },
  {
   "cell_type": "code",
   "execution_count": 58,
   "metadata": {},
   "outputs": [],
   "source": [
    "releases_codes = releases.copy()\n",
    "\n",
    "for i in range(len(observations)):\n",
    "    for index, row in releases_codes.iterrows():\n",
    "        if row[observations[i]] <= 5:\n",
    "            releases_codes.loc[index, observations[i]] = 1\n",
    "        elif row[observations[i]] <= 10:\n",
    "            releases_codes.loc[index, observations[i]] = 2\n",
    "        elif row[observations[i]] <= 20:\n",
    "            releases_codes.loc[index, observations[i]] = 3\n",
    "        elif row[observations[i]] <= 30:\n",
    "            releases_codes.loc[index, observations[i]] = 4\n",
    "        elif row[observations[i]] <= 40:\n",
    "            releases_codes.loc[index, observations[i]] = 5\n",
    "        elif row[observations[i]] <= 50: \n",
    "            releases_codes.loc[index, observations[i]] = 6\n",
    "        elif row[observations[i]] <= 60:\n",
    "            releases_codes.loc[index, observations[i]] = 7\n",
    "        elif row[observations[i]] > 60:\n",
    "            releases_codes.loc[index, observations[i]] = 8\n",
    "\n",
    "releases_codes[observations] = releases_codes[observations].astype('Int8')\n",
    "releases_codes[observations] = releases_codes[observations].astype(str)\n",
    "releases_codes.replace(to_replace='<NA>', value='NA', inplace=True)\n",
    "np.savetxt('../rsiena/data/releases-codes.txt',\n",
    "           releases_codes[observations].values, fmt='%s')\n"
   ]
  },
  {
   "cell_type": "markdown",
   "metadata": {},
   "source": [
    "### Age"
   ]
  },
  {
   "cell_type": "code",
   "execution_count": 59,
   "metadata": {},
   "outputs": [],
   "source": [
    "ages = df_created[['name', 'created']]\n",
    "\n",
    "for obs in observations:\n",
    "    ages[obs] = ages['created'].apply(\n",
    "        lambda x: datetime.datetime.strptime(obs, '%Y-%m-%d').date() - x.date())\n",
    "    ages[obs] = round(ages[obs].dt.days/365, 0)\n",
    "    ages[obs] = ages[obs].apply(lambda x : x if x > 0 else np.nan)\n",
    "\n",
    "ages[observations] = ages[observations].astype('Int8')\n",
    "ages[observations] = ages[observations].astype(str)\n",
    "\n",
    "ages.replace(to_replace='<NA>', value='NA', inplace=True)\n",
    "np.savetxt('../rsiena/data/ages.txt', ages[observations].values, fmt='%s')"
   ]
  }
 ],
 "metadata": {
  "interpreter": {
   "hash": "833eb098fc81a387e667a83821bd3bfe54e47770c4f6f3f0b07bf099c925af38"
  },
  "kernelspec": {
   "display_name": "Python 3.9.10 ('posse-data')",
   "language": "python",
   "name": "python3"
  },
  "language_info": {
   "codemirror_mode": {
    "name": "ipython",
    "version": 3
   },
   "file_extension": ".py",
   "mimetype": "text/x-python",
   "name": "python",
   "nbconvert_exporter": "python",
   "pygments_lexer": "ipython3",
   "version": "3.9.10"
  },
  "orig_nbformat": 2
 },
 "nbformat": 4,
 "nbformat_minor": 2
}
